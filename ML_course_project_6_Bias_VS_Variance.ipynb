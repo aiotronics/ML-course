{
  "nbformat": 4,
  "nbformat_minor": 0,
  "metadata": {
    "colab": {
      "name": "ML-course-project-6-Bias VS Variance.ipynb",
      "provenance": [],
      "collapsed_sections": [],
      "mount_file_id": "1ddfyGgKcCOQYsUjiLzlGvPQ5QvZzmD1B",
      "authorship_tag": "ABX9TyMrx2XFlqDoRjQ4qGo+Xdll",
      "include_colab_link": true
    },
    "kernelspec": {
      "name": "python3",
      "display_name": "Python 3"
    },
    "language_info": {
      "name": "python"
    }
  },
  "cells": [
    {
      "cell_type": "markdown",
      "metadata": {
        "id": "view-in-github",
        "colab_type": "text"
      },
      "source": [
        "<a href=\"https://colab.research.google.com/github/javadvahid/ML-course/blob/main/ML_course_project_6_Bias_VS_Variance.ipynb\" target=\"_parent\"><img src=\"https://colab.research.google.com/assets/colab-badge.svg\" alt=\"Open In Colab\"/></a>"
      ]
    },
    {
      "cell_type": "markdown",
      "source": [
        "# Bias VS Variance\n",
        "\n",
        "\n",
        "\n",
        "# Regularized Linear Regression\n",
        "\n",
        "\n",
        "\n",
        "\n",
        "در بخش اول این پروژه هدف تخمین میزان خروجی آب سد با استفاده از تغیرات سطح آب در مخزن می باشد\n",
        "\n",
        "همانطور که از صورت پروژه مشخص هست، باید از رگرسیون خطی برای حل این مسئله استفاده کنیم\n",
        "\n",
        "\n",
        "\n",
        ":مشخصات دیتا\n",
        "\n",
        "دیتای ورودی : سطح آب\n",
        "\n",
        "\n",
        "دیتای خروجی : میزان خروجی\n",
        "\n"
      ],
      "metadata": {
        "id": "kBOiSfZXZ_o7"
      }
    },
    {
      "cell_type": "code",
      "execution_count": null,
      "metadata": {
        "id": "74Jx5VbWYw6a"
      },
      "outputs": [],
      "source": [
        "#load data set from project6data1.mat file\n",
        "#ذخیره شده است .mat دیتاست این پروژه در یک فایل با فرمت \n",
        "#first upload project6data1.mat to colab\n",
        "#ابتدا فایل مربوطه را در این محیط آپلود کرده\n",
        "#load the .mat file using scipy library\n",
        "#تصاویر را در یک متغیر لود می کنیم scipy با استفاده از کتابخانه \n",
        "import numpy as np\n",
        "from scipy.io import loadmat\n",
        "\n",
        "data = loadmat('/content/project6data1.mat')\n",
        "\n"
      ]
    },
    {
      "cell_type": "code",
      "source": [
        "data.keys()"
      ],
      "metadata": {
        "id": "8X4M5YWCicXy"
      },
      "execution_count": null,
      "outputs": []
    },
    {
      "cell_type": "code",
      "source": [
        "#split the data into X, Y, Xtest, Ytest, Xval, Yval\n",
        "#داده ها ی ورودی و خروجی را در دو متغیر جدا میریزیم\n",
        "#training input\n",
        "X = data['X']\n",
        "#training output\n",
        "Y = data['y']\n",
        "#test input\n",
        "Xtest = data['Xtest']\n",
        "#test output\n",
        "Ytest = data['ytest']\n",
        "#cross validation input\n",
        "Xval = data['Xval']\n",
        "#cross validation output\n",
        "Yval = data['yval']\n",
        "#find m\n",
        "m = Y.shape[0]\n",
        "mval = Yval.shape[0]\n",
        "mtest = Ytest.shape[0]\n",
        "print(m, mval, mtest)"
      ],
      "metadata": {
        "id": "6R6Ye28TuqJ5"
      },
      "execution_count": null,
      "outputs": []
    },
    {
      "cell_type": "code",
      "source": [
        "print(X.shape, Y.shape)"
      ],
      "metadata": {
        "id": "QYan-BsUXtF7"
      },
      "execution_count": null,
      "outputs": []
    },
    {
      "cell_type": "markdown",
      "source": [
        "# Data Visualization:\n",
        "\n",
        "# نمایش داده ها"
      ],
      "metadata": {
        "id": "cBA2IJcIle0i"
      }
    },
    {
      "cell_type": "code",
      "source": [
        "import matplotlib.pyplot as plt\n",
        "plt.plot(X, Y, 'ro', ms=10, mec='k')"
      ],
      "metadata": {
        "colab": {
          "base_uri": "https://localhost:8080/",
          "height": 282
        },
        "id": "lRE7lDpRFriF",
        "outputId": "b3c90bc7-3174-46c2-886c-def85355384d"
      },
      "execution_count": null,
      "outputs": [
        {
          "output_type": "execute_result",
          "data": {
            "text/plain": [
              "[<matplotlib.lines.Line2D at 0x7f4edb46de50>]"
            ]
          },
          "metadata": {},
          "execution_count": 6
        },
        {
          "output_type": "display_data",
          "data": {
            "text/plain": [
              "<Figure size 432x288 with 1 Axes>"
            ],
            "image/png": "[encoded data removed]"
          },
          "metadata": {
            "needs_background": "light"
          }
        }
      ]
    },
    {
      "cell_type": "markdown",
      "source": [
        "# creating X and Y matrices with the right dimensions as shown in the slide\n",
        "\n",
        "# دقیقا به صورتی که در اسلاید زیر نمایش داده شده است X,Y ایجاد ماتریس\n",
        "\n",
        "<p align=\"center\" width=\"100%\">\n",
        "    <img width=\"50%\" src=\"https://drive.google.com/uc?id=1wlGw9Mm6WJge83NeAtrn6jokvE6iShfU\">\n",
        "</p>"
      ],
      "metadata": {
        "id": "uny3m8f1NMYM"
      }
    },
    {
      "cell_type": "code",
      "source": [
        "#Convert dimension of input data from (m, n) to (n, m)\n",
        "#train data\n",
        "X_ = np.transpose(X)\n",
        "print(X_.shape)\n",
        "\n",
        "#validation data\n",
        "Xval_ = np.transpose(Xval)\n",
        "print(Xval_.shape)\n",
        "\n",
        "#test data\n",
        "Xtest_ = np.transpose(Xtest)\n",
        "print(Xtest_.shape)"
      ],
      "metadata": {
        "id": "8oQBM6czX3U2",
        "colab": {
          "base_uri": "https://localhost:8080/"
        },
        "outputId": "38b9b852-515f-41a9-e618-364b34a75823"
      },
      "execution_count": null,
      "outputs": [
        {
          "output_type": "stream",
          "name": "stdout",
          "text": [
            "(1, 12)\n",
            "(1, 21)\n",
            "(1, 21)\n"
          ]
        }
      ]
    },
    {
      "cell_type": "code",
      "source": [
        "#Convert dimension of outputs from (m, 1) to (1, m)\n",
        "Y_ = np.transpose(Y)\n",
        "print(Y_.shape)\n",
        "\n",
        "Yval_ = np.transpose(Yval)\n",
        "print(Yval_.shape)\n",
        "\n",
        "Ytest_ = np.transpose(Ytest)\n",
        "print(Ytest_.shape)"
      ],
      "metadata": {
        "id": "7PYU6ii1ngSV",
        "colab": {
          "base_uri": "https://localhost:8080/"
        },
        "outputId": "e05ad3da-5f95-47b0-c8c3-b6901d966398"
      },
      "execution_count": null,
      "outputs": [
        {
          "output_type": "stream",
          "name": "stdout",
          "text": [
            "(1, 12)\n",
            "(1, 21)\n",
            "(1, 21)\n"
          ]
        }
      ]
    },
    {
      "cell_type": "code",
      "source": [
        "#add x0=1 to all the data \n",
        "#به همه داده ها x0=1 اضافه کردن \n",
        "X_ = np.concatenate([np.ones((1, m)), X_], axis=0)\n",
        "print(X_.shape)\n",
        "\n",
        "Xval_ = np.concatenate([np.ones((1, mval)), Xval_], axis=0)\n",
        "print(Xval_.shape)\n",
        "\n",
        "Xtest_ = np.concatenate([np.ones((1, mtest)), Xtest_], axis=0)\n",
        "print(Xtest_.shape)"
      ],
      "metadata": {
        "id": "aBnkQbn4l_lM",
        "colab": {
          "base_uri": "https://localhost:8080/"
        },
        "outputId": "a837de7f-ced2-48b2-aa50-ebaa2aacd1d8"
      },
      "execution_count": null,
      "outputs": [
        {
          "output_type": "stream",
          "name": "stdout",
          "text": [
            "(2, 12)\n",
            "(2, 21)\n",
            "(2, 21)\n"
          ]
        }
      ]
    },
    {
      "cell_type": "markdown",
      "source": [
        "# **Cost Function with Regularization: implementation**\n",
        "\n",
        "# پیاده سازی تابع هزینه \n",
        "\n",
        "\n",
        "\n",
        "\n",
        "\n",
        "---\n",
        "# First method: simple implementation using for loop as shown in the slide below\n",
        "\n",
        "روش اول: پیاده سازی ساده با استفاده از حلقه به صورت نشان داده شده در اسلاید زیر\n",
        "\n",
        "\n",
        "<p align=\"center\" width=\"100%\">\n",
        "    <img width=\"80%\" src=\"https://drive.google.com/uc?id=1_wgKFErdsV5O2LmK7jeN1couzGmIqcph\">\n",
        "</p>\n",
        "\n",
        "\n",
        "\n",
        "---\n",
        "# Second method: vectorized implementation \n",
        "\n",
        "# روش دوم: پیاده سازی به صورت برداری\n",
        "\n",
        "\n",
        "<p align=\"center\" width=\"100%\">\n",
        "    <img width=\"80%\" src=\"https://drive.google.com/uc?id=1nnKKgWVvh6UiKyJrl0TZcjC9r1DV3Y8P\">\n",
        "</p>\n",
        "\n",
        "\n"
      ],
      "metadata": {
        "id": "0DZgy-_l6ZBe"
      }
    },
    {
      "cell_type": "code",
      "source": [
        "#create a function for computing cost J\n",
        "#تابعی بنویسید که تابع هزینه را محاسبه کند به صورت برداری\n",
        "def computeCostWithReg(X, Y, thetatemp, lambda_):\n",
        "  #find m\n",
        "  m = X.shape[1]\n",
        "\n",
        "  temp = np.matmul(np.transpose(thetatemp), X) - Y\n",
        "\n",
        "  cost = np.matmul(temp, np.transpose(temp)) / (2*m)\n",
        "  \n",
        "  costWithReg = cost + (lambda_/(2*m)) * np.matmul(np.transpose(thetatemp[1:]), thetatemp[1:])\n",
        "\n",
        "  return costWithReg\n"
      ],
      "metadata": {
        "id": "m1Ahl4JN6ZBe"
      },
      "execution_count": null,
      "outputs": []
    },
    {
      "cell_type": "code",
      "source": [
        "#initialize theta to a zero vector of shape (X.shape[0],1)>>> np.zeros((X.shape[0],1))\n",
        "#انتخاب تتای اولیه به صورت گفته شده \n",
        "theta = np.ones((X_.shape[0], 1))\n",
        "\n",
        "#use the function you created to compute cost for initialized theta\n",
        "costWithReg = computeCostWithReg(X_, Y_, theta, lambda_=1)\n",
        "print(\"initial cost is:\", costWithReg)"
      ],
      "metadata": {
        "colab": {
          "base_uri": "https://localhost:8080/"
        },
        "outputId": "b07cca16-ed24-410f-97b4-f4417db071c0",
        "id": "-b_pO7SQ6ZBf"
      },
      "execution_count": null,
      "outputs": [
        {
          "output_type": "stream",
          "name": "stdout",
          "text": [
            "initial cost is: [[303.99319222]]\n"
          ]
        }
      ]
    },
    {
      "cell_type": "markdown",
      "source": [
        "پاسخ صحیح در صورت پیاده سازی درست  [[303.99]]"
      ],
      "metadata": {
        "id": "mu_SjIXv6ZBf"
      }
    },
    {
      "cell_type": "markdown",
      "source": [
        "# **Gradient Descent with Regularization: implementation**\n",
        "\n",
        "#  پیاده سازی کاهش گرادیان همراه با مقید سازی \n",
        "\n",
        "\n",
        "\n",
        "\n",
        "\n",
        "---\n",
        "# First method: simple implementation using for loop as shown in the slide below\n",
        "\n",
        "# روش اول: پیاده سازی ساده با استفاده از حلقه به صورت نشان داده شده در اسلاید زیر\n",
        "\n",
        "\n",
        "<p align=\"center\" width=\"100%\">\n",
        "    <img width=\"80%\" src=\"https://drive.google.com/uc?id=1tFnRJ5d7Bqdf1n_TU60ico94s-Q9uMnE\">\n",
        "</p>\n",
        "\n",
        "\n",
        "\n",
        "---\n",
        "# Second method: vectorized implementation \n",
        "\n",
        "# روش دوم: پیاده سازی به صورت برداری\n",
        "\n",
        "\n",
        "<p align=\"center\" width=\"100%\">\n",
        "    <img width=\"80%\" src=\"https://drive.google.com/uc?id=15mcAS8NkkB55pAJbfLBHG39MO2WD67Qn\">\n",
        "</p>\n",
        "\n",
        "\n"
      ],
      "metadata": {
        "id": "0MKQ98iP6ZBf"
      }
    },
    {
      "cell_type": "code",
      "source": [
        "#create a function for gradient descent with regularization\n",
        "#\n",
        "def gradientDescentWithReg(X, Y, thetatemp, lr, epochs, lambda_):\n",
        "  m = X.shape[1]\n",
        "  print(m)\n",
        "  J_history = []\n",
        "  for epoch in range(epochs):\n",
        "    thetatempreg = thetatemp.copy()\n",
        "    thetatempreg[0,0] = 0\n",
        "    #print(\"thetatemp\", thetatemp[:,0])\n",
        "    #print(\"thetatempreg\",thetatempreg[:,0])\n",
        "    \n",
        "    h = np.matmul(np.transpose(thetatemp), X)\n",
        "    temp = np.transpose(h - Y)\n",
        "    thetatemp = thetatemp - (lr/m) * (np.matmul(X, temp) + lambda_ * thetatempreg)\n",
        "    if(epoch==0):\n",
        "      grad = (1/m) * (np.matmul(X, temp) + lambda_ * thetatempreg)  \n",
        "    J_history.append(computeCostWithReg(X, Y, thetatemp, lambda_)[0, 0])\n",
        "\n",
        "  return thetatemp, J_history, grad"
      ],
      "metadata": {
        "id": "nicY07Lg6ZBf"
      },
      "execution_count": null,
      "outputs": []
    },
    {
      "cell_type": "code",
      "source": [
        "\n",
        "#initialize theta and train linear regression\n",
        "#انتخاب مقادیر اولیه 0 برای تتا\n",
        "theta = np.ones((X_.shape[0], 1))\n",
        "\n",
        "#set epochs and learning rate\n",
        "#مقدار دهی برای نرخ یادگیری، تعداد تکرار\n",
        "epochs = 1000\n",
        "lr = 0.001\n",
        "#run gradientDescent and print theta and last cost\n",
        "\n",
        "thetanew, J_history, gradtest = gradientDescentWithReg(X_, Y_, theta, lr, epochs, 1)\n",
        "#print theta\n",
        "#print(thetanew)\n",
        "\n",
        "#print first epoch grad\n",
        "print(gradtest)\n",
        "#print last cost >>> J_history[-1]\n",
        "print(\"last cost: \", J_history[-1])\n",
        "\n",
        "\n"
      ],
      "metadata": {
        "colab": {
          "base_uri": "https://localhost:8080/"
        },
        "outputId": "ae8f1133-97a6-4ca6-ae06-d6510ca9ffc8",
        "id": "pTN5tmmT6ZBf"
      },
      "execution_count": null,
      "outputs": [
        {
          "output_type": "stream",
          "name": "stdout",
          "text": [
            "12\n",
            "[[-15.30301567]\n",
            " [598.25074417]]\n",
            "last cost:  32.55165315223135\n"
          ]
        }
      ]
    },
    {
      "cell_type": "code",
      "source": [
        "print(J_history)"
      ],
      "metadata": {
        "id": "xtwsT0BCv-CW"
      },
      "execution_count": null,
      "outputs": []
    },
    {
      "cell_type": "code",
      "source": [
        "#  Plot fit over the data\n",
        "plt.plot(X_[1:, :], Y_, 'ro', ms=10, mec='k', mew=1.5)\n",
        "plt.xlabel('Change in water level (x)')\n",
        "plt.ylabel('Water flowing out of the dam (y)')\n",
        "plt.plot(X_[1,:], np.matmul(thetanew.T, X_)[0,:], '--', lw=2);\n",
        "\n"
      ],
      "metadata": {
        "colab": {
          "base_uri": "https://localhost:8080/",
          "height": 279
        },
        "id": "-OZhInCg77qi",
        "outputId": "7efb0176-9a85-4a30-abbc-eb32d9164e16"
      },
      "execution_count": null,
      "outputs": [
        {
          "output_type": "display_data",
          "data": {
            "text/plain": [
              "<Figure size 432x288 with 1 Axes>"
            ],
            "image/png": "[encoded data removed]"
          },
          "metadata": {
            "needs_background": "light"
          }
        }
      ]
    },
    {
      "cell_type": "markdown",
      "source": [
        "# Bias VS Variance\n",
        "\n",
        "\n",
        "# Learningcurves :\n",
        "\n",
        "در این بخش با رسم منحنی های یادگیری میتونیم مشکل مدل را تشخیص بدیم و برای بهبود آن اقدام کنیم\n",
        "\n",
        "\n",
        "<p align=\"center\" width=\"100%\">\n",
        "    <img width=\"80%\" src=\"https://drive.google.com/uc?id=1Zt6_BPu4UfnLgmkyENSTidQ2qYAHeOqY\">\n",
        "</p>\n",
        "\n"
      ],
      "metadata": {
        "id": "PkrzKIGJ36nE"
      }
    },
    {
      "cell_type": "code",
      "source": [
        "#create a function for learning curves\n",
        "def learningCurve(X, Y, Xval, Yval, lambda_):\n",
        "  #find m\n",
        "\n",
        "  #create arrays for saving train and cross validation error\n",
        "  train_error = np.zeros(m)\n",
        "  val_error = np.zeros(m)\n",
        "\n",
        "  #create a loop to compute train_error and val_error for different m \n",
        "  for i in range(1, m+1):\n",
        "    theta = np.zeros((X.shape[0], 1))\n",
        "    epochs = 100000\n",
        "    lr = 0.001\n",
        "    thetanew, J_history, gradtest = gradientDescentWithReg(X[:,:i], Y[:,:i], theta, lr, epochs, lambda_)\n",
        "\n",
        "    train_error[i-1] = computeCostWithReg(X[:, :i], Y[:, :i], thetanew, 0)\n",
        "    val_error[i-1] = computeCostWithReg(Xval, Yval, thetanew, 0)\n",
        "\n",
        "  return train_error, val_error  \n"
      ],
      "metadata": {
        "id": "rkGLb6DKQUEw"
      },
      "execution_count": null,
      "outputs": []
    },
    {
      "cell_type": "code",
      "source": [
        "J_train, J_cv = learningCurve(X_, Y_, Xval_, Yval_, lambda_=1)\n",
        "\n",
        "plt.plot(np.arange(1, m+1), J_train, np.arange(1, m+1), J_cv, lw=2)\n",
        "plt.title('Learning curve for linear regression')\n",
        "plt.legend(['Train', 'Cross Validation'])\n",
        "plt.xlabel('Number of training examples')\n",
        "plt.ylabel('Error')\n",
        "plt.axis([0, 13, 0, 150])\n",
        "\n",
        "print('# Training Examples\\tTrain Error\\tCross Validation Error')\n",
        "for i in range(m):\n",
        "    print('  \\t%d\\t\\t%f\\t%f' % (i+1, J_train[i], J_cv[i]))"
      ],
      "metadata": {
        "colab": {
          "base_uri": "https://localhost:8080/",
          "height": 729
        },
        "id": "NFx38onNW9dd",
        "outputId": "b39a2e49-b8eb-4170-876c-2b4050ed274d"
      },
      "execution_count": null,
      "outputs": [
        {
          "output_type": "stream",
          "name": "stdout",
          "text": [
            "1\n",
            "2\n",
            "3\n",
            "4\n",
            "5\n",
            "6\n",
            "7\n",
            "8\n",
            "9\n",
            "10\n",
            "11\n",
            "12\n",
            "# Training Examples\tTrain Error\tCross Validation Error\n",
            "  \t1\t\t0.000016\t181.603572\n",
            "  \t2\t\t0.000016\t110.667776\n",
            "  \t3\t\t3.286615\t44.971999\n",
            "  \t4\t\t2.842689\t48.338954\n",
            "  \t5\t\t13.154052\t35.858531\n",
            "  \t6\t\t19.443965\t33.822654\n",
            "  \t7\t\t20.098524\t31.965551\n",
            "  \t8\t\t18.172860\t30.858614\n",
            "  \t9\t\t22.609407\t31.132841\n",
            "  \t10\t\t23.261462\t28.935174\n",
            "  \t11\t\t24.317250\t29.551049\n",
            "  \t12\t\t22.373907\t29.433177\n"
          ]
        },
        {
          "output_type": "display_data",
          "data": {
            "text/plain": [
              "<Figure size 432x288 with 1 Axes>"
            ],
            "image/png": "[encoded data removed]"
          },
          "metadata": {
            "needs_background": "light"
          }
        }
      ]
    },
    {
      "cell_type": "code",
      "source": [
        "print(J_cv)"
      ],
      "metadata": {
        "id": "kGhba9S0X5xG"
      },
      "execution_count": null,
      "outputs": []
    },
    {
      "cell_type": "code",
      "source": [
        "#create a function for making polynomial features\n",
        "#remember this function uses original data befor reshaping\n",
        "def polyFeatures(X, p):\n",
        "    \n",
        "\n",
        "    X_poly = np.zeros((X.shape[0], p))\n",
        "\n",
        "    for i in range(p):\n",
        "        X_poly[:, i] = X[:, 0] ** (i + 1)\n",
        "\n",
        "    return X_poly"
      ],
      "metadata": {
        "id": "F_cKIjkw2BHm"
      },
      "execution_count": null,
      "outputs": []
    },
    {
      "cell_type": "code",
      "source": [
        "X_poly = polyFeatures(X, 8)\n",
        "X_poly_val = polyFeatures(Xval, 8)\n",
        "X_poly_test = polyFeatures(Xtest, 8)\n",
        "\n",
        "print(X_poly.shape, X_poly_val.shape, X_poly_test.shape)"
      ],
      "metadata": {
        "id": "MX-C9_1llzC-",
        "colab": {
          "base_uri": "https://localhost:8080/"
        },
        "outputId": "a6ab8bc5-fac0-4bdc-9471-4505574a41b5"
      },
      "execution_count": null,
      "outputs": [
        {
          "output_type": "stream",
          "name": "stdout",
          "text": [
            "(12, 8) (21, 8) (21, 8)\n"
          ]
        }
      ]
    },
    {
      "cell_type": "code",
      "source": [
        "X_poly[:,1]"
      ],
      "metadata": {
        "id": "7WV472chzAvO"
      },
      "execution_count": null,
      "outputs": []
    },
    {
      "cell_type": "code",
      "source": [
        "X[:,0]"
      ],
      "metadata": {
        "id": "kzGIpEsuzH-i"
      },
      "execution_count": null,
      "outputs": []
    },
    {
      "cell_type": "code",
      "source": [
        "\n",
        "def featureNormalize(X):\n",
        "  X_norm = X.copy()\n",
        "  mean = np.mean(X_norm, axis=0)\n",
        "  range1 = np.max(X_norm, axis=0) - np.min(X_norm, axis=0)\n",
        "  #we can also use standard deviation (sigma) instead of range = max - min\n",
        "  #sigma = np.std(X_norm, axis=0)\n",
        "\n",
        "  X_norm = (X_norm - mean)/(range1)\n",
        "  #X_norm = (X_norm - mean)/(sigma)\n",
        "  \n",
        "  return X_norm, mean, range1"
      ],
      "metadata": {
        "id": "Q4LI3vNxcB7e"
      },
      "execution_count": null,
      "outputs": []
    },
    {
      "cell_type": "code",
      "source": [
        "#check to see if we need feature normalization\n",
        "X_poly[0,:]"
      ],
      "metadata": {
        "id": "e8a_4te-mNJE"
      },
      "execution_count": null,
      "outputs": []
    },
    {
      "cell_type": "code",
      "source": [
        "X_poly.shape"
      ],
      "metadata": {
        "id": "rPQPeTgmBWZF"
      },
      "execution_count": null,
      "outputs": []
    },
    {
      "cell_type": "code",
      "source": [
        "#apply feature normalization to data\n",
        "#input shape must be (m x n) for feature normalize function to work properly\n",
        "#\n",
        "X_poly_norm, mean, range1 = featureNormalize(X_poly)\n",
        "\n",
        "\n",
        "X_poly_normv = X_poly_val - mean\n",
        "X_poly_normv /= range1\n",
        "\n",
        "\n",
        "X_poly_normt = X_poly_test - mean\n",
        "X_poly_normt /= range1\n",
        "\n",
        "\n"
      ],
      "metadata": {
        "id": "YT0oERu0nenb"
      },
      "execution_count": null,
      "outputs": []
    },
    {
      "cell_type": "code",
      "source": [
        "print(X_poly_norm.shape)\n",
        "print(X_poly_normv.shape)\n",
        "print(X_poly_normt.shape)"
      ],
      "metadata": {
        "colab": {
          "base_uri": "https://localhost:8080/"
        },
        "id": "naeKgPzsKm35",
        "outputId": "422ddacb-6fb0-4054-c3e7-d04db068d523"
      },
      "execution_count": null,
      "outputs": [
        {
          "output_type": "stream",
          "name": "stdout",
          "text": [
            "(12, 8)\n",
            "(21, 8)\n",
            "(21, 8)\n"
          ]
        }
      ]
    },
    {
      "cell_type": "code",
      "source": [
        "#Convert dimension of input data from (m, n) to (n, m)\n",
        "#train data\n",
        "X_poly_norm_ = np.transpose(X_poly_norm)\n",
        "print(X_poly_norm_.shape)\n",
        "\n",
        "#validation data\n",
        "X_poly_normv_ = np.transpose(X_poly_normv)\n",
        "print(X_poly_normv_.shape)\n",
        "\n",
        "#test data\n",
        "X_poly_normt_ = np.transpose(X_poly_normt)\n",
        "print(X_poly_normt_.shape)"
      ],
      "metadata": {
        "colab": {
          "base_uri": "https://localhost:8080/"
        },
        "outputId": "0f428d59-d91c-4d0d-a1f4-0b259725db56",
        "id": "fUcI-E08Di9i"
      },
      "execution_count": null,
      "outputs": [
        {
          "output_type": "stream",
          "name": "stdout",
          "text": [
            "(8, 12)\n",
            "(8, 21)\n",
            "(8, 21)\n"
          ]
        }
      ]
    },
    {
      "cell_type": "code",
      "source": [
        "#Convert dimension of outputs from (m, 1) to (1, m)\n",
        "Y_ = np.transpose(Y)\n",
        "print(Y_.shape)\n",
        "\n",
        "Yval_ = np.transpose(Yval)\n",
        "print(Yval_.shape)\n",
        "\n",
        "Ytest_ = np.transpose(Ytest)\n",
        "print(Ytest_.shape)"
      ],
      "metadata": {
        "colab": {
          "base_uri": "https://localhost:8080/"
        },
        "outputId": "c1efc0eb-e422-4c0f-ab05-3ef5de9636af",
        "id": "lmuGXL8uDi9q"
      },
      "execution_count": null,
      "outputs": [
        {
          "output_type": "stream",
          "name": "stdout",
          "text": [
            "(1, 12)\n",
            "(1, 21)\n",
            "(1, 21)\n"
          ]
        }
      ]
    },
    {
      "cell_type": "code",
      "source": [
        "#add x0=1 to all the data \n",
        "#به همه داده ها x0=1 اضافه کردن \n",
        "X_poly_norm_ = np.concatenate([np.ones((1, m)), X_poly_norm_], axis=0)\n",
        "print(X_poly_norm_.shape)\n",
        "\n",
        "X_poly_normv_ = np.concatenate([np.ones((1, mval)), X_poly_normv_], axis=0)\n",
        "print(X_poly_normv_.shape)\n",
        "\n",
        "X_poly_normt_ = np.concatenate([np.ones((1, mtest)), X_poly_normt_], axis=0)\n",
        "print(X_poly_normt_.shape)"
      ],
      "metadata": {
        "colab": {
          "base_uri": "https://localhost:8080/"
        },
        "outputId": "55ee02a9-d49e-49cc-9f57-c62b9912cd1d",
        "id": "mkWSTraEn6wj"
      },
      "execution_count": null,
      "outputs": [
        {
          "output_type": "stream",
          "name": "stdout",
          "text": [
            "(9, 12)\n",
            "(9, 21)\n",
            "(9, 21)\n"
          ]
        }
      ]
    },
    {
      "cell_type": "code",
      "source": [
        "\n",
        "#initialize theta and train linear regression\n",
        "#انتخاب مقادیر اولیه 0 برای تتا\n",
        "theta = np.ones((X_poly_norm_.shape[0], 1))\n",
        "\n",
        "#set epochs and learning rate\n",
        "#مقدار دهی برای نرخ یادگیری، تعداد تکرار\n",
        "epochs = 50000\n",
        "lr = 0.003\n",
        "#run gradientDescent and print theta and last cost\n",
        "\n",
        "thetanew, J_history, gradtest = gradientDescentWithReg(X_poly_norm_, Y_, theta, lr, epochs, lambda_=0)\n",
        "#print theta\n",
        "#print(thetanew)\n",
        "\n",
        "#print first epoch grad\n",
        "print(gradtest)\n",
        "#print last cost >>> J_history[-1]\n",
        "print(\"last cost: \", J_history[-1])\n",
        "\n",
        "\n"
      ],
      "metadata": {
        "colab": {
          "base_uri": "https://localhost:8080/"
        },
        "outputId": "4969cc22-cd1a-4b97-eb97-b8fe3f6288c0",
        "id": "H0hmBFpCLhS2"
      },
      "execution_count": null,
      "outputs": [
        {
          "output_type": "stream",
          "name": "stdout",
          "text": [
            "12\n",
            "[[-10.21758933]\n",
            " [ -3.39693417]\n",
            " [ -0.44731864]\n",
            " [ -2.38393571]\n",
            " [  0.13530747]\n",
            " [ -1.8589532 ]\n",
            " [  0.48272369]\n",
            " [ -1.52762138]\n",
            " [  0.67954436]]\n",
            "last cost:  1.1776222300923562\n"
          ]
        }
      ]
    },
    {
      "cell_type": "code",
      "source": [
        "print(min(J_history))"
      ],
      "metadata": {
        "id": "xCJYX_WQB2kc"
      },
      "execution_count": null,
      "outputs": []
    },
    {
      "cell_type": "code",
      "source": [
        "#  Plot fit over the data\n",
        "plt.plot(X_[1:, :], Y_, 'ro', ms=10, mec='k', mew=1.5)\n",
        "plt.xlabel('Change in water level (x)')\n",
        "plt.ylabel('Water flowing out of the dam (y)')\n",
        "plt.plot(X_[1, :], np.matmul(thetanew.T, X_poly_norm_)[0,:], 'ko');\n",
        "\n"
      ],
      "metadata": {
        "colab": {
          "base_uri": "https://localhost:8080/",
          "height": 279
        },
        "outputId": "001fdbf6-7d3f-4f80-df46-f056271721f4",
        "id": "SZ7zN1OqLhTD"
      },
      "execution_count": null,
      "outputs": [
        {
          "output_type": "display_data",
          "data": {
            "text/plain": [
              "<Figure size 432x288 with 1 Axes>"
            ],
            "image/png": "[encoded data removed]"
          },
          "metadata": {
            "needs_background": "light"
          }
        }
      ]
    },
    {
      "cell_type": "code",
      "source": [
        "#plotfit\n",
        "def plotFit(polyFeatures, min_x, max_x, mean, range1, theta, p):\n",
        "\n",
        "    x = np.arange(min_x - 15, max_x + 45, 0.05).reshape(-1, 1)\n",
        "    print(x.shape)\n",
        "    \n",
        "    # Map the X values\n",
        "    X_poly = polyFeatures(x, p)\n",
        "    X_poly -= mean\n",
        "    X_poly /= range1\n",
        "    print(X_poly.shape)\n",
        "    X_poly = X_poly.T\n",
        "    print(X_poly.shape)\n",
        "    # Add ones\n",
        "    X_poly = np.concatenate([np.ones((1, X_poly.shape[1])), X_poly], axis=0)\n",
        "\n",
        "    # Plot\n",
        "    plt.plot(x, np.matmul(theta.T, X_poly)[0,:], '--', lw=2)\n",
        "    plt.xlim(-80, 80)\n",
        "    plt.ylim(-60, 50)"
      ],
      "metadata": {
        "id": "L4jqeGoNW3OS"
      },
      "execution_count": null,
      "outputs": []
    },
    {
      "cell_type": "code",
      "source": [
        "min_x = np.min(X_[1,:])\n",
        "max_x = np.max(X_[1,:])\n",
        "#  Plot fit over the data\n",
        "plt.plot(X_[1:, :], Y_, 'ro', ms=10, mec='k', mew=1.5)\n",
        "plt.xlabel('Change in water level (x)')\n",
        "plt.ylabel('Water flowing out of the dam (y)')\n",
        "plotFit(polyFeatures, min_x, max_x, mean, range1, thetanew, 8)"
      ],
      "metadata": {
        "colab": {
          "base_uri": "https://localhost:8080/",
          "height": 331
        },
        "id": "zNSYAYJgYU7R",
        "outputId": "581847a5-60c5-45eb-ea8b-592cdd4d082a"
      },
      "execution_count": null,
      "outputs": [
        {
          "output_type": "stream",
          "name": "stdout",
          "text": [
            "(2912, 1)\n",
            "(2912, 8)\n",
            "(8, 2912)\n"
          ]
        },
        {
          "output_type": "display_data",
          "data": {
            "text/plain": [
              "<Figure size 432x288 with 1 Axes>"
            ],
            "image/png": "[encoded data removed]"
          },
          "metadata": {
            "needs_background": "light"
          }
        }
      ]
    },
    {
      "cell_type": "code",
      "source": [
        "\n",
        "#model selection using different lambdas\n",
        "def valCurve(X, Y, Xval, Yval, costfunction):   \n",
        "  #create multiple choices for\n",
        "  lambda_vec = [0, 0.001, 0.003, 0.01, 0.03, 0.1, 0.3, 0.4, 0.6, 1]\n",
        "  error_train = np.zeros(len(lambda_vec))\n",
        "  error_val = np.zeros(len(lambda_vec))\n",
        "  \n",
        "  for i in range(len(lambda_vec)):\n",
        "    theta1 = np.ones((X.shape[0], 1))\n",
        "    epochs = 500000\n",
        "    lr = 0.003\n",
        "    thetanew1, J_history, gradtest = gradientDescentWithReg(X, Y, theta1, lr, epochs, lambda_=lambda_vec[i])\n",
        "    error_train[i] = costfunction(X, Y, thetanew1, lambda_=0)\n",
        "    error_val[i] = costfunction(Xval, Yval, thetanew1, lambda_=0)\n",
        "    print(\"train error\", error_train[i])\n",
        "    print(\"val error\", error_val[i])\n",
        "    print(J_history[-1])\n",
        "  return lambda_vec, error_train, error_val"
      ],
      "metadata": {
        "id": "ng073_G4NFYq"
      },
      "execution_count": null,
      "outputs": []
    },
    {
      "cell_type": "code",
      "source": [
        "print(X_poly_normv_.shape)\n",
        "lambda_vec, J_train, J_cv = valCurve(X_poly_norm_, Y_, X_poly_normv_, Yval_, computeCostWithReg)"
      ],
      "metadata": {
        "colab": {
          "base_uri": "https://localhost:8080/"
        },
        "id": "eHbZe7l1PvEi",
        "outputId": "b0a62ae8-be00-42ad-f1b5-5459f12b55a8"
      },
      "execution_count": null,
      "outputs": [
        {
          "output_type": "stream",
          "name": "stdout",
          "text": [
            "(9, 21)\n",
            "12\n",
            "train error 0.31408855416301035\n",
            "val error 11.651451150942272\n",
            "0.31408855416301035\n",
            "12\n",
            "train error 0.32246340001005147\n",
            "val error 11.010046151164516\n",
            "0.426559356144174\n",
            "12\n",
            "train error 0.344147623735574\n",
            "val error 9.90594690510113\n",
            "0.6387544673489637\n",
            "12\n",
            "train error 0.4501511800577512\n",
            "val error 7.364157581236702\n",
            "1.2865304665896706\n",
            "12\n",
            "train error 0.796288609809504\n",
            "val error 4.891666092809964\n",
            "2.7451344108725473\n",
            "12\n",
            "train error 1.7108247726564911\n",
            "val error 3.971030081399649\n",
            "6.573486627956686\n",
            "12\n",
            "train error 4.162438750792981\n",
            "val error 3.4172947362466353\n",
            "14.784555631689619\n",
            "12\n",
            "train error 5.583882436116228\n",
            "val error 3.6757422331378384\n",
            "18.11388433334543\n",
            "12\n",
            "train error 8.625003202115343\n",
            "val error 5.084660593223865\n",
            "23.72730671218728\n",
            "12\n",
            "train error 14.686704303829679\n",
            "val error 9.671422433912882\n",
            "32.09443941029495\n"
          ]
        }
      ]
    },
    {
      "cell_type": "code",
      "source": [
        "plt.plot(lambda_vec, J_train, '-o', lambda_vec, J_cv, '-o', lw=2)\n",
        "plt.legend(['Train', 'Cross Validation'])\n",
        "plt.xlabel('lambda')\n",
        "plt.ylabel('Error')\n",
        "\n",
        "print('lambda\\t\\tTrain Error\\tValidation Error')\n",
        "for i in range(len(lambda_vec)):\n",
        "    print(' %f\\t%f\\t%f' % (lambda_vec[i], J_train[i], J_cv[i]))"
      ],
      "metadata": {
        "colab": {
          "base_uri": "https://localhost:8080/",
          "height": 470
        },
        "id": "_K5qv6pmejt2",
        "outputId": "5fd2ad27-ee56-4608-bcad-798f0154228f"
      },
      "execution_count": null,
      "outputs": [
        {
          "output_type": "stream",
          "name": "stdout",
          "text": [
            "lambda\t\tTrain Error\tValidation Error\n",
            " 0.000000\t0.314089\t11.651451\n",
            " 0.001000\t0.322463\t11.010046\n",
            " 0.003000\t0.344148\t9.905947\n",
            " 0.010000\t0.450151\t7.364158\n",
            " 0.030000\t0.796289\t4.891666\n",
            " 0.100000\t1.710825\t3.971030\n",
            " 0.300000\t4.162439\t3.417295\n",
            " 0.400000\t5.583882\t3.675742\n",
            " 0.600000\t8.625003\t5.084661\n",
            " 1.000000\t14.686704\t9.671422\n"
          ]
        },
        {
          "output_type": "display_data",
          "data": {
            "text/plain": [
              "<Figure size 432x288 with 1 Axes>"
            ],
            "image/png": "[encoded data removed]"
          },
          "metadata": {
            "needs_background": "light"
          }
        }
      ]
    },
    {
      "cell_type": "code",
      "source": [
        "#train with the best lambda_\n",
        "theta = np.ones((X_poly_norm_.shape[0], 1))\n",
        "\n",
        "#set epochs and learning rate\n",
        "#مقدار دهی برای نرخ یادگیری، تعداد تکرار\n",
        "epochs = 500000\n",
        "lr = 0.003\n",
        "#run gradientDescent and print theta and last cost\n",
        "\n",
        "thetanew, J_history, gradtest = gradientDescentWithReg(X_poly_norm_, Y_, theta, lr, epochs, lambda_=0.3)"
      ],
      "metadata": {
        "colab": {
          "base_uri": "https://localhost:8080/"
        },
        "id": "BmWqf13-auua",
        "outputId": "a45939c0-c672-4600-8703-90d4277ee743"
      },
      "execution_count": null,
      "outputs": [
        {
          "output_type": "stream",
          "name": "stdout",
          "text": [
            "12\n"
          ]
        }
      ]
    },
    {
      "cell_type": "code",
      "source": [
        "def error_test(Xtest, Ytest):\n",
        "  error_test = computeCostWithReg(Xtest, Ytest, thetanew, 0)\n",
        "  return error_test\n",
        "  "
      ],
      "metadata": {
        "id": "EYL63zkZXFHr"
      },
      "execution_count": null,
      "outputs": []
    },
    {
      "cell_type": "code",
      "source": [
        "J_test = error_test(X_poly_normt_, Ytest_)\n",
        "print(J_test)"
      ],
      "metadata": {
        "colab": {
          "base_uri": "https://localhost:8080/"
        },
        "id": "UgJtwzA6XrYz",
        "outputId": "3dff6a29-2a56-457a-f58e-6f6e5bc0f486"
      },
      "execution_count": null,
      "outputs": [
        {
          "output_type": "stream",
          "name": "stdout",
          "text": [
            "[[4.11635194]]\n"
          ]
        }
      ]
    }
  ]
}