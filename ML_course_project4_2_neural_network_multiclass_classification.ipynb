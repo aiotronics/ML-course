{
  "nbformat": 4,
  "nbformat_minor": 0,
  "metadata": {
    "colab": {
      "name": "ML-course-project4-2- neural network multiclass classification.ipynb",
      "provenance": [],
      "collapsed_sections": [],
      "mount_file_id": "1hfR-Bu5iMKItip5qbDw4zZxKO4u3YfO3",
      "authorship_tag": "ABX9TyPTnBQSzqdWhUBnioQ/vY6b",
      "include_colab_link": true
    },
    "kernelspec": {
      "name": "python3",
      "display_name": "Python 3"
    },
    "language_info": {
      "name": "python"
    }
  },
  "cells": [
    {
      "cell_type": "markdown",
      "metadata": {
        "id": "view-in-github",
        "colab_type": "text"
      },
      "source": [
        "<a href=\"https://colab.research.google.com/github/javadvahid/ML-course/blob/main/ML_course_project4_2_neural_network_multiclass_classification.ipynb\" target=\"_parent\"><img src=\"https://colab.research.google.com/assets/colab-badge.svg\" alt=\"Open In Colab\"/></a>"
      ]
    },
    {
      "cell_type": "markdown",
      "source": [
        "# Neural Networks - multiclass classification\n",
        "# Forward propagation\n",
        "\n",
        "# دسته بندی چند کلاسه با استفاده از شبکه های عصبی\n",
        "\n",
        "\n",
        "در این پروژه هدف تشخیص عدد موجود در تصویر می باشد\n",
        "\n",
        ":مشخصات دیتا\n",
        "\n",
        "دیتای ورودی : تصاویر از اعداد دست نویس در ابعاد 20 در 20\n",
        "\n",
        "دیتای خروجی : شماره موجود در تصویر (0 تا 9)\n",
        "\n",
        "<p align=\"center\" width=\"100%\">\n",
        "    <img width=\"80%\" src=\"https://drive.google.com/uc?id=1sxVH40ipiXH_93wev5YHY0xgx4Y5dkeJ\">\n",
        "</p>\n",
        "\n",
        "در این پروژه قصد ما آموزش شبکه های عصبی نیست\n",
        "\n",
        "بلکه فقط از ضرایب از قبل آموزش داده شده استفاده می کنیم\n",
        "\n",
        "و آن را برروی داده ها تست میکنیم و نحوه محاسبه خروجی را مشابه اسلاید پیاده سازی خواهیم کرد\n",
        "\n",
        "بریم ابتدا داده ها و وزنها  رو لود کنیم"
      ],
      "metadata": {
        "id": "kBOiSfZXZ_o7"
      }
    },
    {
      "cell_type": "code",
      "execution_count": null,
      "metadata": {
        "id": "74Jx5VbWYw6a"
      },
      "outputs": [],
      "source": [
        "#load data set from project4data1.mat file\n",
        "#ذخیره شده است .mat تصاویر در یک فایل با فرمت \n",
        "#first upload project4data1.mat to colab\n",
        "#ابتدا فایل مربوطه را در این محیط آپلود کرده\n",
        "#load the .mat file using scipy library\n",
        "#تصاویر را در یک متغیر لود می کنیم scipy با استفاده از کتابخانه \n",
        "\n",
        "from scipy.io import loadmat\n",
        "\n",
        "data = loadmat('/content/drive/MyDrive/ml-projects/week4/project4data1.mat')\n",
        "\n"
      ]
    },
    {
      "cell_type": "code",
      "source": [
        "#split the data into input X and output Y\n",
        "#داده ها ی ورودی و خروجی را در دو متغیر جدا میریزیم\n",
        "#input feature\n",
        "X = data['X']\n",
        "#output\n",
        "Y = data['y']\n",
        "\n",
        "#find m\n",
        "m = Y.shape[0]\n",
        "print(m)"
      ],
      "metadata": {
        "id": "6R6Ye28TuqJ5",
        "colab": {
          "base_uri": "https://localhost:8080/"
        },
        "outputId": "d80f3f98-f4cf-461b-d54f-2754eed0a335"
      },
      "execution_count": null,
      "outputs": [
        {
          "output_type": "stream",
          "name": "stdout",
          "text": [
            "5000\n"
          ]
        }
      ]
    },
    {
      "cell_type": "code",
      "source": [
        "print(X.shape, Y.shape)"
      ],
      "metadata": {
        "colab": {
          "base_uri": "https://localhost:8080/"
        },
        "id": "QYan-BsUXtF7",
        "outputId": "36568507-30d7-4398-aa87-306bee0b58be"
      },
      "execution_count": null,
      "outputs": [
        {
          "output_type": "stream",
          "name": "stdout",
          "text": [
            "(5000, 400) (5000, 1)\n"
          ]
        }
      ]
    },
    {
      "cell_type": "markdown",
      "source": [
        "# Data Visualization:\n",
        "\n",
        "# نمایش داده ها"
      ],
      "metadata": {
        "id": "cBA2IJcIle0i"
      }
    },
    {
      "cell_type": "code",
      "source": [
        "import numpy as np \n",
        "import matplotlib.pyplot as plt\n",
        "\n",
        "#choose the index of image to show\n",
        "#انتخاب شماره عکسی که میخواهیم نمایش دهیم\n",
        "idx = 3500\n",
        "\n",
        "#choose figure size\n",
        "#انتخاب سایز نمودار\n",
        "plt.figure(figsize=(20,2))\n",
        "\n",
        "#convert shape of iamge from (400,) to (20, 20) and display it\n",
        "plt.imshow(np.reshape(X[idx], (20, 20)).T, cmap='gray')\n",
        "#add the label of image as the title of figure\n",
        "#لیبل عکس را به عنوان تیتر بالای تصویر چاپ کنید\n",
        "plt.title(str(Y[idx]), fontsize = 20)\n",
        "\n"
      ],
      "metadata": {
        "id": "83NBRgD6kdih",
        "colab": {
          "base_uri": "https://localhost:8080/",
          "height": 195
        },
        "outputId": "31156555-0deb-4725-d936-1c2f7180fb26"
      },
      "execution_count": null,
      "outputs": [
        {
          "output_type": "execute_result",
          "data": {
            "text/plain": [
              "Text(0.5, 1.0, '[7]')"
            ]
          },
          "metadata": {},
          "execution_count": 6
        },
        {
          "output_type": "display_data",
          "data": {
            "text/plain": [
              "<Figure size 1440x144 with 1 Axes>"
            ],
            "image/png": "[encoded data removed]"
          },
          "metadata": {
            "needs_background": "light"
          }
        }
      ]
    },
    {
      "cell_type": "code",
      "execution_count": null,
      "metadata": {
        "id": "JZqJcYT8GtX5"
      },
      "outputs": [],
      "source": [
        "\n",
        "#first upload project4-2-weights.mat to colab\n",
        "#ابتدا فایل مربوطه را در این محیط آپلود کرده\n",
        "#load the .mat file using scipy library\n",
        "#تصاویر را در یک متغیر لود می کنیم scipy با استفاده از کتابخانه \n",
        "\n",
        "from scipy.io import loadmat\n",
        "\n",
        "weights = loadmat('/content/drive/MyDrive/ml-projects/week4/project4-2-weights.mat')\n",
        "\n",
        "theta1, theta2 = weights[\"Theta1\"], weights[\"Theta2\"]\n"
      ]
    },
    {
      "cell_type": "code",
      "source": [
        "print(theta1.shape)\n",
        "print(theta2.shape)"
      ],
      "metadata": {
        "colab": {
          "base_uri": "https://localhost:8080/"
        },
        "id": "nrildsrYZXR-",
        "outputId": "b987ca00-4fec-4967-f6da-fbe9d20cb462"
      },
      "execution_count": null,
      "outputs": [
        {
          "output_type": "stream",
          "name": "stdout",
          "text": [
            "(25, 401)\n",
            "(10, 26)\n"
          ]
        }
      ]
    },
    {
      "cell_type": "code",
      "source": [
        "#print shapes of X and Y\n",
        "print(\"shape of X:\", X.shape)\n",
        "print(\"shape of X[idx]:\", X[idx].shape)\n",
        "print(\"shape of Y:\", Y.shape)\n"
      ],
      "metadata": {
        "id": "qn_HRnyRm4Yv",
        "colab": {
          "base_uri": "https://localhost:8080/"
        },
        "outputId": "d0e0ea26-9a87-40f7-ed1b-e466176f0924"
      },
      "execution_count": null,
      "outputs": [
        {
          "output_type": "stream",
          "name": "stdout",
          "text": [
            "shape of X: (5000, 400)\n",
            "shape of X[idx]: (400,)\n",
            "shape of Y: (5000, 1)\n"
          ]
        }
      ]
    },
    {
      "cell_type": "markdown",
      "source": [
        "# creating X and Y matrices with the right dimensions as shown in the slide\n",
        "\n",
        "# دقیقا به صورتی که در اسلاید زیر نمایش داده شده است X,Y ایجاد ماتریس\n",
        "\n",
        "<p align=\"center\" width=\"100%\">\n",
        "    <img width=\"50%\" src=\"https://drive.google.com/uc?id=1wlGw9Mm6WJge83NeAtrn6jokvE6iShfU\">\n",
        "</p>"
      ],
      "metadata": {
        "id": "uny3m8f1NMYM"
      }
    },
    {
      "cell_type": "code",
      "source": [
        "#Convert dimension X from (m, n) to (n, m)\n",
        "X = np.transpose(X)\n",
        "X.shape"
      ],
      "metadata": {
        "id": "8oQBM6czX3U2",
        "colab": {
          "base_uri": "https://localhost:8080/"
        },
        "outputId": "0e21ca3b-3d94-4dbd-e39a-7616505fa2b2"
      },
      "execution_count": null,
      "outputs": [
        {
          "output_type": "execute_result",
          "data": {
            "text/plain": [
              "(400, 5000)"
            ]
          },
          "metadata": {},
          "execution_count": 10
        }
      ]
    },
    {
      "cell_type": "code",
      "source": [
        "#Convert dimension Y from (m, 1) to (1, m)\n",
        "Y = np.transpose(Y)\n",
        "Y.shape"
      ],
      "metadata": {
        "id": "7PYU6ii1ngSV",
        "colab": {
          "base_uri": "https://localhost:8080/"
        },
        "outputId": "6b273da2-481a-49d1-c6e2-f38ff1755e98"
      },
      "execution_count": null,
      "outputs": [
        {
          "output_type": "execute_result",
          "data": {
            "text/plain": [
              "(1, 5000)"
            ]
          },
          "metadata": {},
          "execution_count": 11
        }
      ]
    },
    {
      "cell_type": "code",
      "source": [
        "#add x0=1 to all the data \n",
        "#به همه داده ها x0=1 اضافه کردن \n",
        "X = np.concatenate([np.ones((1, m)), X], axis=0)\n",
        "X.shape"
      ],
      "metadata": {
        "id": "aBnkQbn4l_lM",
        "colab": {
          "base_uri": "https://localhost:8080/"
        },
        "outputId": "7d4916ff-4687-4318-f2f9-2ad390fec56d"
      },
      "execution_count": null,
      "outputs": [
        {
          "output_type": "execute_result",
          "data": {
            "text/plain": [
              "(401, 5000)"
            ]
          },
          "metadata": {},
          "execution_count": 12
        }
      ]
    },
    {
      "cell_type": "code",
      "source": [
        "#create a function for sigmoid g = 1/(1 + e^-x)\n",
        "#ابتدا تابع سیگموید را پیاده سازی کنید\n",
        "def sigmoid(x):\n",
        "  g = 1/(1+np.exp(-x))\n",
        "  return g\n",
        "  "
      ],
      "metadata": {
        "id": "WOdDS7Y2CDRA"
      },
      "execution_count": null,
      "outputs": []
    },
    {
      "cell_type": "markdown",
      "source": [
        "# Create predict function using the formula in the slide\n",
        "\n",
        "\n",
        "<p align=\"center\" width=\"100%\">\n",
        "    <img width=\"80%\" src=\"https://drive.google.com/uc?id=1sxVH40ipiXH_93wev5YHY0xgx4Y5dkeJ\">\n",
        "</p>\n",
        "\n",
        "\n"
      ],
      "metadata": {
        "id": "HWlMG4qyaN5N"
      }
    },
    {
      "cell_type": "code",
      "source": [
        "def predict(theta1, theta2, X):\n",
        "  \n",
        "  z2 = np.matmul(theta1, X)\n",
        "  a2 = sigmoid(z2)\n",
        "\n",
        "  #add bias term\n",
        "  a2 = np.concatenate([np.ones((1)), a2], axis=0)\n",
        "\n",
        "  z3 = np.matmul(theta2, a2)\n",
        "  a3 = sigmoid(z3)\n",
        "\n",
        "  return a3"
      ],
      "metadata": {
        "id": "knn8aNGkPMdW"
      },
      "execution_count": null,
      "outputs": []
    },
    {
      "cell_type": "code",
      "source": [
        "outputs = predict(theta1, theta2, X[:,4100])\n",
        "print(outputs)\n",
        "predicted_digit = np.argmax(outputs)\n",
        "print(\"predicted digit: \", predicted_digit)"
      ],
      "metadata": {
        "colab": {
          "base_uri": "https://localhost:8080/"
        },
        "id": "X2Z99-fjRZK1",
        "outputId": "dae570f4-b334-48f3-f7ce-942396110c8c"
      },
      "execution_count": null,
      "outputs": [
        {
          "output_type": "stream",
          "name": "stdout",
          "text": [
            "[3.06915376e-06 7.08281229e-02 8.72991871e-02 3.17814279e-02\n",
            " 1.49801164e-02 2.71296662e-03 2.27349873e-02 4.28802019e-04\n",
            " 9.25727811e-02 6.44977594e-04]\n",
            "predicted digit:  8\n"
          ]
        }
      ]
    },
    {
      "cell_type": "code",
      "source": [
        "#now lets show the test image and see if our model is working well\n",
        "import numpy as np \n",
        "import matplotlib.pyplot as plt\n",
        "\n",
        "#choose the index of image to show\n",
        "#انتخاب شماره عکسی که میخواهیم نمایش دهیم\n",
        "idx = 4100\n",
        "\n",
        "#choose figure size\n",
        "#انتخاب سایز نمودار\n",
        "plt.figure(figsize=(20,2))\n",
        "\n",
        "#convert shape of iamge from (400,) to (20, 20) and display it\n",
        "plt.imshow(np.reshape(X[1:, idx], (20, 20)).T, cmap='gray')\n",
        "#add the label of image as the title of figure\n",
        "#لیبل عکس را به عنوان تیتر بالای تصویر چاپ کنید\n",
        "plt.title(str(Y[0,idx]), fontsize = 20)\n",
        "\n"
      ],
      "metadata": {
        "colab": {
          "base_uri": "https://localhost:8080/",
          "height": 195
        },
        "outputId": "448a344f-5757-422d-bbab-b2da7a6fe46c",
        "id": "e-xwKV_5WNrR"
      },
      "execution_count": null,
      "outputs": [
        {
          "output_type": "execute_result",
          "data": {
            "text/plain": [
              "Text(0.5, 1.0, '8')"
            ]
          },
          "metadata": {},
          "execution_count": 20
        },
        {
          "output_type": "display_data",
          "data": {
            "text/plain": [
              "<Figure size 1440x144 with 1 Axes>"
            ],
            "image/png": "[encoded data removed]"
          },
          "metadata": {
            "needs_background": "light"
          }
        }
      ]
    }
  ]
}