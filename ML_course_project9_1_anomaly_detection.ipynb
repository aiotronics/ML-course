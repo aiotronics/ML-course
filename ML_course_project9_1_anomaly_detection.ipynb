{
  "nbformat": 4,
  "nbformat_minor": 0,
  "metadata": {
    "colab": {
      "name": "ML-course-project9-1-anomaly detection.ipynb",
      "provenance": [],
      "collapsed_sections": [],
      "mount_file_id": "11m_YHw-zLFYTkvwBcJYtTwqxJjwAkfz3",
      "authorship_tag": "ABX9TyPtp6rpcFhz6L2JCoUF5lfH",
      "include_colab_link": true
    },
    "kernelspec": {
      "name": "python3",
      "display_name": "Python 3"
    },
    "language_info": {
      "name": "python"
    }
  },
  "cells": [
    {
      "cell_type": "markdown",
      "metadata": {
        "id": "view-in-github",
        "colab_type": "text"
      },
      "source": [
        "<a href=\"https://colab.research.google.com/github/javadvahid/ML-course/blob/main/ML_course_project9_1_anomaly_detection.ipynb\" target=\"_parent\"><img src=\"https://colab.research.google.com/assets/colab-badge.svg\" alt=\"Open In Colab\"/></a>"
      ]
    },
    {
      "cell_type": "markdown",
      "source": [
        "#  Anomaly Detection\n",
        "\n",
        "# تشخیص ناهنجاری  \n",
        "\n",
        "در این پروژه هدف تخشیص سرور های معیوب بر روی شبکه هست\n",
        "\n",
        "داده این بخش اول دو ویژگی از هر سرور می باشد\n",
        "\n",
        "throughput\n",
        "\n",
        "delay"
      ],
      "metadata": {
        "id": "kBOiSfZXZ_o7"
      }
    },
    {
      "cell_type": "code",
      "execution_count": 1,
      "metadata": {
        "id": "74Jx5VbWYw6a",
        "colab": {
          "base_uri": "https://localhost:8080/"
        },
        "outputId": "5c1f9361-9325-46cd-bba7-c98739b36325"
      },
      "outputs": [
        {
          "output_type": "execute_result",
          "data": {
            "text/plain": [
              "dict_keys(['__header__', '__version__', '__globals__', 'X', 'Xval', 'yval'])"
            ]
          },
          "metadata": {},
          "execution_count": 1
        }
      ],
      "source": [
        "#load data set\n",
        "#لود کردن داده های موجود\n",
        "# در اولین مرحله فایل مربوط به دیتای بخش اول را آپلود کنید\n",
        "#import numpy\n",
        "import numpy as np\n",
        "from scipy.io import loadmat\n",
        "\n",
        "\n",
        " \n",
        "#داده ها را از فایل مشخص شده بخوانید\n",
        "data1 = loadmat(\"/content/project9data1.mat\")\n",
        "\n",
        "#show a summary of data\n",
        "#نمایش خلاصه ای از داده ها\n",
        "data1.keys()"
      ]
    },
    {
      "cell_type": "code",
      "source": [
        "print(data1[\"X\"].shape)"
      ],
      "metadata": {
        "colab": {
          "base_uri": "https://localhost:8080/"
        },
        "id": "XWhQu617o475",
        "outputId": "8b37a8e3-a608-45fc-87c1-bb48df0a0c3e"
      },
      "execution_count": 2,
      "outputs": [
        {
          "output_type": "stream",
          "name": "stdout",
          "text": [
            "(307, 2)\n"
          ]
        }
      ]
    },
    {
      "cell_type": "code",
      "source": [
        "#split the data into input X and Xval Yval\n",
        "#داده ها ی ورودی و خروجی را در دو متغیر جدا میریزیم\n",
        "#input\n",
        "X = data1[\"X\"]\n",
        "\n",
        "Xval = data1['Xval']\n",
        "\n",
        "Yval = data1['yval']\n",
        "\n",
        "#find m\n",
        "m = X.shape[0]\n",
        "print(m)"
      ],
      "metadata": {
        "id": "6R6Ye28TuqJ5",
        "colab": {
          "base_uri": "https://localhost:8080/"
        },
        "outputId": "ed6afb5b-1800-4b35-f513-c9929ec3c8c2"
      },
      "execution_count": 3,
      "outputs": [
        {
          "output_type": "stream",
          "name": "stdout",
          "text": [
            "307\n"
          ]
        }
      ]
    },
    {
      "cell_type": "code",
      "source": [
        "X.shape"
      ],
      "metadata": {
        "id": "LLQ9m2wCgJH8"
      },
      "execution_count": null,
      "outputs": []
    },
    {
      "cell_type": "markdown",
      "source": [
        "# Data Visualization:\n",
        "\n",
        "# نمایش داده ها"
      ],
      "metadata": {
        "id": "cBA2IJcIle0i"
      }
    },
    {
      "cell_type": "code",
      "source": [
        "import matplotlib.pyplot as plt\n",
        "plt.plot(X[:,0], X[:,1], 'r*')\n",
        "plt.axis([0, 30, 0, 30])\n",
        "plt.xlabel('Latency (ms)')\n",
        "plt.ylabel('Throughput (mb/s)')"
      ],
      "metadata": {
        "colab": {
          "base_uri": "https://localhost:8080/",
          "height": 300
        },
        "id": "qDbE5_5lps5I",
        "outputId": "26386dc4-ae38-4ee8-f7e3-89773f220f71"
      },
      "execution_count": 6,
      "outputs": [
        {
          "output_type": "execute_result",
          "data": {
            "text/plain": [
              "Text(0, 0.5, 'Throughput (mb/s)')"
            ]
          },
          "metadata": {},
          "execution_count": 6
        },
        {
          "output_type": "display_data",
          "data": {
            "text/plain": [
              "<Figure size 432x288 with 1 Axes>"
            ],
            "image/png": "[encoded data removed]"
          },
          "metadata": {
            "needs_background": "light"
          }
        }
      ]
    },
    {
      "cell_type": "markdown",
      "source": [
        "# Anomaly detection Algorithm\n",
        "\n",
        "<p align=\"center\" width=\"100%\">\n",
        "    <img width=\"100%\" src=\"https://drive.google.com/uc?id=1jmJTiACQbSwg2WIJKFJg5F8T1MhU4kuH\">\n",
        "</p>"
      ],
      "metadata": {
        "id": "JFYEXI4HqK02"
      }
    },
    {
      "cell_type": "code",
      "source": [
        "print(X.shape)"
      ],
      "metadata": {
        "colab": {
          "base_uri": "https://localhost:8080/"
        },
        "id": "5siKJ6VMmugD",
        "outputId": "5ee82463-6fde-4096-cf71-e6120d0e6bd6"
      },
      "execution_count": 7,
      "outputs": [
        {
          "output_type": "stream",
          "name": "stdout",
          "text": [
            "(307, 2)\n"
          ]
        }
      ]
    },
    {
      "cell_type": "code",
      "source": [
        "#gaussian distribution\n",
        "def gaussianDist(X):\n",
        "  m, n = X.shape\n",
        "\n",
        "  mu = np.zeros(n)\n",
        "  sigma2 = np.zeros(n)\n",
        "\n",
        "    \n",
        "  for i in range(n):\n",
        "    mu[i] = np.sum(X[:,i])/m\n",
        "    sigma2[i] = np.sum(np.square(X[:,i]-mu[i]))/m\n",
        "  #print(sigma2)\n",
        "    \n",
        "  return mu, sigma2"
      ],
      "metadata": {
        "id": "vQAOsQ1si27X"
      },
      "execution_count": 8,
      "outputs": []
    },
    {
      "cell_type": "code",
      "source": [
        "mu, sigma2 = gaussianDist(X)\n"
      ],
      "metadata": {
        "id": "_-kbf7xrjqwg"
      },
      "execution_count": 9,
      "outputs": []
    },
    {
      "cell_type": "code",
      "source": [
        "sigma2"
      ],
      "metadata": {
        "colab": {
          "base_uri": "https://localhost:8080/"
        },
        "id": "MNxr4wQjDLOW",
        "outputId": "a723ac18-de49-4928-a6a7-33791489b66d"
      },
      "execution_count": 11,
      "outputs": [
        {
          "output_type": "execute_result",
          "data": {
            "text/plain": [
              "array([1.83263141, 1.70974533])"
            ]
          },
          "metadata": {},
          "execution_count": 11
        }
      ]
    },
    {
      "cell_type": "code",
      "source": [
        "#create a function to compute p(x) \n",
        "def p_x(X, mu, sigma2):\n",
        "  prob = (1/(np.sqrt(2*np.pi) * np.sqrt(sigma2))) * np.exp(-((X - mu)**2)/(2*sigma2))\n",
        "  p_final = np.prod(prob, axis=1)\n",
        "  return p_final"
      ],
      "metadata": {
        "id": "j2lCTQ2zlvqb"
      },
      "execution_count": 12,
      "outputs": []
    },
    {
      "cell_type": "code",
      "source": [
        "p = p_x(X, mu, sigma2)"
      ],
      "metadata": {
        "id": "LlU-ZkvrqbpU"
      },
      "execution_count": 13,
      "outputs": []
    },
    {
      "cell_type": "code",
      "source": [
        "#select epsilon\n",
        "def selectThreshold(Yval, pval):\n",
        "    \n",
        "    bestEpsilon = 0\n",
        "    bestF1 = 0\n",
        "    F1 = 0\n",
        "    \n",
        "    for epsilon in np.linspace(1.01*min(pval), max(pval), 1000):\n",
        "\n",
        "        predictions = (pval < epsilon)\n",
        "        \n",
        "        tp = np.sum((predictions == Yval) & (Yval == 1))\n",
        "        \n",
        "        fp = np.sum((predictions == 1) & (Yval == 0))\n",
        "        \n",
        "        fn = np.sum((predictions == 0) & (Yval == 1))\n",
        "        \n",
        "        prec = tp / (tp + fp)\n",
        "        rec = tp / (tp + fn)\n",
        "        #print(prec)\n",
        "        F1 = 2 * prec * rec / (prec + rec)\n",
        "        #\n",
        "        if F1 > bestF1:\n",
        "            bestF1 = F1\n",
        "            bestEpsilon = epsilon\n",
        "\n",
        "    return bestEpsilon, bestF1"
      ],
      "metadata": {
        "id": "PK_n1hWlktey"
      },
      "execution_count": 14,
      "outputs": []
    },
    {
      "cell_type": "code",
      "source": [
        "\n",
        "pval = p_x(Xval, mu, sigma2)\n",
        "\n",
        "epsilon, F1 = selectThreshold(Yval[:,0], pval)"
      ],
      "metadata": {
        "id": "ug-4F3T7q-S8"
      },
      "execution_count": 15,
      "outputs": []
    },
    {
      "cell_type": "code",
      "source": [
        "print('Best epsilon found using cross-validation: %.2e' % epsilon)\n",
        "print('Best F1 on Cross Validation Set          : %f\\n' % F1)\n",
        "print('  (you should see a value epsilon of about 9e-05)')\n",
        "print('   (you should see a Best F1 value of       0.875000)')\n",
        "print('\\n# Outliers found: %d' % np.sum(p < epsilon))"
      ],
      "metadata": {
        "colab": {
          "base_uri": "https://localhost:8080/"
        },
        "id": "eXXAGhgbsPRN",
        "outputId": "cd496bf8-88ab-4f25-ba05-36a9e538a998"
      },
      "execution_count": 17,
      "outputs": [
        {
          "output_type": "stream",
          "name": "stdout",
          "text": [
            "Best epsilon found using cross-validation: 9.00e-05\n",
            "Best F1 on Cross Validation Set          : 0.875000\n",
            "\n",
            "  (you should see a value epsilon of about 9e-05)\n",
            "   (you should see a Best F1 value of       0.875000)\n",
            "\n",
            "# Outliers found: 6\n"
          ]
        }
      ]
    },
    {
      "cell_type": "code",
      "source": [
        "#exercise practice on project9data2.mat\n",
        "#report the best epsilon and F1score\n"
      ],
      "metadata": {
        "id": "_8axam7arrkG"
      },
      "execution_count": null,
      "outputs": []
    }
  ]
}