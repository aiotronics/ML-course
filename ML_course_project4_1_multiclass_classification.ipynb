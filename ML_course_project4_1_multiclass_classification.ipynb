{
  "nbformat": 4,
  "nbformat_minor": 0,
  "metadata": {
    "colab": {
      "name": "ML-course-project4-1-multiclass classification.ipynb",
      "provenance": [],
      "collapsed_sections": [],
      "mount_file_id": "18t-IAQ3e-A9Pvt3F9fJ_M-cEC9W6JTQf",
      "authorship_tag": "ABX9TyMVokd6tBSCsAgc+/PQvRrb",
      "include_colab_link": true
    },
    "kernelspec": {
      "name": "python3",
      "display_name": "Python 3"
    },
    "language_info": {
      "name": "python"
    }
  },
  "cells": [
    {
      "cell_type": "markdown",
      "metadata": {
        "id": "view-in-github",
        "colab_type": "text"
      },
      "source": [
        "<a href=\"https://colab.research.google.com/github/javadvahid/ML-course/blob/main/ML_course_project4_1_multiclass_classification.ipynb\" target=\"_parent\"><img src=\"https://colab.research.google.com/assets/colab-badge.svg\" alt=\"Open In Colab\"/></a>"
      ]
    },
    {
      "cell_type": "markdown",
      "source": [
        "# Logistic regression multiclass classification\n",
        "\n",
        "# رگرسیون لاجستیک(کلاسفیکیشن چند کلاسه)\n",
        "\n",
        "\n",
        "در این پروژه هدف تشخیص عدد موود در تصویر می باشد\n",
        "\n",
        ":مشخصات دیتا\n",
        "\n",
        "دیتای ورودی : تصاویر از اعداد دست نویس در ابعاد 20 در 20\n",
        "\n",
        "دیتای خروجی : شماره موجود در تصویر (0 تا 9)\n",
        "\n",
        "<p align=\"center\" width=\"100%\">\n",
        "    <img width=\"80%\" src=\"https://drive.google.com/uc?id=1LYg0QQck22uZpbCLa6aUW8brKXPjcU9W\">\n",
        "</p>\n",
        "\n",
        "همانطور که در ویدئو های بخش سوم توضیح داده شد و در اسلاید هم دیده میشود\n",
        "\n",
        "برای کلاسیفیکیشن چند کلاسه ما باید به تعداد کلاس هایی که داریم\n",
        "\n",
        "مدل آموزش بدیم برای کلاسیفیکیشن\n",
        "\n",
        "در مثال بررسی شده ما 3 کلاس در نظر گرفتیم\n",
        "\n",
        "ولی در این پروژه ما 10 کلاس داریم\n",
        "\n",
        "پس باید 10 مدل جداگانه آموزش بدیم \n",
        "\n",
        "بریم ابتدا داده ها رو لود کنیم"
      ],
      "metadata": {
        "id": "kBOiSfZXZ_o7"
      }
    },
    {
      "cell_type": "code",
      "execution_count": null,
      "metadata": {
        "id": "74Jx5VbWYw6a"
      },
      "outputs": [],
      "source": [
        "#load data set from project4data1.mat file\n",
        "#ذخیره شده است .mat تصاویر در یک فایل با فرمت \n",
        "#first upload project4data1.mat to colab\n",
        "#ابتدا فایل مربوطه را در این محیط آپلود کرده\n",
        "#load the .mat file using scipy library\n",
        "#تصاویر را در یک متغیر لود می کنیم scipy با استفاده از کتابخانه \n",
        "\n",
        "from scipy.io import loadmat\n",
        "\n",
        "data = loadmat('/content/drive/MyDrive/ml-projects/week4/project4data1.mat')\n",
        "\n"
      ]
    },
    {
      "cell_type": "code",
      "source": [
        "#data is now a dictionary containing images\n",
        "print(type(data))"
      ],
      "metadata": {
        "colab": {
          "base_uri": "https://localhost:8080/"
        },
        "id": "9twAP3t36jAI",
        "outputId": "c2d34854-434b-4173-b2bd-86bac7b4b535"
      },
      "execution_count": null,
      "outputs": [
        {
          "output_type": "stream",
          "name": "stdout",
          "text": [
            "<class 'dict'>\n"
          ]
        }
      ]
    },
    {
      "cell_type": "code",
      "source": [
        "data.keys()"
      ],
      "metadata": {
        "colab": {
          "base_uri": "https://localhost:8080/"
        },
        "id": "33ozIasCqayw",
        "outputId": "e9decfd4-77b4-43de-d08e-80b93be92ead"
      },
      "execution_count": null,
      "outputs": [
        {
          "output_type": "execute_result",
          "data": {
            "text/plain": [
              "dict_keys(['__header__', '__version__', '__globals__', 'X', 'y'])"
            ]
          },
          "metadata": {},
          "execution_count": 3
        }
      ]
    },
    {
      "cell_type": "code",
      "source": [
        "#split the data into input X and output Y\n",
        "#داده ها ی ورودی و خروجی را در دو متغیر جدا میریزیم\n",
        "#input feature\n",
        "X = data['X']\n",
        "#output\n",
        "Y = data['y']\n",
        "\n",
        "#find m\n",
        "m = Y.shape[0]\n",
        "print(m)"
      ],
      "metadata": {
        "id": "6R6Ye28TuqJ5",
        "colab": {
          "base_uri": "https://localhost:8080/"
        },
        "outputId": "74409ed8-61e6-49ba-9b12-ee994522d627"
      },
      "execution_count": null,
      "outputs": [
        {
          "output_type": "stream",
          "name": "stdout",
          "text": [
            "5000\n"
          ]
        }
      ]
    },
    {
      "cell_type": "code",
      "source": [
        "print(X.shape, Y.shape)"
      ],
      "metadata": {
        "colab": {
          "base_uri": "https://localhost:8080/"
        },
        "id": "QYan-BsUXtF7",
        "outputId": "5d009662-9e0c-47c7-bb5f-4c4958b6b576"
      },
      "execution_count": null,
      "outputs": [
        {
          "output_type": "stream",
          "name": "stdout",
          "text": [
            "(5000, 400) (5000, 1)\n"
          ]
        }
      ]
    },
    {
      "cell_type": "code",
      "source": [
        "Y"
      ],
      "metadata": {
        "colab": {
          "base_uri": "https://localhost:8080/"
        },
        "id": "OzZmuXRkCOnT",
        "outputId": "b80a799d-b283-4006-db21-e0c038d9b517"
      },
      "execution_count": null,
      "outputs": [
        {
          "output_type": "execute_result",
          "data": {
            "text/plain": [
              "array([[0],\n",
              "       [0],\n",
              "       [0],\n",
              "       ...,\n",
              "       [9],\n",
              "       [9],\n",
              "       [9]], dtype=uint8)"
            ]
          },
          "metadata": {},
          "execution_count": 7
        }
      ]
    },
    {
      "cell_type": "markdown",
      "source": [
        "# Data Visualization:\n",
        "\n",
        "# نمایش داده ها"
      ],
      "metadata": {
        "id": "cBA2IJcIle0i"
      }
    },
    {
      "cell_type": "code",
      "source": [
        "import numpy as np \n",
        "import matplotlib.pyplot as plt\n",
        "\n",
        "#choose the index of image to show\n",
        "#انتخاب شماره عکسی که میخواهیم نمایش دهیم\n",
        "idx = 1200\n",
        "\n",
        "#choose figure size\n",
        "#انتخاب سایز نمودار\n",
        "plt.figure(figsize=(2,2))\n",
        "\n",
        "#convert shape of iamge from (400,) to (20, 20) and display it\n",
        "plt.imshow(np.reshape(X[idx], (20, 20)).T, cmap='gray')\n",
        "#add the label of image as the title of figure\n",
        "#لیبل عکس را به عنوان تیتر بالای تصویر چاپ کنید\n",
        "plt.title(str(Y[idx]), fontsize = 20)\n",
        "\n"
      ],
      "metadata": {
        "id": "83NBRgD6kdih",
        "colab": {
          "base_uri": "https://localhost:8080/",
          "height": 195
        },
        "outputId": "10d6bfb9-9539-4db7-de19-5b4f82059eec"
      },
      "execution_count": null,
      "outputs": [
        {
          "output_type": "execute_result",
          "data": {
            "text/plain": [
              "Text(0.5, 1.0, '[2]')"
            ]
          },
          "metadata": {},
          "execution_count": 9
        },
        {
          "output_type": "display_data",
          "data": {
            "text/plain": [
              "<Figure size 144x144 with 1 Axes>"
            ],
            "image/png": "[encoded data removed]"
          },
          "metadata": {
            "needs_background": "light"
          }
        }
      ]
    },
    {
      "cell_type": "code",
      "source": [
        "#print shapes of X and Y\n",
        "print(\"shape of X:\", X.shape)\n",
        "print(\"shape of X[idx]:\", X[idx].shape)\n",
        "print(\"shape of Y:\", Y.shape)\n"
      ],
      "metadata": {
        "id": "qn_HRnyRm4Yv",
        "colab": {
          "base_uri": "https://localhost:8080/"
        },
        "outputId": "b70e58a7-16a9-4ef8-e279-93a679e4c6bf"
      },
      "execution_count": null,
      "outputs": [
        {
          "output_type": "stream",
          "name": "stdout",
          "text": [
            "shape of X: (5000, 400)\n",
            "shape of X[idx]: (400,)\n",
            "shape of Y: (5000, 1)\n"
          ]
        }
      ]
    },
    {
      "cell_type": "markdown",
      "source": [
        "# creating X and Y matrices with the right dimensions as shown in the slide\n",
        "\n",
        "# دقیقا به صورتی که در اسلاید زیر نمایش داده شده است X,Y ایجاد ماتریس\n",
        "\n",
        "<p align=\"center\" width=\"100%\">\n",
        "    <img width=\"50%\" src=\"https://drive.google.com/uc?id=1wlGw9Mm6WJge83NeAtrn6jokvE6iShfU\">\n",
        "</p>"
      ],
      "metadata": {
        "id": "uny3m8f1NMYM"
      }
    },
    {
      "cell_type": "code",
      "source": [
        "#Convert dimension X from (m, n) to (n, m)\n",
        "X = np.transpose(X)\n",
        "X.shape"
      ],
      "metadata": {
        "id": "8oQBM6czX3U2",
        "colab": {
          "base_uri": "https://localhost:8080/"
        },
        "outputId": "55c362e5-c82b-4192-f887-fc4a57364476"
      },
      "execution_count": null,
      "outputs": [
        {
          "output_type": "execute_result",
          "data": {
            "text/plain": [
              "(400, 5000)"
            ]
          },
          "metadata": {},
          "execution_count": 11
        }
      ]
    },
    {
      "cell_type": "code",
      "source": [
        "#Convert dimension Y from (m, 1) to (1, m)\n",
        "Y = np.transpose(Y)\n",
        "Y.shape"
      ],
      "metadata": {
        "id": "7PYU6ii1ngSV",
        "colab": {
          "base_uri": "https://localhost:8080/"
        },
        "outputId": "c0998d67-4eda-4bde-8a6c-b27d14da3857"
      },
      "execution_count": null,
      "outputs": [
        {
          "output_type": "execute_result",
          "data": {
            "text/plain": [
              "(1, 5000)"
            ]
          },
          "metadata": {},
          "execution_count": 12
        }
      ]
    },
    {
      "cell_type": "code",
      "source": [
        "#add x0=1 to all the data \n",
        "#به همه داده ها x0=1 اضافه کردن \n",
        "X = np.concatenate([np.ones((1, m)), X], axis=0)\n",
        "X.shape"
      ],
      "metadata": {
        "id": "aBnkQbn4l_lM",
        "colab": {
          "base_uri": "https://localhost:8080/"
        },
        "outputId": "787e49b5-1ed9-45eb-fc85-68710a81974d"
      },
      "execution_count": null,
      "outputs": [
        {
          "output_type": "execute_result",
          "data": {
            "text/plain": [
              "(401, 5000)"
            ]
          },
          "metadata": {},
          "execution_count": 13
        }
      ]
    },
    {
      "cell_type": "markdown",
      "source": [
        "# **Cost Function With Regularization: implementation **\n",
        "\n",
        "# پیاده سازی تابع هزینه \n",
        "\n",
        "\n",
        "\n",
        "\n",
        "\n",
        "---\n",
        "# First method: simple implementation using for loop as shown in the slide below\n",
        "\n",
        "روش اول: پیاده سازی ساده با استفاده از حلقه به صورت نشان داده شده در اسلاید زیر\n",
        "\n",
        "\n",
        "<p align=\"center\" width=\"100%\">\n",
        "    <img width=\"80%\" src=\"https://drive.google.com/uc?id=1dTN9GmNaKcM5ZIScH2P_vVLjG77t5sjg\">\n",
        "</p>\n",
        "\n",
        "\n",
        "\n",
        "---\n",
        "# Second method: vectorized implementation \n",
        "\n",
        "# روش دوم: پیاده سازی به صورت برداری\n",
        "\n",
        "\n",
        "<p align=\"center\" width=\"100%\">\n",
        "    <img width=\"80%\" src=\"https://drive.google.com/uc?id=1ytdvFMQoWl1dsG88eeERv5d0UxMre4AN\">\n",
        "</p>\n",
        "\n",
        "\n"
      ],
      "metadata": {
        "id": "hpnHd6i2lSmc"
      }
    },
    {
      "cell_type": "code",
      "source": [
        "#create a function for sigmoid g = 1/(1 + e^-x)\n",
        "#ابتدا تابع سیگموید را پیاده سازی کنید\n",
        "def sigmoid(x):\n",
        "  g = 1/(1+np.exp(-x))\n",
        "  return g\n",
        "  "
      ],
      "metadata": {
        "id": "WOdDS7Y2CDRA"
      },
      "execution_count": null,
      "outputs": []
    },
    {
      "cell_type": "code",
      "source": [
        "#create a function for computing cost J\n",
        "#تابعی بنویسید که تابع هزینه را محاسبه کند به صورت برداری\n",
        "def computeCostWithReg(X, Y, thetatemp, lambda_):\n",
        "  #find m\n",
        "  m = X.shape[1]\n",
        "\n",
        "  # compute h using sigmoid function and thetatemp and X\n",
        "  h = sigmoid(np.matmul(np.transpose(thetatemp), X))\n",
        "\n",
        "  #use h and compute cost\n",
        "  #use np.log() for logarithm\n",
        "  #use np.transpose() for transpose \n",
        "  #np.matmul() for matrix multiplication\n",
        "  cost = (-1/m)*(np.matmul(np.log(h), np.transpose(Y)) + np.matmul(np.log(1 - h), np.transpose(1-Y)))\n",
        "  costWithReg = cost + (lambda_/(2*m)) * np.matmul(np.transpose(thetatemp[1:]), thetatemp[1:])\n",
        "\n",
        "  return costWithReg\n"
      ],
      "metadata": {
        "id": "iRP-ukiMmXWB"
      },
      "execution_count": null,
      "outputs": []
    },
    {
      "cell_type": "code",
      "source": [
        "#initialize theta to [[0], [0], [0]]\n",
        "#انتخاب تتای اولیه به صورت گفته شده \n",
        "theta = np.zeros((X.shape[0], 1))\n",
        "\n",
        "#use the function you created to compute cost for initialized theta\n",
        "cost = computeCostWithReg(X, Y, theta, lambda_=1)\n",
        "print(\"initial cost is:\", cost)"
      ],
      "metadata": {
        "id": "fDICzgyjw209",
        "colab": {
          "base_uri": "https://localhost:8080/"
        },
        "outputId": "8af2a59d-19d2-421e-9ee5-e8f297aa67da"
      },
      "execution_count": null,
      "outputs": [
        {
          "output_type": "stream",
          "name": "stdout",
          "text": [
            "initial cost is: [[142.64968976]]\n"
          ]
        }
      ]
    },
    {
      "cell_type": "markdown",
      "source": [
        "پاسخ صحیح در صورت پیاده سازی درست  [[142.6496]]"
      ],
      "metadata": {
        "id": "MEl06ppo-ZpN"
      }
    },
    {
      "cell_type": "markdown",
      "source": [
        "# **Gradient Descent WithReg: implementation**\n",
        "\n",
        "# پیاده سازی کاهش گرادیان \n",
        "\n",
        "\n",
        "\n",
        "\n",
        "\n",
        "---\n",
        "# First method: simple implementation using for loop as shown in the slide below\n",
        "\n",
        "# روش اول: پیاده سازی ساده با استفاده از حلقه به صورت نشان داده شده در اسلاید زیر\n",
        "\n",
        "\n",
        "<p align=\"center\" width=\"100%\">\n",
        "    <img width=\"80%\" src=\"https://drive.google.com/uc?id=1906OIZGT-MUITqOD34_93Y7eg1ZHutjP\">\n",
        "</p>\n",
        "\n",
        "\n",
        "\n",
        "---\n",
        "# Second method: vectorized implementation \n",
        "\n",
        "# روش دوم: پیاده سازی به صورت برداری\n",
        "\n",
        "\n",
        "<p align=\"center\" width=\"100%\">\n",
        "    <img width=\"80%\" src=\"https://drive.google.com/uc?id=1v7z__YImgydKcngc4hnFdEsEbKBUO1L6\">\n",
        "</p>\n",
        "\n",
        "\n"
      ],
      "metadata": {
        "id": "SkbyNcXV3S6u"
      }
    },
    {
      "cell_type": "code",
      "source": [
        "#create a function for gradient descent with regularization\n",
        "#\n",
        "def gradientDescentWithReg(X, Y, thetatemp, lr, epochs, lambda_):\n",
        "  m = X.shape[1]\n",
        "  J_history = []\n",
        "  for epoch in range(epochs):\n",
        "    thetatempreg = thetatemp.copy()\n",
        "    thetatempreg[0] = 0\n",
        "    h = sigmoid(np.matmul(np.transpose(thetatemp), X))\n",
        "    temp = np.transpose(h - Y)\n",
        "    thetatemp = thetatemp - (lr/m) * (np.matmul(X, temp) + (lambda_)*thetatempreg)\n",
        "    \n",
        "    J_history.append(computeCostWithReg(X, Y, thetatemp, lambda_)[0, 0])\n",
        "\n",
        "  return thetatemp, J_history"
      ],
      "metadata": {
        "id": "2fX2AXNTmjM4"
      },
      "execution_count": null,
      "outputs": []
    },
    {
      "cell_type": "code",
      "source": [
        "#initialize theta and train logistic regression\n",
        "#انتخاب مقادیر اولیه 0 برای تتا\n",
        "theta = np.zeros((X.shape[0], 1))\n",
        "\n",
        "#set epochs and learning rate\n",
        "#مقدار دهی برای نرخ یادگیری، تعداد تکرار\n",
        "epochs = 200\n",
        "lr = 0.0001\n",
        "#run gradientDescent and print theta and last cost\n",
        "\n",
        "thetanew, J_history = gradientDescentWithReg(X, Y, theta, lr, epochs, .1)\n",
        "#print theta\n",
        "#print(thetanew)\n",
        "\n",
        "#print last cost >>> J_history[-1]\n",
        "print(\"last cost: \", J_history[-1])\n",
        "\n",
        "\n"
      ],
      "metadata": {
        "id": "7LWt0Uf24iUT",
        "colab": {
          "base_uri": "https://localhost:8080/"
        },
        "outputId": "b48ba1d6-09a5-423c-f768-fa7a4ce86ff0"
      },
      "execution_count": null,
      "outputs": [
        {
          "output_type": "stream",
          "name": "stdout",
          "text": [
            "last cost:  346.3194096668563\n"
          ]
        }
      ]
    },
    {
      "cell_type": "markdown",
      "source": [
        "\n",
        "<p align=\"center\" width=\"100%\">\n",
        "    <img width=\"80%\" src=\"https://drive.google.com/uc?id=1NtDl_Ru3Ko1FiBlyEYNZ8NjlM_nfpabT\">\n",
        "</p>"
      ],
      "metadata": {
        "id": "ldyMaXsJ2NTl"
      }
    },
    {
      "cell_type": "code",
      "source": [
        "#create a function to do one_vs_all classification for K classes\n",
        "#دسته انجام دهد K را برای  one_vs_all  تابعی بنویسید که با کلاسیفیکیشن مدل \n",
        "\n",
        "def one_vs_all(X, Y, num_classes, lr, num_epochs, lambda_,):\n",
        "  #find m and n (number of features)\n",
        "  n, m = X.shape\n",
        "  #n=401, m=5000, \n",
        "  alltheta = np.zeros((n, num_classes))\n",
        "  for i in range(num_classes):\n",
        "    #converting all classes to 2 classes\n",
        "    #set all classes to zero\n",
        "    Y_temp = np.zeros(Y.shape)\n",
        "    #set the deired class i labels to 1\n",
        "    Y_temp[ Y == i] = 1\n",
        "    \n",
        "    initial_theta = np.zeros((X.shape[0], 1))\n",
        "    final_theta, J_hsitory = gradientDescentWithReg(X, Y_temp, initial_theta, lr, num_epochs, lambda_)\n",
        "    \n",
        "    alltheta[:, i] = final_theta[:,0]\n",
        "\n",
        "  return alltheta  \n"
      ],
      "metadata": {
        "id": "sL4OIg2KitTc"
      },
      "execution_count": null,
      "outputs": []
    },
    {
      "cell_type": "code",
      "source": [
        "alltheta = one_vs_all(X, Y, 10, lr=0.01, num_epochs=50, lambda_=0.1)"
      ],
      "metadata": {
        "id": "VTY7QIbJiICV"
      },
      "execution_count": null,
      "outputs": []
    },
    {
      "cell_type": "code",
      "source": [
        "print(alltheta.shape)"
      ],
      "metadata": {
        "id": "u6nZXkKWxifV",
        "colab": {
          "base_uri": "https://localhost:8080/"
        },
        "outputId": "dd5cb6cf-2a01-42d2-82b7-f57b4a8c3e83"
      },
      "execution_count": null,
      "outputs": [
        {
          "output_type": "stream",
          "name": "stdout",
          "text": [
            "(401, 10)\n"
          ]
        }
      ]
    },
    {
      "cell_type": "code",
      "source": [
        "def predict_one_vs_all(alltheta, test_image):\n",
        "  all_preds=[]\n",
        "\n",
        "  for i in range(alltheta.shape[1]):\n",
        "\n",
        "    pred = sigmoid(np.matmul(alltheta[:, i].T, test_image))\n",
        "    all_preds.append(pred)\n",
        "  return all_preds"
      ],
      "metadata": {
        "id": "miRaK5G_yiqX"
      },
      "execution_count": null,
      "outputs": []
    },
    {
      "cell_type": "code",
      "source": [
        "#predict the output of all models for and input, for example X[:, 2000], check different images on you won\n",
        "all_preds = predict_one_vs_all(alltheta, X[:, 700])\n",
        "#now there are 10 probablities predicted in all_preds\n",
        "#let's print all_preds\n",
        "print(all_preds)"
      ],
      "metadata": {
        "id": "GskChl18zmpE",
        "colab": {
          "base_uri": "https://localhost:8080/"
        },
        "outputId": "b61fa56f-1cd2-46fa-8632-a4c2fa9c9ae4"
      },
      "execution_count": null,
      "outputs": [
        {
          "output_type": "stream",
          "name": "stdout",
          "text": [
            "[0.3190743441029543, 0.3531980335575119, 0.33476623736768063, 0.3450483607783183, 0.3302896142595657, 0.3395618293190972, 0.34130728212013955, 0.33997115893346097, 0.3513396129088537, 0.3402672572281772]\n"
          ]
        }
      ]
    },
    {
      "cell_type": "code",
      "source": [
        "#now the maximum of these 10 values is our answer\n",
        "#we can use np.argmax to get the max probablity\n",
        "digit = np.argmax(all_preds)\n",
        "print(digit)"
      ],
      "metadata": {
        "id": "gQZOLyq_2sOC",
        "colab": {
          "base_uri": "https://localhost:8080/"
        },
        "outputId": "184e4bdd-cb1b-45ec-e40e-d025afded2b3"
      },
      "execution_count": null,
      "outputs": [
        {
          "output_type": "stream",
          "name": "stdout",
          "text": [
            "1\n"
          ]
        }
      ]
    },
    {
      "cell_type": "code",
      "source": [
        "#now lets show the test image and see if our model is working well\n",
        "import numpy as np \n",
        "import matplotlib.pyplot as plt\n",
        "\n",
        "#choose the index of image to show\n",
        "#انتخاب شماره عکسی که میخواهیم نمایش دهیم\n",
        "idx = 700\n",
        "\n",
        "#choose figure size\n",
        "#انتخاب سایز نمودار\n",
        "plt.figure(figsize=(2,2))\n",
        "\n",
        "#convert shape of iamge from (400,) to (20, 20) and display it\n",
        "plt.imshow(np.reshape(X[1:, idx], (20, 20)).T, cmap='gray')\n",
        "#add the label of image as the title of figure\n",
        "#لیبل عکس را به عنوان تیتر بالای تصویر چاپ کنید\n",
        "plt.title(str(Y[0,idx]), fontsize = 20)\n",
        "\n"
      ],
      "metadata": {
        "id": "JNP4cwkj1r-a",
        "colab": {
          "base_uri": "https://localhost:8080/",
          "height": 195
        },
        "outputId": "26202c83-aebf-4eab-c0d7-6d27db62d69f"
      },
      "execution_count": null,
      "outputs": [
        {
          "output_type": "execute_result",
          "data": {
            "text/plain": [
              "Text(0.5, 1.0, '1')"
            ]
          },
          "metadata": {},
          "execution_count": 32
        },
        {
          "output_type": "display_data",
          "data": {
            "text/plain": [
              "<Figure size 144x144 with 1 Axes>"
            ],
            "image/png": "[encoded data removed]"
          },
          "metadata": {
            "needs_background": "light"
          }
        }
      ]
    },
    {
      "cell_type": "code",
      "source": [
        "# exercise1: implement multiclass classification using sklearn \n",
        "# one vs all/ one vs rest"
      ],
      "metadata": {
        "id": "ClJpcKo7kTPp"
      },
      "execution_count": null,
      "outputs": []
    }
  ]
}