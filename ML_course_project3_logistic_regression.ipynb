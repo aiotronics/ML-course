{
  "nbformat": 4,
  "nbformat_minor": 0,
  "metadata": {
    "colab": {
      "name": "ML-course-project3-logistic-regression.ipynb",
      "provenance": [],
      "collapsed_sections": [],
      "mount_file_id": "11m_YHw-zLFYTkvwBcJYtTwqxJjwAkfz3",
      "authorship_tag": "ABX9TyMoQcyJDr7H7+dvTTDyw61J",
      "include_colab_link": true
    },
    "kernelspec": {
      "name": "python3",
      "display_name": "Python 3"
    },
    "language_info": {
      "name": "python"
    }
  },
  "cells": [
    {
      "cell_type": "markdown",
      "metadata": {
        "id": "view-in-github",
        "colab_type": "text"
      },
      "source": [
        "<a href=\"https://colab.research.google.com/github/javadvahid/ML-course/blob/main/ML_course_project3_logistic_regression.ipynb\" target=\"_parent\"><img src=\"https://colab.research.google.com/assets/colab-badge.svg\" alt=\"Open In Colab\"/></a>"
      ]
    },
    {
      "cell_type": "markdown",
      "source": [
        "# Logistic regression\n",
        "\n",
        "# رگرسیون لاجستیک(کلاسفیکیشن)\n",
        "\n",
        "در این پروژه هدف تشخیص قبول شدن یا قبول نشدن یک دانشجو بر اساس دو نمره ثبت شده می باشد\n",
        "\n",
        ":مشخصات دیتا\n",
        "\n",
        "دیتای ورودی : نمره دو امتحان\n",
        "\n",
        "دیتای خروجی : قبول شدن(1) یا قبول نشدن(0) دانشجو"
      ],
      "metadata": {
        "id": "kBOiSfZXZ_o7"
      }
    },
    {
      "cell_type": "code",
      "execution_count": null,
      "metadata": {
        "id": "74Jx5VbWYw6a"
      },
      "outputs": [],
      "source": [
        "#load data set from a csv file\n",
        "# csv لود کردن داده های موجود از یک فایل\n",
        "# project3data1.csv در اولین مرحله فایل مربوط به دیتای بخش اول را آپلود کنید \n",
        "#import pandas libaray for reading a csv file\n",
        "# به برنامه pandas اضافه کردن کتابخونه \n",
        "\n",
        "#import numpy\n",
        "\n",
        "\n",
        "\n",
        "\n",
        "#read data from project2-data1.csv file \n",
        "#داده ها را از فایل مشخص شده بخوانید\n",
        "\n",
        "\n",
        "#show a summary of data\n",
        "#نمایش خلاصه ای از داده ها\n"
      ]
    },
    {
      "cell_type": "code",
      "source": [
        "#split the data into input X and output Y\n",
        "#داده ها ی ورودی و خروجی را در دو متغیر جدا میریزیم\n",
        "#input feature\n",
        "\n",
        "#output\n",
        "\n",
        "\n",
        "#find m\n"
      ],
      "metadata": {
        "id": "6R6Ye28TuqJ5"
      },
      "execution_count": null,
      "outputs": []
    },
    {
      "cell_type": "code",
      "source": [
        "print(X.shape, Y.shape)"
      ],
      "metadata": {
        "id": "QYan-BsUXtF7"
      },
      "execution_count": null,
      "outputs": []
    },
    {
      "cell_type": "markdown",
      "source": [
        "# Data Visualization:\n",
        "\n",
        "# نمایش داده ها"
      ],
      "metadata": {
        "id": "cBA2IJcIle0i"
      }
    },
    {
      "cell_type": "code",
      "source": [
        "#function for plotting data\n",
        "#تابعی برای نمایش داده ها\n",
        "import matplotlib.pyplot as plt \n",
        "def plotData(X, y):\n",
        "    #Find Indices of pos and neg examples\n",
        "    #پیدا کردن شماره دیتاهای مربوط به دو دسته 0 و یک \n",
        "\n",
        "    # پیدا کردن اندیس یا شماره داده هایی با خروجی 1 \n",
        "    pos = (y == 1)\n",
        "  \n",
        "    #پیدا کردن اندیس یا شماره داده هایی با خروجی 0  \n",
        "    neg = (y == 0)\n",
        "\n",
        "    #plot positive examples (y==1) using red stars\n",
        "    #رسم داده های با خروجی 1 با ستاره های قرمز رنگ \n",
        "    plt.plot(X[pos,0], X[pos,1], 'r*', ms=10)\n",
        "\n",
        "    \n",
        "    #plot negetive examples (y==0) using red stars\n",
        "    #رسم داده های با خروجی 0 با دایره های آبی رنگ \n",
        "    plt.plot(X[neg, 0], X[neg, 1], 'bo', ms=8)\n",
        "    \n",
        "    "
      ],
      "metadata": {
        "id": "83NBRgD6kdih"
      },
      "execution_count": null,
      "outputs": []
    },
    {
      "cell_type": "code",
      "source": [
        "#Data visualization\n",
        "#نمایش داده ها اولین قدم بعد از لود کردن داده ها می باشد\n",
        "#use plotData function\n",
        "\n",
        "# use 'exam 1 score' for xlabel\n",
        "\n",
        "# use 'exam 2 score' for ylabel\n",
        "\n",
        "# نمایش راهنمای داده ها\n",
        "plt.legend(['passed', 'not passed'])\n",
        "    "
      ],
      "metadata": {
        "id": "s_DrN-R6b1yR"
      },
      "execution_count": null,
      "outputs": []
    },
    {
      "cell_type": "code",
      "source": [
        "#print shapes of X and Y\n",
        "\n"
      ],
      "metadata": {
        "id": "qn_HRnyRm4Yv"
      },
      "execution_count": null,
      "outputs": []
    },
    {
      "cell_type": "markdown",
      "source": [
        "# creating X and Y matrices with the right dimensions as shown in the slide\n",
        "\n",
        "# دقیقا به صورتی که در اسلاید زیر نمایش داده شده است X,Y ایجاد ماتریس\n",
        "\n",
        "<p align=\"center\" width=\"100%\">\n",
        "    <img width=\"50%\" src=\"https://drive.google.com/uc?id=1wlGw9Mm6WJge83NeAtrn6jokvE6iShfU\">\n",
        "</p>"
      ],
      "metadata": {
        "id": "uny3m8f1NMYM"
      }
    },
    {
      "cell_type": "code",
      "source": [
        "#Convert dimension X from (m, n) to (n, m)\n"
      ],
      "metadata": {
        "id": "8oQBM6czX3U2"
      },
      "execution_count": null,
      "outputs": []
    },
    {
      "cell_type": "code",
      "source": [
        "#convert Y dimension from (m,) to (m, 1)\n",
        "\n",
        "#Convert dimension Y from (m, 1) to (1, m)\n"
      ],
      "metadata": {
        "id": "7PYU6ii1ngSV"
      },
      "execution_count": null,
      "outputs": []
    },
    {
      "cell_type": "code",
      "source": [
        "#add x0=1 to all the data \n",
        "#به همه داده ها x0=1 اضافه کردن \n"
      ],
      "metadata": {
        "id": "aBnkQbn4l_lM"
      },
      "execution_count": null,
      "outputs": []
    },
    {
      "cell_type": "code",
      "source": [
        "#check the shapes of X and Y after reshaping\n",
        "\n"
      ],
      "metadata": {
        "id": "6cQ90IKd0Zat"
      },
      "execution_count": null,
      "outputs": []
    },
    {
      "cell_type": "markdown",
      "source": [
        "X ابعاد مورد انتظار پس از این مرحله برای ماتریس\n",
        "\n",
        "(3, 100)\n",
        "\n",
        "Y ابعاد مورد انتظار پس از این مرحله برای ماتریس\n",
        "\n",
        "(1, 100)"
      ],
      "metadata": {
        "id": "VAQLV6Dqz5Zm"
      }
    },
    {
      "cell_type": "markdown",
      "source": [
        "# **Cost Function: implementation**\n",
        "\n",
        "# پیاده سازی تابع هزینه \n",
        "\n",
        "\n",
        "\n",
        "\n",
        "\n",
        "---\n",
        "# First method: simple implementation using for loop as shown inthe slide below\n",
        "\n",
        "روش اول: پیاده سازی ساده با استفاده از حلقه به صورت نشان داده شده در اسلاید زیر\n",
        "\n",
        "\n",
        "<p align=\"center\" width=\"100%\">\n",
        "    <img width=\"80%\" src=\"https://drive.google.com/uc?id=1jK4vn47UYtZNT1Yqr53I3Otz272MjDbr\">\n",
        "</p>\n",
        "\n",
        "\n",
        "\n",
        "---\n",
        "# Second method: vectorized implementation \n",
        "\n",
        "# روش دوم: پیاده سازی به صورت برداری\n",
        "\n",
        "\n",
        "<p align=\"center\" width=\"100%\">\n",
        "    <img width=\"80%\" src=\"https://drive.google.com/uc?id=1aEQiuNglUyi3rK_wF63BJoBK68oo4qVj\">\n",
        "</p>\n",
        "\n",
        "\n"
      ],
      "metadata": {
        "id": "hpnHd6i2lSmc"
      }
    },
    {
      "cell_type": "code",
      "source": [
        "#create a function for sigmoid g = 1/(1 + e^-x)\n",
        "#ابتدا تابع سیگموید را پیاده سازی کنید\n",
        "#use np.exp(-x)\n",
        "def sigmoid(x):\n",
        "  g = \n",
        "  return g\n",
        "  "
      ],
      "metadata": {
        "id": "WOdDS7Y2CDRA"
      },
      "execution_count": null,
      "outputs": []
    },
    {
      "cell_type": "code",
      "source": [
        "#create a function for computing cost J\n",
        "#تابعی بنویسید که تابع هزینه را محاسبه کند به صورت برداری\n",
        "def computeCost():\n",
        "  #find m\n",
        "  \n",
        "\n",
        "  # compute h using sigmoid function and thetatemp and X\n",
        "  \n",
        "\n",
        "  #use h and compute cost\n",
        "  #use np.log() for logarithm\n",
        "  #use np.transpose() for transpose \n",
        "  #np.matmul() for matrix multiplication\n",
        "  \n",
        "  \n",
        "  return cost\n"
      ],
      "metadata": {
        "id": "vhtwuO_0lSQb"
      },
      "execution_count": null,
      "outputs": []
    },
    {
      "cell_type": "code",
      "source": [
        "#initialize theta to [[0], [0], [0]]\n",
        "#انتخاب تتای اولیه به صورت گفته شده \n",
        "\n",
        "\n",
        "#use the function you created to compute cost for initialized theta\n",
        "\n",
        "#print cost"
      ],
      "metadata": {
        "id": "fDICzgyjw209"
      },
      "execution_count": null,
      "outputs": []
    },
    {
      "cell_type": "markdown",
      "source": [
        "پاسخ صحیح در صورت پیاده سازی درست  [[0.69314718]]"
      ],
      "metadata": {
        "id": "MEl06ppo-ZpN"
      }
    },
    {
      "cell_type": "markdown",
      "source": [
        "# **Gradient Descent: implementation**\n",
        "\n",
        "# پیاده سازی کاهش گرادیان \n",
        "\n",
        "\n",
        "\n",
        "\n",
        "\n",
        "---\n",
        "# First method: simple implementation using for loop as shown in the slide below\n",
        "\n",
        "# روش اول: پیاده سازی ساده با استفاده از حلقه به صورت نشان داده شده در اسلاید زیر\n",
        "\n",
        "\n",
        "<p align=\"center\" width=\"100%\">\n",
        "    <img width=\"80%\" src=\"https://drive.google.com/uc?id=1xwUXHbSS5K68mrUSkCEiDhqjYDIbtusP\">\n",
        "</p>\n",
        "\n",
        "\n",
        "\n",
        "---\n",
        "# Second method: vectorized implementation \n",
        "\n",
        "# روش دوم: پیاده سازی به صورت برداری\n",
        "\n",
        "\n",
        "<p align=\"center\" width=\"100%\">\n",
        "    <img width=\"80%\" src=\"https://drive.google.com/uc?id=1Eb3FNgaRyMfQXzFWToxmRp2TX5pqLCAt\">\n",
        "</p>\n",
        "\n",
        "\n"
      ],
      "metadata": {
        "id": "SkbyNcXV3S6u"
      }
    },
    {
      "cell_type": "code",
      "source": [
        "#create a function for gradient descent\n",
        "def gradientDescent():\n",
        "  #find m\n",
        "  \n",
        "  \n",
        "  #create a list to store cost of each epoch\n",
        "  \n",
        "\n",
        "  #create a for loop for training\n",
        "  #ایجاد یک حلقه برای آموزش\n",
        "    #update thetatemp using vectorized gradient descent\n",
        "    #آپدیت کردن تتا با استفاده از کاهش گرادیان داخل حلقه ایجاد شده\n",
        "    #save cost every epoch in the list you created outside the loop\n",
        "    #ذخیره مقدار تابع هزینه در هر تکرار\n",
        "  #this function returns thetatemp and history of cost \n",
        "  #این تابع، تتای آپدیت شده و لیست مقادیر تابع هزینه را برمی گرداند\n",
        "  \n",
        "\n",
        "  return   "
      ],
      "metadata": {
        "id": "fLw5lqvk2f7k"
      },
      "execution_count": null,
      "outputs": []
    },
    {
      "cell_type": "code",
      "source": [
        "#مقادیر را به گونه ای تغییر دهید که یک مرز تصمیم مناسب دو دسته داده را از هم جدا کند\n",
        "#راهنمایی : تابع مهزینه در نهایت باید مقدار نزدیک به 0.2 داشته باشد\n",
        "#initialize theta and train logistic regression\n",
        "#انتخاب مقادیر اولیه  برای تتا\n",
        "\n",
        "\n",
        "#set epochs and learning rate\n",
        "#مقدار دهی برای نرخ یادگیری، تعداد تکرار\n",
        "\n",
        "#run gradientDescent and print theta and last cost\n",
        "\n",
        "\n",
        "#print theta\n",
        "\n",
        "\n",
        "#print last cost >>> J_history[-1]\n",
        "\n",
        "\n",
        "\n"
      ],
      "metadata": {
        "id": "7LWt0Uf24iUT"
      },
      "execution_count": null,
      "outputs": []
    },
    {
      "cell_type": "code",
      "source": [
        "#this function helps you plot the decision boundary \n",
        "#این تابع به شما کمک میکند تا مرز تصمیم را رسم کنید\n",
        "#آن را اجرا کنید\n",
        "def plotDecisionBoundary(plotData, theta, X, y):\n",
        "    \n",
        "    #make sure theta is a numpy array\n",
        "    theta = np.array(theta)\n",
        "    \n",
        "    \n",
        "    #Plot Data (remember first column in X is the intercept)\n",
        "    plotData(X, y)\n",
        "\n",
        "    if X.shape[1] <= 3:\n",
        "        # Only need 2 points to define a line, so choose two endpoints\n",
        "        plot_x = np.array([np.min(X[:, 1]) - 2, np.max(X[:, 1]) + 2])\n",
        "\n",
        "        # Calculate the decision boundary line\n",
        "        plot_y = (-1. / theta[2]) * (theta[1] * plot_x + theta[0])\n",
        "        \n",
        "        # Plot, and adjust axes for better viewing\n",
        "        plt.plot(plot_x, plot_y)\n",
        "\n",
        "        # Legend, specific for the exercise\n",
        "        plt.legend(['Passed', 'Not Passed', 'Decision Boundary'])\n",
        "        plt.xlim([30, 100])\n",
        "        plt.ylim([30, 100])\n",
        "    else:\n",
        "        # Here is the grid range\n",
        "        u = np.linspace(-1, 1.5, 50)\n",
        "        v = np.linspace(-1, 1.5, 50)\n",
        "\n",
        "        z = np.zeros((u.size, v.size))\n",
        "        # Evaluate z = theta*x over the grid\n",
        "        for i, ui in enumerate(u):\n",
        "            for j, vj in enumerate(v):\n",
        "                z[i, j] = np.dot(mapFeature(np.array([ui, vj], ndmin=2)), theta)\n",
        "\n",
        "        z = z.T  # important to transpose z before calling contour\n",
        "        # print(z)\n",
        "\n",
        "        # Plot z = 0\n",
        "        plt.contour(u, v, z, levels=[0], linewidths=2, colors='g')\n",
        "        plt.contourf(u, v, z, levels=[np.min(z), 0, np.max(z)], cmap='Greens', alpha=0.4)\n",
        "\n"
      ],
      "metadata": {
        "id": "hqMdIDdHQpCt"
      },
      "execution_count": null,
      "outputs": []
    },
    {
      "cell_type": "code",
      "source": [
        "print(\"shape of X is: \", X.shape)\n",
        "print(\"shape of Y is: \", Y.shape)"
      ],
      "metadata": {
        "id": "Rymli0MHgziu"
      },
      "execution_count": null,
      "outputs": []
    },
    {
      "cell_type": "code",
      "source": [
        "#convert X shape to (100, 2) (first delete x0 column then transpose)\n",
        "#Convert Y shape to (100,) >> use indexing Y[0, :]\n",
        "#برای استفاده از تابع رسم مرز تصمیم Y  و  X تبدیل ابعاد \n",
        "#plotDecisionBoundary فراخوانی تابع\n"
      ],
      "metadata": {
        "id": "2EH-fAm1Ru9t"
      },
      "execution_count": null,
      "outputs": []
    },
    {
      "cell_type": "markdown",
      "source": [
        "# Predict "
      ],
      "metadata": {
        "id": "KoEjTAOaDYFs"
      }
    },
    {
      "cell_type": "code",
      "source": [
        "#h(x) = sigmoid()\n",
        "#create a predict function that returns probability and class(use threshold 0.5)\n",
        "#تابعی بنویسید که تخمین مدل را هم به صورت احتمال بین 0 تا 1 و هم به صورت کلاس های مشخص شده برگرداند\n",
        "#از مقدار آستانه 0.5 استفاده کنید\n",
        "def predict():\n",
        "  \n",
        "  return prediction_prob, prediction_class\n",
        "  "
      ],
      "metadata": {
        "id": "lviRT-aXkriZ"
      },
      "execution_count": null,
      "outputs": []
    },
    {
      "cell_type": "code",
      "source": [
        "#call the predict function and print the output of model for all data X\n",
        "\n",
        "\n",
        "#print prediction_prob\n",
        "\n",
        "#print prediction_class\n",
        "\n",
        "#print real classes >> Y \n"
      ],
      "metadata": {
        "id": "7lkhieX2mFyk"
      },
      "execution_count": null,
      "outputs": []
    },
    {
      "cell_type": "markdown",
      "source": [
        "# Logistic Regression with regularization\n",
        "\n",
        "\n",
        "\n",
        "\n",
        "#  رگرسیون لاجستیک(کلاسفیکیشن) به همراه مقید سازی\n",
        "\n",
        "در این پروژه میخواهیم با استفاده از مقادیر دو آزمایش انجام شده برروی میکروچیپ ها\n",
        "\n",
        "تشخیص بدیم که آیا کفیت چیپ ها قابل قبول هست(1) یا نیست(0)\n",
        "\n",
        ":مشخصات دیتا\n",
        "\n",
        "دیتای ورودی : نتایج تست 1 و تست 2\n",
        "\n",
        "دیتای خروجی :کیفیت قابل قبول(1) یا کیفیت غیرقابل قبول(0)"
      ],
      "metadata": {
        "id": "nRdlaSwv6ZBT"
      }
    },
    {
      "cell_type": "code",
      "execution_count": null,
      "metadata": {
        "id": "T2SHnZ8u6ZBc"
      },
      "outputs": [],
      "source": [
        "#load data set from a csv file\n",
        "# csv لود کردن داده های موجود از یک فایل\n",
        "# project3data2.csv در اولین مرحله فایل مربوط به دیتای بخش اول را آپلود کنید\n",
        "#import pandas libaray for reading a csv file\n",
        "# به برنامه pandas اضافه کردن کتابخونه \n",
        "\n",
        "#import numpy\n",
        "\n",
        "\n",
        "\n",
        "\n",
        "#read data from project2-data1.csv file \n",
        "#داده ها را از فایل مشخص شده بخوانید\n",
        "\n",
        "\n",
        "#show a summary of data\n",
        "#نمایش خلاصه ای از داده ها\n"
      ]
    },
    {
      "cell_type": "code",
      "source": [
        "#split the data into input X and output Y\n",
        "#داده ها ی ورودی و خروجی را در دو متغیر جدا میریزیم\n",
        "#input feature\n",
        "\n",
        "#output\n",
        "\n",
        "\n",
        "#find m\n",
        "\n"
      ],
      "metadata": {
        "id": "KCo-roXq6ZBc"
      },
      "execution_count": null,
      "outputs": []
    },
    {
      "cell_type": "code",
      "source": [
        "print(X.shape, Y.shape)"
      ],
      "metadata": {
        "id": "sWtk78ud6ZBd"
      },
      "execution_count": null,
      "outputs": []
    },
    {
      "cell_type": "markdown",
      "source": [
        "# Data Visualization:\n",
        "\n",
        "# نمایش داده ها"
      ],
      "metadata": {
        "id": "X-vBIF9f6ZBd"
      }
    },
    {
      "cell_type": "code",
      "source": [
        "#function for plotting data\n",
        "#تابعی برای نمایش داده ها\n",
        "import matplotlib.pyplot as plt \n",
        "def plotData(X, y):\n",
        "    #Find Indices of pos and neg examples\n",
        "    #پیدا کردن شماره دیتاهای مربوط به دو دسته 0 و یک \n",
        "\n",
        "    # پیدا کردن اندیس یا شماره داده هایی با خروجی 1 \n",
        "    pos = (y == 1)\n",
        "    \n",
        "    #پیدا کردن اندیس یا شماره داده هایی با خروجی 0  \n",
        "    neg = (y == 0)\n",
        "\n",
        "    #plot positive examples (y==1) using red stars\n",
        "    #رسم داده های با خروجی 1 با ستاره های قرمز رنگ \n",
        "    plt.plot(X[pos,0], X[pos,1], 'r*', ms=10)\n",
        "\n",
        "    \n",
        "    #plot negetive examples (y==0) using red stars\n",
        "    #رسم داده های با خروجی 0 با دایره های آبی رنگ \n",
        "    plt.plot(X[neg, 0], X[neg, 1], 'bo', ms=8)\n",
        "    \n",
        "    "
      ],
      "metadata": {
        "id": "AGgVm8rZ6ZBd"
      },
      "execution_count": null,
      "outputs": []
    },
    {
      "cell_type": "code",
      "source": [
        "#Data visualization\n",
        "#نمایش داده ها اولین قدم بعد از لود کردن داده ها می باشد\n",
        "plotData(X, Y)\n",
        "\n",
        "plt.xlabel('test 1 score')\n",
        "plt.ylabel('test 2 score')\n",
        "# نمایش راهنمای داده ها\n",
        "plt.legend(['passed', 'not passed'])\n",
        "    "
      ],
      "metadata": {
        "id": "IWhbgxf-6ZBd"
      },
      "execution_count": null,
      "outputs": []
    },
    {
      "cell_type": "markdown",
      "source": [
        "as you saw above, the classes can not be separated using a line\n",
        "\n",
        "همانطور که میبینید داده ها را نمی توان توسط یک خط در دو کلاس جدا قرار داد\n",
        "\n",
        "we need a non-linear decision boundary\n",
        "\n",
        "ما باید از یک مرز تصمیم غیر خطی استفاده کنیم\n",
        "\n",
        "so we first must create new features using the mapFeature function\n",
        "\n",
        "برای اینکار ما باید ویژگی های جدیدی به صورت زیر توسط تابع آورده شده ، ایجاد کنیم\n",
        "\n",
        "<p align=\"center\" width=\"100%\">\n",
        "    <img width=\"70%\" src=\"https://drive.google.com/uc?id=1_gi7UyIuIQePo13IsdqtSi-idXZvctTo\">\n",
        "</p>"
      ],
      "metadata": {
        "id": "tt_GouIUG6yh"
      }
    },
    {
      "cell_type": "code",
      "source": [
        "#with the function below u can create polynomial features\n",
        "#keep in mind that this function adds x0 so we dont need to do it later\n",
        "#را هم اضافه میکند x0 دقت کنید که این تابع \n",
        "\n",
        "def mapFeature(X, degree=6):\n",
        "    X1 = X[:,0]\n",
        "    X2 = X[:,1]\n",
        "    if X1.ndim > 0:\n",
        "        out = [np.ones(X1.shape[0])]\n",
        "    else:\n",
        "        out = [np.ones(1)]\n",
        "\n",
        "    for i in range(1, degree + 1):\n",
        "        for j in range(i + 1):\n",
        "            out.append((X1 ** (i - j)) * (X2 ** j))\n",
        "\n",
        "    if X1.ndim > 0:\n",
        "        return np.stack(out, axis=1)\n",
        "    else:\n",
        "        return np.array(out)"
      ],
      "metadata": {
        "id": "AacfAfV3FkYd"
      },
      "execution_count": null,
      "outputs": []
    },
    {
      "cell_type": "code",
      "source": [
        "#call mapFeature with degree=6 to create new features\n",
        "X = mapFeature(X, 6)\n",
        "print(X.shape)"
      ],
      "metadata": {
        "id": "ac0ZMNHwF_Ji"
      },
      "execution_count": null,
      "outputs": []
    },
    {
      "cell_type": "code",
      "source": [
        "#print shapes of X and Y\n",
        "print(\"shape of X:\", X.shape)\n",
        "print(\"shape of Y:\", Y.shape)\n"
      ],
      "metadata": {
        "id": "bqEPgyoS6ZBd"
      },
      "execution_count": null,
      "outputs": []
    },
    {
      "cell_type": "markdown",
      "source": [
        "# creating X and Y matrices with the right dimensions as shown in the slide\n",
        "\n",
        "# دقیقا به صورتی که در اسلاید زیر نمایش داده شده است X,Y ایجاد ماتریس\n",
        "\n",
        "<p align=\"center\" width=\"100%\">\n",
        "    <img width=\"50%\" src=\"https://drive.google.com/uc?id=1wlGw9Mm6WJge83NeAtrn6jokvE6iShfU\">\n",
        "</p>"
      ],
      "metadata": {
        "id": "xYx8I9Ia6ZBd"
      }
    },
    {
      "cell_type": "code",
      "source": [
        "#Convert dimension X from (m, n) to (n, m)\n"
      ],
      "metadata": {
        "id": "mBhhxgYZ6ZBe"
      },
      "execution_count": null,
      "outputs": []
    },
    {
      "cell_type": "code",
      "source": [
        "#convert Y dimension from (m,) to (m, 1)\n",
        "\n",
        "#Convert dimension Y from (m, 1) to (1, m)\n"
      ],
      "metadata": {
        "id": "qsXwD1U36ZBe"
      },
      "execution_count": null,
      "outputs": []
    },
    {
      "cell_type": "markdown",
      "source": [
        "# **Cost Function with Regularization: implementation**\n",
        "\n",
        "# پیاده سازی تابع هزینه \n",
        "\n",
        "\n",
        "\n",
        "\n",
        "\n",
        "---\n",
        "# First method: simple implementation using for loop as shown inthe slide below\n",
        "\n",
        "روش اول: پیاده سازی ساده با استفاده از حلقه به صورت نشان داده شده در اسلاید زیر\n",
        "\n",
        "\n",
        "<p align=\"center\" width=\"100%\">\n",
        "    <img width=\"80%\" src=\"https://drive.google.com/uc?id=1dTN9GmNaKcM5ZIScH2P_vVLjG77t5sjg\">\n",
        "</p>\n",
        "\n",
        "\n",
        "\n",
        "---\n",
        "# Second method: vectorized implementation \n",
        "\n",
        "# روش دوم: پیاده سازی به صورت برداری\n",
        "\n",
        "\n",
        "<p align=\"center\" width=\"100%\">\n",
        "    <img width=\"80%\" src=\"https://drive.google.com/uc?id=1aEQiuNglUyi3rK_wF63BJoBK68oo4qVj\">\n",
        "</p>\n",
        "\n",
        "\n"
      ],
      "metadata": {
        "id": "0DZgy-_l6ZBe"
      }
    },
    {
      "cell_type": "code",
      "source": [
        "#create a function for sigmoid g = 1/(1 + e^-x)\n",
        "#ابتدا تابع سیگموید را پیاده سازی کنید\n",
        "def sigmoid(x):\n",
        "  g = \n",
        "  return g\n",
        "  "
      ],
      "metadata": {
        "id": "lX1_MkWZ6ZBe"
      },
      "execution_count": null,
      "outputs": []
    },
    {
      "cell_type": "code",
      "source": [
        "#create a function for computing cost J\n",
        "#تابعی بنویسید که تابع هزینه را محاسبه کند به صورت برداری\n",
        "def computeCostWithReg():\n",
        "  #find m\n",
        "  \n",
        "\n",
        "  # compute h using sigmoid function and thetatemp and X\n",
        "  \n",
        "\n",
        "  #use h and compute cost\n",
        "  #use np.log() for logarithm\n",
        "  #use np.transpose() for transpose \n",
        "  #np.matmul() for matrix multiplication\n",
        "  \n",
        "\n",
        "  return costWithReg\n"
      ],
      "metadata": {
        "id": "m1Ahl4JN6ZBe"
      },
      "execution_count": null,
      "outputs": []
    },
    {
      "cell_type": "code",
      "source": [
        "#initialize theta to a zero vector of shape (X.shape[0],1)>>> np.zeros((X.shape[0],1))\n",
        "#انتخاب تتای اولیه به صورت گفته شده \n",
        "\n",
        "\n",
        "#use the function you created to compute cost for initialized theta\n",
        "costWithReg = computeCostWithReg(X, Y, theta, lambda_=1)\n",
        "print(\"initial cost is:\", costWithReg)"
      ],
      "metadata": {
        "id": "-b_pO7SQ6ZBf"
      },
      "execution_count": null,
      "outputs": []
    },
    {
      "cell_type": "markdown",
      "source": [
        "پاسخ صحیح در صورت پیاده سازی درست  [[0.69314718]]"
      ],
      "metadata": {
        "id": "mu_SjIXv6ZBf"
      }
    },
    {
      "cell_type": "markdown",
      "source": [
        "# **Gradient Descent with Regularization: implementation**\n",
        "\n",
        "#  پیاده سازی کاهش گرادیان همراه با مقید سازی \n",
        "\n",
        "\n",
        "\n",
        "\n",
        "\n",
        "---\n",
        "# First method: simple implementation using for loop as shown in the slide below\n",
        "\n",
        "# روش اول: پیاده سازی ساده با استفاده از حلقه به صورت نشان داده شده در اسلاید زیر\n",
        "\n",
        "\n",
        "<p align=\"center\" width=\"100%\">\n",
        "    <img width=\"80%\" src=\"https://drive.google.com/uc?id=1906OIZGT-MUITqOD34_93Y7eg1ZHutjP\">\n",
        "</p>\n",
        "\n",
        "\n",
        "\n",
        "---\n",
        "# Second method: vectorized implementation \n",
        "\n",
        "# روش دوم: پیاده سازی به صورت برداری\n",
        "\n",
        "\n",
        "<p align=\"center\" width=\"100%\">\n",
        "    <img width=\"80%\" src=\"https://drive.google.com/uc?id=1v7z__YImgydKcngc4hnFdEsEbKBUO1L6\">\n",
        "</p>\n",
        "\n",
        "\n"
      ],
      "metadata": {
        "id": "0MKQ98iP6ZBf"
      }
    },
    {
      "cell_type": "code",
      "source": [
        "#create a function for vectorized gradient descent with regularization\n",
        "#\n",
        "def gradientDescentWithReg(X, Y, thetatemp, lr, epochs, lambda_):\n",
        " #find m\n",
        "  \n",
        "  \n",
        "  #create a list to store cost of each epoch\n",
        "  \n",
        "\n",
        "  #create a for loop for training\n",
        "  #ایجاد یک حلقه برای آموزش\n",
        "    #update thetatemp using vectorized gradient descentwith regularization\n",
        "    #آپدیت کردن تتا با استفاده از کاهش گرادیان مقید شده برداری داخل حلقه ایجاد شده\n",
        "    #save cost every epoch in the list you created outside the loop\n",
        "    #ذخیره مقدار تابع هزینه در هر تکرار\n",
        "  #this function returns thetatemp and history of cost \n",
        "  #این تابع، تتای آپدیت شده و لیست مقادیر تابع هزینه را برمی گرداند\n",
        "\n",
        "  return thetatemp, J_history "
      ],
      "metadata": {
        "id": "nicY07Lg6ZBf"
      },
      "execution_count": null,
      "outputs": []
    },
    {
      "cell_type": "code",
      "source": [
        "#مقادیر را به گونه ای تغییر دهید که یک مرز تصمیم مناسب دو دسته داده را از هم جدا کند\n",
        "\n",
        "#initialize theta and train logistic regression\n",
        "#انتخاب مقادیر اولیه 0 برای تتا\n",
        "\n",
        "\n",
        "#set epochs and learning rate\n",
        "#مقدار دهی برای نرخ یادگیری، تعداد تکرار\n",
        "\n",
        "\n",
        "#run gradientDescentWithReg, get theta and history of cost function every epoch and print theta and last cost\n",
        "\n",
        "\n",
        "#print theta\n",
        "#print(thetanew)\n",
        "\n",
        "\n",
        "#print last cost >>> J_history[-1]\n",
        "\n",
        "\n",
        "\n"
      ],
      "metadata": {
        "id": "pTN5tmmT6ZBf"
      },
      "execution_count": null,
      "outputs": []
    },
    {
      "cell_type": "code",
      "source": [
        "#this function helps you plot the decision boundary \n",
        "#این تابع به شما کمک میکند تا مرز تصمیم را رسم کنید\n",
        "#آن را اجرا کنید\n",
        "def plotDecisionBoundary(plotData, theta, X, y):\n",
        "    \n",
        "    #make sure theta is a numpy array\n",
        "    theta = np.array(theta)\n",
        "    \n",
        "    \n",
        "    #Plot Data (remember first column in X is the intercept)\n",
        "    plotData(X, y)\n",
        "\n",
        "    if X.shape[1] <= 3:\n",
        "        # Only need 2 points to define a line, so choose two endpoints\n",
        "        plot_x = np.array([np.min(X[:, 1]) - 2, np.max(X[:, 1]) + 2])\n",
        "\n",
        "        # Calculate the decision boundary line\n",
        "        plot_y = (-1. / theta[2]) * (theta[1] * plot_x + theta[0])\n",
        "        \n",
        "        # Plot, and adjust axes for better viewing\n",
        "        plt.plot(plot_x, plot_y)\n",
        "\n",
        "        # Legend, specific for the exercise\n",
        "        plt.legend(['Passed', 'Not Passed', 'Decision Boundary'])\n",
        "        plt.xlim([30, 100])\n",
        "        plt.ylim([30, 100])\n",
        "    else:\n",
        "        # Here is the grid range\n",
        "        u = np.linspace(-1, 1.5, 50)\n",
        "        v = np.linspace(-1, 1.5, 50)\n",
        "\n",
        "        z = np.zeros((u.size, v.size))\n",
        "        # Evaluate z = theta*x over the grid\n",
        "        for i, ui in enumerate(u):\n",
        "            for j, vj in enumerate(v):\n",
        "                z[i, j] = np.dot(mapFeature(np.array([ui, vj], ndmin=2)), theta)\n",
        "\n",
        "        z = z.T  # important to transpose z before calling contour\n",
        "        # print(z)\n",
        "\n",
        "        # Plot z = 0\n",
        "        plt.contour(u, v, z, levels=[0], linewidths=2, colors='g')\n",
        "        plt.contourf(u, v, z, levels=[np.min(z), 0, np.max(z)], cmap='Greens', alpha=0.4)\n",
        "\n"
      ],
      "metadata": {
        "id": "AecVl-LM6ZBg"
      },
      "execution_count": null,
      "outputs": []
    },
    {
      "cell_type": "code",
      "source": [
        "print(\"shape of X is: \", X.shape)\n",
        "print(\"shape of Y is: \", Y.shape)"
      ],
      "metadata": {
        "id": "x4kKerAm6ZBg"
      },
      "execution_count": null,
      "outputs": []
    },
    {
      "cell_type": "code",
      "source": [
        "#convert X shape to (100, 2) (first delete x0 column then transpose)\n",
        "#Convert Y shape to (100,) >> use indexing Y[0, :]\n",
        "#برای استفاده از تابع رسم مرز تصمیم Y  و  X تبدیل ابعاد \n",
        "#فراخوانی تابع\n",
        "#train you model with different parameters of lr and epochs and lamba_ to find a model with a good decision boundary\n",
        "#مدل را با پارامتر های مختلف آموزش دهید تا تاثیر این پارامتر ها برروی مرز تصمیم را مشاهده کنید\n",
        "#بعد از هر آموزش با استفاده از دستوری زیر مرز تصمیم را رسم کنید \n",
        "plotDecisionBoundary(plotData, thetanew, np.transpose(X[1:, :]), Y[0,:])"
      ],
      "metadata": {
        "colab": {
          "base_uri": "https://localhost:8080/",
          "height": 269
        },
        "outputId": "0f25fffd-7884-4327-a54c-b18bfd38f70b",
        "id": "0DUXLIWU6ZBg"
      },
      "execution_count": null,
      "outputs": [
        {
          "output_type": "display_data",
          "data": {
            "text/plain": [
              "<Figure size 432x288 with 1 Axes>"
            ],
            "image/png": "[encoded data removed]"
          },
          "metadata": {
            "needs_background": "light"
          }
        }
      ]
    },
    {
      "cell_type": "markdown",
      "source": [
        "# Predict "
      ],
      "metadata": {
        "id": "BFRKbeQV6ZBg"
      }
    },
    {
      "cell_type": "code",
      "source": [
        "#h(x) = sigmoid()\n",
        "#create a predict function that returns probability and class(use threshold 0.5)\n",
        "#تابعی بنویسید که تخمین مدل را هم به صورت احتمال بین 0 تا 1 و هم به صورت کلاس های مشخص شده برگرداند\n",
        "#از مقدار آستانه 0.5 استفاده کنید\n",
        "def predict(thetatemp, X):\n",
        "  \n",
        "  return prediction_prob, prediction_class\n",
        "  "
      ],
      "metadata": {
        "id": "BXyMz7Zb6ZBh"
      },
      "execution_count": null,
      "outputs": []
    },
    {
      "cell_type": "code",
      "source": [
        "#call the predict function and print the output of model for all data X\n",
        "prediction_prob, prediction_class = predict(thetanew, X)\n",
        "\n",
        "#print prediction_prob\n",
        "\n",
        "#print prediction_class\n",
        "#print real classes >> Y \n"
      ],
      "metadata": {
        "id": "kFDXw2TU6ZBh"
      },
      "execution_count": null,
      "outputs": []
    },
    {
      "cell_type": "markdown",
      "source": [
        "# Use scikit learn for logistic regression"
      ],
      "metadata": {
        "id": "zT9dxx78HHf-"
      }
    },
    {
      "cell_type": "code",
      "execution_count": null,
      "metadata": {
        "id": "DUK3rOMDIoFH",
        "colab": {
          "base_uri": "https://localhost:8080/",
          "height": 206
        },
        "outputId": "8b77cc43-e67a-4af2-b923-50d839e68a10"
      },
      "outputs": [
        {
          "output_type": "execute_result",
          "data": {
            "text/plain": [
              "      test1    test2  Quality\n",
              "0  0.051267  0.69956        1\n",
              "1 -0.092742  0.68494        1\n",
              "2 -0.213710  0.69225        1\n",
              "3 -0.375000  0.50219        1\n",
              "4 -0.513250  0.46564        1"
            ],
            "text/html": [
              "\n",
              "  <div id=\"df-f9394f3a-880b-4df7-9b1f-683f9ca399aa\">\n",
              "    <div class=\"colab-df-container\">\n",
              "      <div>\n",
              "<style scoped>\n",
              "    .dataframe tbody tr th:only-of-type {\n",
              "        vertical-align: middle;\n",
              "    }\n",
              "\n",
              "    .dataframe tbody tr th {\n",
              "        vertical-align: top;\n",
              "    }\n",
              "\n",
              "    .dataframe thead th {\n",
              "        text-align: right;\n",
              "    }\n",
              "</style>\n",
              "<table border=\"1\" class=\"dataframe\">\n",
              "  <thead>\n",
              "    <tr style=\"text-align: right;\">\n",
              "      <th></th>\n",
              "      <th>test1</th>\n",
              "      <th>test2</th>\n",
              "      <th>Quality</th>\n",
              "    </tr>\n",
              "  </thead>\n",
              "  <tbody>\n",
              "    <tr>\n",
              "      <th>0</th>\n",
              "      <td>0.051267</td>\n",
              "      <td>0.69956</td>\n",
              "      <td>1</td>\n",
              "    </tr>\n",
              "    <tr>\n",
              "      <th>1</th>\n",
              "      <td>-0.092742</td>\n",
              "      <td>0.68494</td>\n",
              "      <td>1</td>\n",
              "    </tr>\n",
              "    <tr>\n",
              "      <th>2</th>\n",
              "      <td>-0.213710</td>\n",
              "      <td>0.69225</td>\n",
              "      <td>1</td>\n",
              "    </tr>\n",
              "    <tr>\n",
              "      <th>3</th>\n",
              "      <td>-0.375000</td>\n",
              "      <td>0.50219</td>\n",
              "      <td>1</td>\n",
              "    </tr>\n",
              "    <tr>\n",
              "      <th>4</th>\n",
              "      <td>-0.513250</td>\n",
              "      <td>0.46564</td>\n",
              "      <td>1</td>\n",
              "    </tr>\n",
              "  </tbody>\n",
              "</table>\n",
              "</div>\n",
              "      <button class=\"colab-df-convert\" onclick=\"convertToInteractive('df-f9394f3a-880b-4df7-9b1f-683f9ca399aa')\"\n",
              "              title=\"Convert this dataframe to an interactive table.\"\n",
              "              style=\"display:none;\">\n",
              "        \n",
              "  <svg xmlns=\"http://www.w3.org/2000/svg\" height=\"24px\"viewBox=\"0 0 24 24\"\n",
              "       width=\"24px\">\n",
              "    <path d=\"M0 0h24v24H0V0z\" fill=\"none\"/>\n",
              "    <path d=\"M18.56 5.44l.94 2.06.94-2.06 2.06-.94-2.06-.94-.94-2.06-.94 2.06-2.06.94zm-11 1L8.5 8.5l.94-2.06 2.06-.94-2.06-.94L8.5 2.5l-.94 2.06-2.06.94zm10 10l.94 2.06.94-2.06 2.06-.94-2.06-.94-.94-2.06-.94 2.06-2.06.94z\"/><path d=\"M17.41 7.96l-1.37-1.37c-.4-.4-.92-.59-1.43-.59-.52 0-1.04.2-1.43.59L10.3 9.45l-7.72 7.72c-.78.78-.78 2.05 0 2.83L4 21.41c.39.39.9.59 1.41.59.51 0 1.02-.2 1.41-.59l7.78-7.78 2.81-2.81c.8-.78.8-2.07 0-2.86zM5.41 20L4 18.59l7.72-7.72 1.47 1.35L5.41 20z\"/>\n",
              "  </svg>\n",
              "      </button>\n",
              "      \n",
              "  <style>\n",
              "    .colab-df-container {\n",
              "      display:flex;\n",
              "      flex-wrap:wrap;\n",
              "      gap: 12px;\n",
              "    }\n",
              "\n",
              "    .colab-df-convert {\n",
              "      background-color: #E8F0FE;\n",
              "      border: none;\n",
              "      border-radius: 50%;\n",
              "      cursor: pointer;\n",
              "      display: none;\n",
              "      fill: #1967D2;\n",
              "      height: 32px;\n",
              "      padding: 0 0 0 0;\n",
              "      width: 32px;\n",
              "    }\n",
              "\n",
              "    .colab-df-convert:hover {\n",
              "      background-color: #E2EBFA;\n",
              "      box-shadow: 0px 1px 2px rgba(60, 64, 67, 0.3), 0px 1px 3px 1px rgba(60, 64, 67, 0.15);\n",
              "      fill: #174EA6;\n",
              "    }\n",
              "\n",
              "    [theme=dark] .colab-df-convert {\n",
              "      background-color: #3B4455;\n",
              "      fill: #D2E3FC;\n",
              "    }\n",
              "\n",
              "    [theme=dark] .colab-df-convert:hover {\n",
              "      background-color: #434B5C;\n",
              "      box-shadow: 0px 1px 3px 1px rgba(0, 0, 0, 0.15);\n",
              "      filter: drop-shadow(0px 1px 2px rgba(0, 0, 0, 0.3));\n",
              "      fill: #FFFFFF;\n",
              "    }\n",
              "  </style>\n",
              "\n",
              "      <script>\n",
              "        const buttonEl =\n",
              "          document.querySelector('#df-f9394f3a-880b-4df7-9b1f-683f9ca399aa button.colab-df-convert');\n",
              "        buttonEl.style.display =\n",
              "          google.colab.kernel.accessAllowed ? 'block' : 'none';\n",
              "\n",
              "        async function convertToInteractive(key) {\n",
              "          const element = document.querySelector('#df-f9394f3a-880b-4df7-9b1f-683f9ca399aa');\n",
              "          const dataTable =\n",
              "            await google.colab.kernel.invokeFunction('convertToInteractive',\n",
              "                                                     [key], {});\n",
              "          if (!dataTable) return;\n",
              "\n",
              "          const docLinkHtml = 'Like what you see? Visit the ' +\n",
              "            '<a target=\"_blank\" href=https://colab.research.google.com/notebooks/data_table.ipynb>data table notebook</a>'\n",
              "            + ' to learn more about interactive tables.';\n",
              "          element.innerHTML = '';\n",
              "          dataTable['output_type'] = 'display_data';\n",
              "          await google.colab.output.renderOutput(dataTable, element);\n",
              "          const docLink = document.createElement('div');\n",
              "          docLink.innerHTML = docLinkHtml;\n",
              "          element.appendChild(docLink);\n",
              "        }\n",
              "      </script>\n",
              "    </div>\n",
              "  </div>\n",
              "  "
            ]
          },
          "metadata": {},
          "execution_count": 325
        }
      ],
      "source": [
        "#load data set from a csv file\n",
        "# csv لود کردن داده های موجود از یک فایل\n",
        "# در اولین مرحله فایل مربوط به دیتای بخش دوم را آپلود کنید\n",
        "#import pandas libaray for reading a csv file\n",
        "# به برنامه pandas اضافه کردن کتابخونه \n",
        "import pandas as pd\n",
        "\n",
        "#read data from project2-data2.csv file \n",
        "#داده ها را از فایل مشخص شده بخوانید\n",
        "data2 = pd.read_csv(\"/content/project3data2.csv\")\n",
        "\n",
        "#show a summary of data\n",
        "#نمایش خلاصه ای از داده ها\n",
        "data2.head()"
      ]
    },
    {
      "cell_type": "code",
      "source": [
        "#split the data into input X and output Y\n",
        "#داده ها ی ورودی و خروجی را در دو متغیر جدا میریزیم\n",
        "#input feature\n",
        "X = data2.values[:, 0:2]\n",
        "\n",
        "#output\n",
        "Y = data2.values[:, 2]\n",
        "\n",
        "#find m\n",
        "m = Y.shape[0]\n"
      ],
      "metadata": {
        "id": "LzpnWw1VIoFH"
      },
      "execution_count": null,
      "outputs": []
    },
    {
      "cell_type": "code",
      "source": [
        "#with the function below u can create polynomial features\n",
        "#keep in mind that this function adds x0 so we dont need to do it later\n",
        "#راه اضافه میکند x0 دقت کنید که این تابع \n",
        "\n",
        "def mapFeature(X, degree=6):\n",
        "    X1 = X[:,0]\n",
        "    X2 = X[:,1]\n",
        "    if X1.ndim > 0:\n",
        "        out = [np.ones(X1.shape[0])]\n",
        "    else:\n",
        "        out = [np.ones(1)]\n",
        "\n",
        "    for i in range(1, degree + 1):\n",
        "        for j in range(i + 1):\n",
        "            out.append((X1 ** (i - j)) * (X2 ** j))\n",
        "\n",
        "    if X1.ndim > 0:\n",
        "        return np.stack(out, axis=1)\n",
        "    else:\n",
        "        return np.array(out)"
      ],
      "metadata": {
        "id": "6AR8ilMNPNKZ"
      },
      "execution_count": null,
      "outputs": []
    },
    {
      "cell_type": "code",
      "source": [
        "#call mapFeature with degree=6 to create new features\n",
        "X = mapFeature(X, 6)\n",
        "print(X.shape)"
      ],
      "metadata": {
        "colab": {
          "base_uri": "https://localhost:8080/"
        },
        "outputId": "9da4dd60-7e6c-4126-d9d6-ec13d8528509",
        "id": "tI1x1poAPYPx"
      },
      "execution_count": null,
      "outputs": [
        {
          "output_type": "stream",
          "name": "stdout",
          "text": [
            "(118, 28)\n"
          ]
        }
      ]
    },
    {
      "cell_type": "code",
      "source": [
        "#print shapes of X and Y\n",
        "print(\"shape of X:\", X.shape)\n",
        "print(\"shape of Y:\", Y.shape)\n"
      ],
      "metadata": {
        "colab": {
          "base_uri": "https://localhost:8080/"
        },
        "outputId": "5ce97d8a-59af-48f0-d457-66233252e88f",
        "id": "xtG7-x17PYP7"
      },
      "execution_count": null,
      "outputs": [
        {
          "output_type": "stream",
          "name": "stdout",
          "text": [
            "shape of X: (118, 28)\n",
            "shape of Y: (118,)\n"
          ]
        }
      ]
    },
    {
      "cell_type": "code",
      "source": [
        "from sklearn import linear_model\n",
        "\n",
        "model = linear_model.LogisticRegression()\n",
        "model.fit(X, Y)"
      ],
      "metadata": {
        "id": "SqLE-T_DHFVA",
        "colab": {
          "base_uri": "https://localhost:8080/"
        },
        "outputId": "44619c53-516e-47ff-8466-ff3ee24f9296"
      },
      "execution_count": null,
      "outputs": [
        {
          "output_type": "execute_result",
          "data": {
            "text/plain": [
              "LogisticRegression()"
            ]
          },
          "metadata": {},
          "execution_count": 339
        }
      ]
    },
    {
      "cell_type": "code",
      "source": [
        "#predict for input test1=0.2 and test2= 0.8\n",
        "test1 = 0.25\n",
        "test2 = 0.25\n",
        "model.predict(mapFeature(np.array([test1, test2], ndmin=2)))"
      ],
      "metadata": {
        "id": "hjFl_NVtINQR",
        "colab": {
          "base_uri": "https://localhost:8080/"
        },
        "outputId": "9e2309ad-19e9-4f82-d3b6-a7aa358acab3"
      },
      "execution_count": null,
      "outputs": [
        {
          "output_type": "execute_result",
          "data": {
            "text/plain": [
              "array([1.])"
            ]
          },
          "metadata": {},
          "execution_count": 353
        }
      ]
    }
  ]
}