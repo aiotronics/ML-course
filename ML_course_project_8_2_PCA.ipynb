{
  "nbformat": 4,
  "nbformat_minor": 0,
  "metadata": {
    "colab": {
      "name": "ML-course-project_8-2-PCA.ipynb",
      "provenance": [],
      "collapsed_sections": [],
      "mount_file_id": "1CShZoQXLQ2iKWtDttaoqb7YpIvkPXtqn",
      "authorship_tag": "ABX9TyMpPFAer+7blOBZ7g+uZ02E",
      "include_colab_link": true
    },
    "kernelspec": {
      "name": "python3",
      "display_name": "Python 3"
    },
    "language_info": {
      "name": "python"
    }
  },
  "cells": [
    {
      "cell_type": "markdown",
      "metadata": {
        "id": "view-in-github",
        "colab_type": "text"
      },
      "source": [
        "<a href=\"https://colab.research.google.com/github/javadvahid/ML-course/blob/main/ML_course_project_8_2_PCA.ipynb\" target=\"_parent\"><img src=\"https://colab.research.google.com/assets/colab-badge.svg\" alt=\"Open In Colab\"/></a>"
      ]
    },
    {
      "cell_type": "markdown",
      "source": [
        "#  PCA using scikit learn\n",
        "\n"
      ],
      "metadata": {
        "id": "kBOiSfZXZ_o7"
      }
    },
    {
      "cell_type": "code",
      "execution_count": null,
      "metadata": {
        "id": "74Jx5VbWYw6a",
        "colab": {
          "base_uri": "https://localhost:8080/"
        },
        "outputId": "e6dc2b3a-6135-4e08-9736-f80c81fbe51f"
      },
      "outputs": [
        {
          "output_type": "execute_result",
          "data": {
            "text/plain": [
              "dict_keys(['__header__', '__version__', '__globals__', 'X'])"
            ]
          },
          "metadata": {},
          "execution_count": 3
        }
      ],
      "source": [
        "#load data set\n",
        "#لود کردن داده های موجود\n",
        "# در اولین مرحله فایل مربوط به دیتای بخش اول را آپلود کنید\n",
        "#import numpy\n",
        "import numpy as np\n",
        "from scipy.io import loadmat\n",
        "\n",
        "\n",
        " \n",
        "#داده ها را از فایل مشخص شده بخوانید\n",
        "data1 = loadmat(\"/content/project8data1.mat\")\n",
        "\n",
        "#show a summary of data\n",
        "#نمایش خلاصه ای از داده ها\n",
        "data1.keys()"
      ]
    },
    {
      "cell_type": "code",
      "source": [
        "print(data1[\"X\"].shape)"
      ],
      "metadata": {
        "id": "XWhQu617o475"
      },
      "execution_count": null,
      "outputs": []
    },
    {
      "cell_type": "code",
      "source": [
        "#split the data into input X\n",
        "#داده ها ی ورودی و خروجی را در دو متغیر جدا میریزیم\n",
        "#input features\n",
        "X = data1[\"X\"]\n",
        "\n",
        "\n",
        "#find m\n",
        "m = X.shape[0]\n",
        "print(m)"
      ],
      "metadata": {
        "id": "6R6Ye28TuqJ5",
        "colab": {
          "base_uri": "https://localhost:8080/"
        },
        "outputId": "8361d2e4-afc1-4ebd-c256-99395403d7d2"
      },
      "execution_count": null,
      "outputs": [
        {
          "output_type": "stream",
          "name": "stdout",
          "text": [
            "50\n"
          ]
        }
      ]
    },
    {
      "cell_type": "markdown",
      "source": [
        "# Data Visualization:\n",
        "\n",
        "# نمایش داده ها"
      ],
      "metadata": {
        "id": "cBA2IJcIle0i"
      }
    },
    {
      "cell_type": "code",
      "source": [
        "import matplotlib.pyplot as plt\n",
        "plt.plot(X[:,0], X[:,1], 'ro')"
      ],
      "metadata": {
        "colab": {
          "base_uri": "https://localhost:8080/",
          "height": 282
        },
        "id": "qDbE5_5lps5I",
        "outputId": "f5af728b-c5fc-41aa-81bf-6df11855919e"
      },
      "execution_count": null,
      "outputs": [
        {
          "output_type": "execute_result",
          "data": {
            "text/plain": [
              "[<matplotlib.lines.Line2D at 0x7f111de1b0d0>]"
            ]
          },
          "metadata": {},
          "execution_count": 5
        },
        {
          "output_type": "display_data",
          "data": {
            "text/plain": [
              "<Figure size 432x288 with 1 Axes>"
            ],
            "image/png": "[encoded data removed]"
          },
          "metadata": {
            "needs_background": "light"
          }
        }
      ]
    },
    {
      "cell_type": "code",
      "source": [
        "#PCA using scikit learn\n",
        "from sklearn.decomposition import PCA\n",
        "pca = PCA(n_components=1)\n",
        "X1D = pca.fit_transform(X)\n"
      ],
      "metadata": {
        "id": "drM-iVJntQQK"
      },
      "execution_count": null,
      "outputs": []
    },
    {
      "cell_type": "code",
      "source": [
        "X"
      ],
      "metadata": {
        "colab": {
          "base_uri": "https://localhost:8080/"
        },
        "id": "UWBcZuupeNaJ",
        "outputId": "693c969f-6825-47cb-dca4-41790de585a0"
      },
      "execution_count": null,
      "outputs": [
        {
          "output_type": "execute_result",
          "data": {
            "text/plain": [
              "array([[3.38156267, 3.38911268],\n",
              "       [4.52787538, 5.8541781 ],\n",
              "       [2.65568187, 4.41199472],\n",
              "       [2.76523467, 3.71541365],\n",
              "       [2.84656011, 4.17550645],\n",
              "       [3.89067196, 6.48838087],\n",
              "       [3.47580524, 3.63284876],\n",
              "       [5.91129845, 6.68076853],\n",
              "       [3.92889397, 5.09844661],\n",
              "       [4.56183537, 5.62329929],\n",
              "       [4.57407171, 5.39765069],\n",
              "       [4.37173356, 5.46116549],\n",
              "       [4.19169388, 4.95469359],\n",
              "       [5.24408518, 4.66148767],\n",
              "       [2.8358402 , 3.76801716],\n",
              "       [5.63526969, 6.31211438],\n",
              "       [4.68632968, 5.6652411 ],\n",
              "       [2.85051337, 4.62645627],\n",
              "       [5.1101573 , 7.36319662],\n",
              "       [5.18256377, 4.64650909],\n",
              "       [5.70732809, 6.68103995],\n",
              "       [3.57968458, 4.80278074],\n",
              "       [5.63937773, 6.12043594],\n",
              "       [4.26346851, 4.68942896],\n",
              "       [2.53651693, 3.88449078],\n",
              "       [3.22382902, 4.94255585],\n",
              "       [4.92948801, 5.95501971],\n",
              "       [5.79295774, 5.10839305],\n",
              "       [2.81684824, 4.81895769],\n",
              "       [3.88882414, 5.10036564],\n",
              "       [3.34323419, 5.89301345],\n",
              "       [5.87973414, 5.52141664],\n",
              "       [3.10391912, 3.85710242],\n",
              "       [5.33150572, 4.68074235],\n",
              "       [3.37542687, 4.56537852],\n",
              "       [4.77667888, 6.25435039],\n",
              "       [2.6757463 , 3.73096988],\n",
              "       [5.50027665, 5.67948113],\n",
              "       [1.79709714, 3.24753885],\n",
              "       [4.3225147 , 5.11110472],\n",
              "       [4.42100445, 6.02563978],\n",
              "       [3.17929886, 4.43686032],\n",
              "       [3.03354125, 3.97879278],\n",
              "       [4.6093482 , 5.879792  ],\n",
              "       [2.96378859, 3.30024835],\n",
              "       [3.97176248, 5.40773735],\n",
              "       [1.18023321, 2.87869409],\n",
              "       [1.91895045, 5.07107848],\n",
              "       [3.95524687, 4.5053271 ],\n",
              "       [5.11795499, 6.08507386]])"
            ]
          },
          "metadata": {},
          "execution_count": 8
        }
      ]
    },
    {
      "cell_type": "code",
      "source": [
        "X1D"
      ],
      "metadata": {
        "colab": {
          "base_uri": "https://localhost:8080/"
        },
        "id": "vqcFBo3tvNB8",
        "outputId": "6730ef44-8adf-4e2e-a326-643dcd140ee6"
      },
      "execution_count": null,
      "outputs": [
        {
          "output_type": "execute_result",
          "data": {
            "text/plain": [
              "array([[ 1.49876595],\n",
              "       [-0.95839024],\n",
              "       [ 1.40325172],\n",
              "       [ 1.76421694],\n",
              "       [ 1.40760243],\n",
              "       [-0.87367998],\n",
              "       [ 1.27050164],\n",
              "       [-2.5506712 ],\n",
              "       [-0.01469839],\n",
              "       [-0.83694188],\n",
              "       [-0.70212917],\n",
              "       [-0.58711016],\n",
              "       [-0.12493311],\n",
              "       [-0.74690506],\n",
              "       [ 1.67629396],\n",
              "       [-2.10275704],\n",
              "       [-0.9594953 ],\n",
              "       [ 1.11633715],\n",
              "       [-2.37070273],\n",
              "       [-0.69001651],\n",
              "       [-2.39397485],\n",
              "       [ 0.44284714],\n",
              "       [-1.98340505],\n",
              "       [-0.01058959],\n",
              "       [ 1.83205377],\n",
              "       [ 0.62719172],\n",
              "       [-1.33171608],\n",
              "       [-1.4546727 ],\n",
              "       [ 1.01919098],\n",
              "       [ 0.01489202],\n",
              "       [-0.07212622],\n",
              "       [-1.78539513],\n",
              "       [ 1.41318051],\n",
              "       [-0.82644523],\n",
              "       [ 0.75167377],\n",
              "       [-1.40551081],\n",
              "       [ 1.82309802],\n",
              "       [-1.59458841],\n",
              "       [ 2.80783613],\n",
              "       [-0.32551527],\n",
              "       [-0.98578762],\n",
              "       [ 0.98465469],\n",
              "       [ 1.38952836],\n",
              "       [-1.03742062],\n",
              "       [ 1.87686597],\n",
              "       [-0.24535117],\n",
              "       [ 3.51800218],\n",
              "       [ 1.54860441],\n",
              "       [ 0.34412682],\n",
              "       [-1.55978675]])"
            ]
          },
          "metadata": {},
          "execution_count": 7
        }
      ]
    },
    {
      "cell_type": "code",
      "source": [
        "X1D.shape"
      ],
      "metadata": {
        "colab": {
          "base_uri": "https://localhost:8080/"
        },
        "id": "Cn6h6U1tvac-",
        "outputId": "02982c85-9686-43e6-8919-53d440b9941d"
      },
      "execution_count": null,
      "outputs": [
        {
          "output_type": "execute_result",
          "data": {
            "text/plain": [
              "(50, 1)"
            ]
          },
          "metadata": {},
          "execution_count": 9
        }
      ]
    },
    {
      "cell_type": "code",
      "source": [
        "#reconstruct the data\n",
        "X_reconstructed = pca.inverse_transform(X1D)"
      ],
      "metadata": {
        "id": "0MHJXIJN1l7G"
      },
      "execution_count": null,
      "outputs": []
    },
    {
      "cell_type": "code",
      "source": [
        "plt.plot(X_reconstructed[:,0], X_reconstructed[:,1], 'k*')\n",
        "plt.plot(X[:,0], X[:,1], 'ro')"
      ],
      "metadata": {
        "colab": {
          "base_uri": "https://localhost:8080/",
          "height": 282
        },
        "id": "SPN8y9aX1tpu",
        "outputId": "fc01163c-7065-49ad-bee8-b55633f38875"
      },
      "execution_count": null,
      "outputs": [
        {
          "output_type": "execute_result",
          "data": {
            "text/plain": [
              "[<matplotlib.lines.Line2D at 0x7f110eabee90>]"
            ]
          },
          "metadata": {},
          "execution_count": 11
        },
        {
          "output_type": "display_data",
          "data": {
            "text/plain": [
              "<Figure size 432x288 with 1 Axes>"
            ],
            "image/png": "[encoded data removed]"
          },
          "metadata": {
            "needs_background": "light"
          }
        }
      ]
    },
    {
      "cell_type": "markdown",
      "source": [
        "# **PCA on face images**"
      ],
      "metadata": {
        "id": "dgbpA6Gc61uq"
      }
    },
    {
      "cell_type": "code",
      "source": [
        "face_imgs = loadmat(\"/content/drive/MyDrive/ml-projects/week8/project8faces.mat\")\n",
        "face_imgs.keys()\n"
      ],
      "metadata": {
        "colab": {
          "base_uri": "https://localhost:8080/"
        },
        "id": "i5-OJ5yW61Lm",
        "outputId": "5442961c-9e86-4616-c516-0e103b09712d"
      },
      "execution_count": null,
      "outputs": [
        {
          "output_type": "execute_result",
          "data": {
            "text/plain": [
              "dict_keys(['__header__', '__version__', '__globals__', 'X'])"
            ]
          },
          "metadata": {},
          "execution_count": 12
        }
      ]
    },
    {
      "cell_type": "code",
      "source": [
        "data = face_imgs[\"X\"]\n",
        "data.shape"
      ],
      "metadata": {
        "colab": {
          "base_uri": "https://localhost:8080/"
        },
        "id": "1EBMbaXtAuoR",
        "outputId": "e697326b-fb88-41f0-d743-96b2d431fa26"
      },
      "execution_count": null,
      "outputs": [
        {
          "output_type": "execute_result",
          "data": {
            "text/plain": [
              "(5000, 1024)"
            ]
          },
          "metadata": {},
          "execution_count": 13
        }
      ]
    },
    {
      "cell_type": "code",
      "source": [
        "plt.figure(figsize=(2,2))\n",
        "plt.imshow(np.reshape(data[0, :], (32, 32)).T, cmap='gray')"
      ],
      "metadata": {
        "colab": {
          "base_uri": "https://localhost:8080/",
          "height": 176
        },
        "id": "qyeIkypYBbiJ",
        "outputId": "7c00ff09-900c-4f55-e058-ea5de738db72"
      },
      "execution_count": null,
      "outputs": [
        {
          "output_type": "execute_result",
          "data": {
            "text/plain": [
              "<matplotlib.image.AxesImage at 0x7f110c051ed0>"
            ]
          },
          "metadata": {},
          "execution_count": 20
        },
        {
          "output_type": "display_data",
          "data": {
            "text/plain": [
              "<Figure size 144x144 with 1 Axes>"
            ],
            "image/png": "[encoded data removed]"
          },
          "metadata": {
            "needs_background": "light"
          }
        }
      ]
    },
    {
      "cell_type": "code",
      "source": [
        "#feature scaling before PCA\n",
        "from sklearn import preprocessing\n",
        "\n",
        "scaler = preprocessing.StandardScaler().fit(data)\n",
        "data_norm = scaler.transform(data)"
      ],
      "metadata": {
        "id": "7WRgBcxNqKbZ"
      },
      "execution_count": null,
      "outputs": []
    },
    {
      "cell_type": "code",
      "source": [
        "pca_img = PCA(n_components=100)\n",
        "data_compressed = pca_img.fit_transform(data_norm)"
      ],
      "metadata": {
        "id": "8rEHKoXBEv3S"
      },
      "execution_count": null,
      "outputs": []
    },
    {
      "cell_type": "code",
      "source": [
        "data_compressed.shape"
      ],
      "metadata": {
        "colab": {
          "base_uri": "https://localhost:8080/"
        },
        "id": "weBQ3I26FK1-",
        "outputId": "5c20c127-5de2-41d8-a532-616459867e12"
      },
      "execution_count": null,
      "outputs": [
        {
          "output_type": "execute_result",
          "data": {
            "text/plain": [
              "(5000, 100)"
            ]
          },
          "metadata": {},
          "execution_count": 18
        }
      ]
    },
    {
      "cell_type": "code",
      "source": [
        "plt.figure(figsize=(2,2))\n",
        "plt.imshow(np.reshape(data_compressed[0, :], (10, 10)).T, cmap='gray')"
      ],
      "metadata": {
        "colab": {
          "base_uri": "https://localhost:8080/",
          "height": 174
        },
        "id": "c5SwTbLzFm0y",
        "outputId": "5a387f0d-f7b9-4a0f-f509-c2999eb33da3"
      },
      "execution_count": null,
      "outputs": [
        {
          "output_type": "execute_result",
          "data": {
            "text/plain": [
              "<matplotlib.image.AxesImage at 0x7f110e8f9f10>"
            ]
          },
          "metadata": {},
          "execution_count": 19
        },
        {
          "output_type": "display_data",
          "data": {
            "text/plain": [
              "<Figure size 144x144 with 1 Axes>"
            ],
            "image/png": "[encoded data removed]"
          },
          "metadata": {
            "needs_background": "light"
          }
        }
      ]
    },
    {
      "cell_type": "code",
      "source": [
        "data_recovered = pca_img.inverse_transform(data_compressed)"
      ],
      "metadata": {
        "id": "O_MUUVW0F3jR"
      },
      "execution_count": null,
      "outputs": []
    },
    {
      "cell_type": "code",
      "source": [
        "plt.figure(figsize=(2,2))\n",
        "plt.imshow(np.reshape(data_recovered[0, :], (32, 32)).T, cmap='gray')"
      ],
      "metadata": {
        "colab": {
          "base_uri": "https://localhost:8080/",
          "height": 176
        },
        "id": "2VMhxEXIGEaH",
        "outputId": "91a0c430-f4c3-4120-9130-2c376b2cd6c6"
      },
      "execution_count": null,
      "outputs": [
        {
          "output_type": "execute_result",
          "data": {
            "text/plain": [
              "<matplotlib.image.AxesImage at 0x7f110c02e950>"
            ]
          },
          "metadata": {},
          "execution_count": 22
        },
        {
          "output_type": "display_data",
          "data": {
            "text/plain": [
              "<Figure size 144x144 with 1 Axes>"
            ],
            "image/png": "[encoded data removed]"
          },
          "metadata": {
            "needs_background": "light"
          }
        }
      ]
    }
  ]
}