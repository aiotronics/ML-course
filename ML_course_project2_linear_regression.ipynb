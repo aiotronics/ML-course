{
  "nbformat": 4,
  "nbformat_minor": 0,
  "metadata": {
    "colab": {
      "name": "ML-course-project2-linear-regression.ipynb",
      "provenance": [],
      "collapsed_sections": [],
      "mount_file_id": "11m_YHw-zLFYTkvwBcJYtTwqxJjwAkfz3",
      "authorship_tag": "ABX9TyPj5GAzBjEFkCf050cwjAB9",
      "include_colab_link": true
    },
    "kernelspec": {
      "name": "python3",
      "display_name": "Python 3"
    },
    "language_info": {
      "name": "python"
    }
  },
  "cells": [
    {
      "cell_type": "markdown",
      "metadata": {
        "id": "view-in-github",
        "colab_type": "text"
      },
      "source": [
        "<a href=\"https://colab.research.google.com/github/javadvahid/ML-course/blob/main/ML_course_project2_linear_regression.ipynb\" target=\"_parent\"><img src=\"https://colab.research.google.com/assets/colab-badge.svg\" alt=\"Open In Colab\"/></a>"
      ]
    },
    {
      "cell_type": "markdown",
      "source": [
        "# Linear Regression With one Variable\n",
        "\n",
        "# رگرسیون خطی با یک متغیر ورودی\n",
        "\n",
        "در این پروژه هدف تخمین سود یک مغازه در یک شهر بر اساس جمعیت آن شهر می باشد\n",
        "\n",
        "مشخصات دیتا\n",
        "\n",
        "دیتای ورودی : جمعیت آن شهر(با واحد 10000 نفر)\n",
        "\n",
        "دیتای خروجی : سود آن مغازه(با واحد 10000 دلار)"
      ],
      "metadata": {
        "id": "kBOiSfZXZ_o7"
      }
    },
    {
      "cell_type": "code",
      "execution_count": null,
      "metadata": {
        "id": "74Jx5VbWYw6a",
        "colab": {
          "base_uri": "https://localhost:8080/",
          "height": 206
        },
        "outputId": "fe5a8e1e-c33c-46e9-d53f-46b905b0ff56"
      },
      "outputs": [
        {
          "output_type": "execute_result",
          "data": {
            "text/plain": [
              "   population(10K)  profit(10K$)\n",
              "0           6.1101       17.5920\n",
              "1           5.5277        9.1302\n",
              "2           8.5186       13.6620\n",
              "3           7.0032       11.8540\n",
              "4           5.8598        6.8233"
            ],
            "text/html": [
              "\n",
              "  <div id=\"df-316fbcbf-c00f-4251-9844-8b79ed26c575\">\n",
              "    <div class=\"colab-df-container\">\n",
              "      <div>\n",
              "<style scoped>\n",
              "    .dataframe tbody tr th:only-of-type {\n",
              "        vertical-align: middle;\n",
              "    }\n",
              "\n",
              "    .dataframe tbody tr th {\n",
              "        vertical-align: top;\n",
              "    }\n",
              "\n",
              "    .dataframe thead th {\n",
              "        text-align: right;\n",
              "    }\n",
              "</style>\n",
              "<table border=\"1\" class=\"dataframe\">\n",
              "  <thead>\n",
              "    <tr style=\"text-align: right;\">\n",
              "      <th></th>\n",
              "      <th>population(10K)</th>\n",
              "      <th>profit(10K$)</th>\n",
              "    </tr>\n",
              "  </thead>\n",
              "  <tbody>\n",
              "    <tr>\n",
              "      <th>0</th>\n",
              "      <td>6.1101</td>\n",
              "      <td>17.5920</td>\n",
              "    </tr>\n",
              "    <tr>\n",
              "      <th>1</th>\n",
              "      <td>5.5277</td>\n",
              "      <td>9.1302</td>\n",
              "    </tr>\n",
              "    <tr>\n",
              "      <th>2</th>\n",
              "      <td>8.5186</td>\n",
              "      <td>13.6620</td>\n",
              "    </tr>\n",
              "    <tr>\n",
              "      <th>3</th>\n",
              "      <td>7.0032</td>\n",
              "      <td>11.8540</td>\n",
              "    </tr>\n",
              "    <tr>\n",
              "      <th>4</th>\n",
              "      <td>5.8598</td>\n",
              "      <td>6.8233</td>\n",
              "    </tr>\n",
              "  </tbody>\n",
              "</table>\n",
              "</div>\n",
              "      <button class=\"colab-df-convert\" onclick=\"convertToInteractive('df-316fbcbf-c00f-4251-9844-8b79ed26c575')\"\n",
              "              title=\"Convert this dataframe to an interactive table.\"\n",
              "              style=\"display:none;\">\n",
              "        \n",
              "  <svg xmlns=\"http://www.w3.org/2000/svg\" height=\"24px\"viewBox=\"0 0 24 24\"\n",
              "       width=\"24px\">\n",
              "    <path d=\"M0 0h24v24H0V0z\" fill=\"none\"/>\n",
              "    <path d=\"M18.56 5.44l.94 2.06.94-2.06 2.06-.94-2.06-.94-.94-2.06-.94 2.06-2.06.94zm-11 1L8.5 8.5l.94-2.06 2.06-.94-2.06-.94L8.5 2.5l-.94 2.06-2.06.94zm10 10l.94 2.06.94-2.06 2.06-.94-2.06-.94-.94-2.06-.94 2.06-2.06.94z\"/><path d=\"M17.41 7.96l-1.37-1.37c-.4-.4-.92-.59-1.43-.59-.52 0-1.04.2-1.43.59L10.3 9.45l-7.72 7.72c-.78.78-.78 2.05 0 2.83L4 21.41c.39.39.9.59 1.41.59.51 0 1.02-.2 1.41-.59l7.78-7.78 2.81-2.81c.8-.78.8-2.07 0-2.86zM5.41 20L4 18.59l7.72-7.72 1.47 1.35L5.41 20z\"/>\n",
              "  </svg>\n",
              "      </button>\n",
              "      \n",
              "  <style>\n",
              "    .colab-df-container {\n",
              "      display:flex;\n",
              "      flex-wrap:wrap;\n",
              "      gap: 12px;\n",
              "    }\n",
              "\n",
              "    .colab-df-convert {\n",
              "      background-color: #E8F0FE;\n",
              "      border: none;\n",
              "      border-radius: 50%;\n",
              "      cursor: pointer;\n",
              "      display: none;\n",
              "      fill: #1967D2;\n",
              "      height: 32px;\n",
              "      padding: 0 0 0 0;\n",
              "      width: 32px;\n",
              "    }\n",
              "\n",
              "    .colab-df-convert:hover {\n",
              "      background-color: #E2EBFA;\n",
              "      box-shadow: 0px 1px 2px rgba(60, 64, 67, 0.3), 0px 1px 3px 1px rgba(60, 64, 67, 0.15);\n",
              "      fill: #174EA6;\n",
              "    }\n",
              "\n",
              "    [theme=dark] .colab-df-convert {\n",
              "      background-color: #3B4455;\n",
              "      fill: #D2E3FC;\n",
              "    }\n",
              "\n",
              "    [theme=dark] .colab-df-convert:hover {\n",
              "      background-color: #434B5C;\n",
              "      box-shadow: 0px 1px 3px 1px rgba(0, 0, 0, 0.15);\n",
              "      filter: drop-shadow(0px 1px 2px rgba(0, 0, 0, 0.3));\n",
              "      fill: #FFFFFF;\n",
              "    }\n",
              "  </style>\n",
              "\n",
              "      <script>\n",
              "        const buttonEl =\n",
              "          document.querySelector('#df-316fbcbf-c00f-4251-9844-8b79ed26c575 button.colab-df-convert');\n",
              "        buttonEl.style.display =\n",
              "          google.colab.kernel.accessAllowed ? 'block' : 'none';\n",
              "\n",
              "        async function convertToInteractive(key) {\n",
              "          const element = document.querySelector('#df-316fbcbf-c00f-4251-9844-8b79ed26c575');\n",
              "          const dataTable =\n",
              "            await google.colab.kernel.invokeFunction('convertToInteractive',\n",
              "                                                     [key], {});\n",
              "          if (!dataTable) return;\n",
              "\n",
              "          const docLinkHtml = 'Like what you see? Visit the ' +\n",
              "            '<a target=\"_blank\" href=https://colab.research.google.com/notebooks/data_table.ipynb>data table notebook</a>'\n",
              "            + ' to learn more about interactive tables.';\n",
              "          element.innerHTML = '';\n",
              "          dataTable['output_type'] = 'display_data';\n",
              "          await google.colab.output.renderOutput(dataTable, element);\n",
              "          const docLink = document.createElement('div');\n",
              "          docLink.innerHTML = docLinkHtml;\n",
              "          element.appendChild(docLink);\n",
              "        }\n",
              "      </script>\n",
              "    </div>\n",
              "  </div>\n",
              "  "
            ]
          },
          "metadata": {},
          "execution_count": 1
        }
      ],
      "source": [
        "#load data set from a csv file\n",
        "# csv لود کردن داده های موجود از یک فایل\n",
        "# در اولین مرحله فایل مربوط به دیتای بخش اول را آپلود کنید\n",
        "#import pandas libaray for reading a csv file\n",
        "# به برنامه pandas اضافه کردن کتابخونه \n",
        "import pandas as pd\n",
        "#import numpy\n",
        "import numpy as np\n",
        "\n",
        "\n",
        "\n",
        "#read data from project2-data1.csv file \n",
        "#داده ها را از فایل مشخص شده بخوانید\n",
        "data1 = pd.read_csv(\"/content/project2-data1.csv\")\n",
        "\n",
        "#show a summary of data\n",
        "#نمایش خلاصه ای از داده ها\n",
        "data1.head()"
      ]
    },
    {
      "cell_type": "code",
      "source": [
        "#split the data into input X and output Y\n",
        "#داده ها ی ورودی و خروجی را در دو متغیر جدا میریزیم\n",
        "#input feature\n",
        "X = data1.values[:, 0]\n",
        "#output\n",
        "Y = data1.values[:, 1]\n",
        "\n",
        "#find m\n",
        "m = Y.shape[0]\n",
        "print(m)"
      ],
      "metadata": {
        "id": "6R6Ye28TuqJ5",
        "colab": {
          "base_uri": "https://localhost:8080/"
        },
        "outputId": "229e9d11-7cdf-4def-e094-1b7249ae0a03"
      },
      "execution_count": null,
      "outputs": [
        {
          "output_type": "stream",
          "name": "stdout",
          "text": [
            "97\n"
          ]
        }
      ]
    },
    {
      "cell_type": "markdown",
      "source": [
        "# Data Visualization:\n",
        "\n",
        "# نمایش داده ها"
      ],
      "metadata": {
        "id": "cBA2IJcIle0i"
      }
    },
    {
      "cell_type": "code",
      "source": [
        "#function for plotting data\n",
        "#تابعی برای نمایش داده ها\n",
        "import matplotlib.pyplot as plt \n",
        "def plotData(x, y):\n",
        "    plt.plot(x, y, 'ro', ms=10, mec='k')\n",
        "    plt.ylabel('profit')\n",
        "    plt.xlabel('population')\n"
      ],
      "metadata": {
        "id": "83NBRgD6kdih"
      },
      "execution_count": null,
      "outputs": []
    },
    {
      "cell_type": "code",
      "source": [
        "#Data visualization\n",
        "#نمایش داده ها اولین قدم بعد از لود کردن داده ها می باشد\n",
        "plotData(X, Y)"
      ],
      "metadata": {
        "id": "s_DrN-R6b1yR",
        "colab": {
          "base_uri": "https://localhost:8080/",
          "height": 280
        },
        "outputId": "b51064d7-d837-4d1b-f9a1-bd2ab8036023"
      },
      "execution_count": null,
      "outputs": [
        {
          "output_type": "display_data",
          "data": {
            "text/plain": [
              "<Figure size 432x288 with 1 Axes>"
            ],
            "image/png": "[encoded data removed]"
          },
          "metadata": {
            "needs_background": "light"
          }
        }
      ]
    },
    {
      "cell_type": "code",
      "source": [
        "#print shapes of X and Y\n",
        "print(\"shape of X:\", X.shape)\n",
        "print(\"shape of Y:\", Y.shape)\n"
      ],
      "metadata": {
        "id": "qn_HRnyRm4Yv",
        "colab": {
          "base_uri": "https://localhost:8080/"
        },
        "outputId": "8b2e070c-6a07-4e3a-cf6c-0270f65e0b69"
      },
      "execution_count": null,
      "outputs": [
        {
          "output_type": "stream",
          "name": "stdout",
          "text": [
            "shape of X: (97,)\n",
            "shape of Y: (97,)\n"
          ]
        }
      ]
    },
    {
      "cell_type": "markdown",
      "source": [
        "# creating X and Y matrices with the right dimensions as shown in the slide\n",
        "\n",
        "# دقیقا به صورتی که در اسلاید زیر نمایش داده شده است X,Y ایجاد ماتریس\n",
        "\n",
        "<p align=\"center\" width=\"100%\">\n",
        "    <img width=\"50%\" src=\"https://drive.google.com/uc?id=1wlGw9Mm6WJge83NeAtrn6jokvE6iShfU\">\n",
        "</p>"
      ],
      "metadata": {
        "id": "uny3m8f1NMYM"
      }
    },
    {
      "cell_type": "code",
      "source": [
        "#convert X dimension from (m,) to (m, 1)\n",
        "X = np.expand_dims(X, 1)\n",
        "#Convert dimension X from (m, 1) to (1, m)\n",
        "X = np.transpose(X)\n",
        "X.shape"
      ],
      "metadata": {
        "id": "8oQBM6czX3U2",
        "colab": {
          "base_uri": "https://localhost:8080/"
        },
        "outputId": "04ad4f7f-2c20-4e40-c087-d6a9c5af965f"
      },
      "execution_count": null,
      "outputs": [
        {
          "output_type": "execute_result",
          "data": {
            "text/plain": [
              "(1, 97)"
            ]
          },
          "metadata": {},
          "execution_count": 12
        }
      ]
    },
    {
      "cell_type": "code",
      "source": [
        "#convert Y dimension from (m,) to (m, 1)\n",
        "Y = np.expand_dims(Y, 1)\n",
        "#Convert dimension Y from (m, 1) to (1, m)\n",
        "Y = np.transpose(Y)\n",
        "Y.shape"
      ],
      "metadata": {
        "id": "7PYU6ii1ngSV",
        "colab": {
          "base_uri": "https://localhost:8080/"
        },
        "outputId": "a6b3d022-ff80-4c22-9367-584990e5f656"
      },
      "execution_count": null,
      "outputs": [
        {
          "output_type": "execute_result",
          "data": {
            "text/plain": [
              "(1, 97)"
            ]
          },
          "metadata": {},
          "execution_count": 13
        }
      ]
    },
    {
      "cell_type": "code",
      "source": [
        "#add x0=1 to all the data \n",
        "#به همه داده ها x0=1 اضافه کردن \n",
        "X = np.concatenate([np.ones((1, m)), X], axis=0)\n",
        "X.shape"
      ],
      "metadata": {
        "id": "aBnkQbn4l_lM",
        "colab": {
          "base_uri": "https://localhost:8080/"
        },
        "outputId": "143da97e-358a-487b-9f8e-273fa6a244ed"
      },
      "execution_count": null,
      "outputs": [
        {
          "output_type": "execute_result",
          "data": {
            "text/plain": [
              "(2, 97)"
            ]
          },
          "metadata": {},
          "execution_count": 14
        }
      ]
    },
    {
      "cell_type": "markdown",
      "source": [
        "# cost function: vectorized implementation\n",
        "\n",
        "# پیاده سازی تابع هزینه به صورت برداری\n",
        "\n",
        "<p align=\"center\" width=\"100%\">\n",
        "    <img width=\"50%\" src=\"https://drive.google.com/uc?id=1BV9HwTMy296EehEJnzMlMD-7kQMp6mCW\">\n",
        "</p>"
      ],
      "metadata": {
        "id": "hpnHd6i2lSmc"
      }
    },
    {
      "cell_type": "code",
      "source": [
        "#create a function for computing cost J\n",
        "#تابعی بنویسید که تابع هزینه را محاسبه کند\n",
        "def computeCost(X, Y, thetatemp):\n",
        "  m = X.shape[1]\n",
        "\n",
        "  temp = np.matmul(np.transpose(thetatemp), X) - Y\n",
        "\n",
        "  cost = np.matmul(temp, np.transpose(temp)) / (2*m)\n",
        "\n",
        "  return cost\n"
      ],
      "metadata": {
        "id": "vhtwuO_0lSQb"
      },
      "execution_count": null,
      "outputs": []
    },
    {
      "cell_type": "code",
      "source": [
        "#initialize theta \n",
        "theta = np.array([[0], [0]])\n",
        "#use the function you created to compute J\n",
        "cost = computeCost(X, Y, theta)\n",
        "print(\"initial cost is:\", cost)"
      ],
      "metadata": {
        "id": "fDICzgyjw209",
        "colab": {
          "base_uri": "https://localhost:8080/"
        },
        "outputId": "ec927ff9-aa85-49ca-f02f-695c72c96e04"
      },
      "execution_count": null,
      "outputs": [
        {
          "output_type": "stream",
          "name": "stdout",
          "text": [
            "initial cost is: [[32.07273388]]\n"
          ]
        }
      ]
    },
    {
      "cell_type": "markdown",
      "source": [
        "# Gradient Descent: Vectorize implementation\n",
        "\n",
        "# پیاده سازی کاهش گرادیان به صورت برداری\n",
        "\n",
        "<p align=\"center\" width=\"100%\">\n",
        "    <img width=\"50%\" src=\"https://drive.google.com/uc?id=1PC-RF-8u2G67eB2BLvlBWikPthLxqYoM\">\n",
        "</p>"
      ],
      "metadata": {
        "id": "SkbyNcXV3S6u"
      }
    },
    {
      "cell_type": "code",
      "source": [
        "#create a function for gradient descent\n",
        "def gradientDescent(X, Y, thetatemp, lr, epochs):\n",
        "  m = X.shape[1]\n",
        "  J_history = []\n",
        "  for epoch in range(epochs):\n",
        "    temp = np.transpose(np.matmul(np.transpose(thetatemp), X) - Y)\n",
        "    thetatemp = thetatemp - (lr/m) * np.matmul(X, temp)\n",
        "\n",
        "    J_history.append(computeCost(X, Y, thetatemp)[0, 0])\n",
        "\n",
        "  return thetatemp, J_history  "
      ],
      "metadata": {
        "id": "fLw5lqvk2f7k"
      },
      "execution_count": null,
      "outputs": []
    },
    {
      "cell_type": "code",
      "source": [
        "#initialize theta and train linear regression\n",
        "#انتخاب مقادیر اولیه برای تتا\n",
        "theta = np.array([[0], [0]])\n",
        "\n",
        "#set epochs and learning rate\n",
        "#مقدار دهی برای نرخ یادگیری، تعداد تکرار\n",
        "epochs = 1500\n",
        "lr = 0.01\n",
        "#run gradient descent and print theta\n",
        "thetanew, J_history = gradientDescent(X, Y, theta, lr, epochs)\n",
        "print(thetanew)\n",
        "\n"
      ],
      "metadata": {
        "id": "7LWt0Uf24iUT",
        "colab": {
          "base_uri": "https://localhost:8080/"
        },
        "outputId": "365f5bec-7d37-465a-ee6f-811b5d538b9d"
      },
      "execution_count": null,
      "outputs": [
        {
          "output_type": "stream",
          "name": "stdout",
          "text": [
            "[[-3.63029144]\n",
            " [ 1.16636235]]\n"
          ]
        }
      ]
    },
    {
      "cell_type": "code",
      "source": [
        "#plot the line that fits the data\n",
        "#رسم کردن خطی که داده ها را مدل می کند\n",
        "\n",
        "#plot the original data\n",
        "plotData(X[1, :], Y[0, :])\n",
        "\n",
        "#plot the line\n",
        "plt.plot(X[1, :], np.matmul(np.transpose(thetanew), X)[0,:])\n",
        "\n"
      ],
      "metadata": {
        "id": "fuBmNCczFWBn",
        "colab": {
          "base_uri": "https://localhost:8080/",
          "height": 298
        },
        "outputId": "2535ab96-3743-45b8-e33c-26e419e6d6f0"
      },
      "execution_count": null,
      "outputs": [
        {
          "output_type": "execute_result",
          "data": {
            "text/plain": [
              "[<matplotlib.lines.Line2D at 0x7f0e9ead47d0>]"
            ]
          },
          "metadata": {},
          "execution_count": 25
        },
        {
          "output_type": "display_data",
          "data": {
            "text/plain": [
              "<Figure size 432x288 with 1 Axes>"
            ],
            "image/png": "[encoded data removed]"
          },
          "metadata": {
            "needs_background": "light"
          }
        }
      ]
    },
    {
      "cell_type": "code",
      "source": [
        "#predict profit for different populations\n",
        "#تخمین سود برای جمعیت های مختلف با استفاده از تتای به دست آمده\n",
        "#for population of 70000 \n",
        "profit = np.matmul(np.transpose(thetanew), np.array([[1], [7]]))\n",
        "print(\"profit(10K$): \", profit)\n",
        "print(\"profit($): \", profit*10000)"
      ],
      "metadata": {
        "id": "aMniExmqKK48",
        "colab": {
          "base_uri": "https://localhost:8080/"
        },
        "outputId": "00a13769-f805-47d8-c401-52949c38004a"
      },
      "execution_count": null,
      "outputs": [
        {
          "output_type": "stream",
          "name": "stdout",
          "text": [
            "profit(10K$):  [[4.53424501]]\n",
            "profit($):  [[45342.45012945]]\n"
          ]
        }
      ]
    },
    {
      "cell_type": "code",
      "source": [
        "thetanew[0]*1 + thetanew[1] * 7"
      ],
      "metadata": {
        "colab": {
          "base_uri": "https://localhost:8080/"
        },
        "id": "-LW6lz_EKp9w",
        "outputId": "9e1efd2c-3211-481d-c41c-f5b5970219e3"
      },
      "execution_count": null,
      "outputs": [
        {
          "output_type": "execute_result",
          "data": {
            "text/plain": [
              "array([4.53424501])"
            ]
          },
          "metadata": {},
          "execution_count": 29
        }
      ]
    },
    {
      "cell_type": "code",
      "source": [
        "#visualizing cost J each iteration\n",
        "#نمایش مقدار تابع هزینه در هر تکرار\n",
        "plt.plot(J_history)"
      ],
      "metadata": {
        "id": "uWmooeEaLprJ",
        "colab": {
          "base_uri": "https://localhost:8080/",
          "height": 282
        },
        "outputId": "1f09a7cc-70e8-423b-d37a-5bf339a34039"
      },
      "execution_count": null,
      "outputs": [
        {
          "output_type": "execute_result",
          "data": {
            "text/plain": [
              "[<matplotlib.lines.Line2D at 0x7f0e9eac0810>]"
            ]
          },
          "metadata": {},
          "execution_count": 30
        },
        {
          "output_type": "display_data",
          "data": {
            "text/plain": [
              "<Figure size 432x288 with 1 Axes>"
            ],
            "image/png": "[encoded data removed]"
          },
          "metadata": {
            "needs_background": "light"
          }
        }
      ]
    },
    {
      "cell_type": "markdown",
      "source": [
        "# Linear Regression with multiple features\n",
        "\n",
        "# رگرسیون خطی با چند ویژگی ورودی\n",
        "\n",
        "predict price of the house using multiple input features\n",
        "\n",
        "تخمین قیمت خانه با استفاده از چند ویژگی ورودی\n",
        "\n",
        "input featrues are size of the house and number of bedroomss\n",
        "\n",
        "ویژگی های ورودی اندازه خانه و تعداد اتاق خواب ها می باشد\n",
        "\n"
      ],
      "metadata": {
        "id": "pmjH3EwAQfXH"
      }
    },
    {
      "cell_type": "code",
      "execution_count": 1,
      "metadata": {
        "id": "xszjRzzrU66Q",
        "colab": {
          "base_uri": "https://localhost:8080/",
          "height": 206
        },
        "outputId": "32b76077-975e-44eb-c124-9b0cae386a79"
      },
      "outputs": [
        {
          "output_type": "execute_result",
          "data": {
            "text/plain": [
              "   size  #bedroom   price\n",
              "0  2104         3  399900\n",
              "1  1600         3  329900\n",
              "2  2400         3  369000\n",
              "3  1416         2  232000\n",
              "4  3000         4  539900"
            ],
            "text/html": [
              "\n",
              "  <div id=\"df-abd87da3-318c-460b-8c54-23d41f50e8eb\">\n",
              "    <div class=\"colab-df-container\">\n",
              "      <div>\n",
              "<style scoped>\n",
              "    .dataframe tbody tr th:only-of-type {\n",
              "        vertical-align: middle;\n",
              "    }\n",
              "\n",
              "    .dataframe tbody tr th {\n",
              "        vertical-align: top;\n",
              "    }\n",
              "\n",
              "    .dataframe thead th {\n",
              "        text-align: right;\n",
              "    }\n",
              "</style>\n",
              "<table border=\"1\" class=\"dataframe\">\n",
              "  <thead>\n",
              "    <tr style=\"text-align: right;\">\n",
              "      <th></th>\n",
              "      <th>size</th>\n",
              "      <th>#bedroom</th>\n",
              "      <th>price</th>\n",
              "    </tr>\n",
              "  </thead>\n",
              "  <tbody>\n",
              "    <tr>\n",
              "      <th>0</th>\n",
              "      <td>2104</td>\n",
              "      <td>3</td>\n",
              "      <td>399900</td>\n",
              "    </tr>\n",
              "    <tr>\n",
              "      <th>1</th>\n",
              "      <td>1600</td>\n",
              "      <td>3</td>\n",
              "      <td>329900</td>\n",
              "    </tr>\n",
              "    <tr>\n",
              "      <th>2</th>\n",
              "      <td>2400</td>\n",
              "      <td>3</td>\n",
              "      <td>369000</td>\n",
              "    </tr>\n",
              "    <tr>\n",
              "      <th>3</th>\n",
              "      <td>1416</td>\n",
              "      <td>2</td>\n",
              "      <td>232000</td>\n",
              "    </tr>\n",
              "    <tr>\n",
              "      <th>4</th>\n",
              "      <td>3000</td>\n",
              "      <td>4</td>\n",
              "      <td>539900</td>\n",
              "    </tr>\n",
              "  </tbody>\n",
              "</table>\n",
              "</div>\n",
              "      <button class=\"colab-df-convert\" onclick=\"convertToInteractive('df-abd87da3-318c-460b-8c54-23d41f50e8eb')\"\n",
              "              title=\"Convert this dataframe to an interactive table.\"\n",
              "              style=\"display:none;\">\n",
              "        \n",
              "  <svg xmlns=\"http://www.w3.org/2000/svg\" height=\"24px\"viewBox=\"0 0 24 24\"\n",
              "       width=\"24px\">\n",
              "    <path d=\"M0 0h24v24H0V0z\" fill=\"none\"/>\n",
              "    <path d=\"M18.56 5.44l.94 2.06.94-2.06 2.06-.94-2.06-.94-.94-2.06-.94 2.06-2.06.94zm-11 1L8.5 8.5l.94-2.06 2.06-.94-2.06-.94L8.5 2.5l-.94 2.06-2.06.94zm10 10l.94 2.06.94-2.06 2.06-.94-2.06-.94-.94-2.06-.94 2.06-2.06.94z\"/><path d=\"M17.41 7.96l-1.37-1.37c-.4-.4-.92-.59-1.43-.59-.52 0-1.04.2-1.43.59L10.3 9.45l-7.72 7.72c-.78.78-.78 2.05 0 2.83L4 21.41c.39.39.9.59 1.41.59.51 0 1.02-.2 1.41-.59l7.78-7.78 2.81-2.81c.8-.78.8-2.07 0-2.86zM5.41 20L4 18.59l7.72-7.72 1.47 1.35L5.41 20z\"/>\n",
              "  </svg>\n",
              "      </button>\n",
              "      \n",
              "  <style>\n",
              "    .colab-df-container {\n",
              "      display:flex;\n",
              "      flex-wrap:wrap;\n",
              "      gap: 12px;\n",
              "    }\n",
              "\n",
              "    .colab-df-convert {\n",
              "      background-color: #E8F0FE;\n",
              "      border: none;\n",
              "      border-radius: 50%;\n",
              "      cursor: pointer;\n",
              "      display: none;\n",
              "      fill: #1967D2;\n",
              "      height: 32px;\n",
              "      padding: 0 0 0 0;\n",
              "      width: 32px;\n",
              "    }\n",
              "\n",
              "    .colab-df-convert:hover {\n",
              "      background-color: #E2EBFA;\n",
              "      box-shadow: 0px 1px 2px rgba(60, 64, 67, 0.3), 0px 1px 3px 1px rgba(60, 64, 67, 0.15);\n",
              "      fill: #174EA6;\n",
              "    }\n",
              "\n",
              "    [theme=dark] .colab-df-convert {\n",
              "      background-color: #3B4455;\n",
              "      fill: #D2E3FC;\n",
              "    }\n",
              "\n",
              "    [theme=dark] .colab-df-convert:hover {\n",
              "      background-color: #434B5C;\n",
              "      box-shadow: 0px 1px 3px 1px rgba(0, 0, 0, 0.15);\n",
              "      filter: drop-shadow(0px 1px 2px rgba(0, 0, 0, 0.3));\n",
              "      fill: #FFFFFF;\n",
              "    }\n",
              "  </style>\n",
              "\n",
              "      <script>\n",
              "        const buttonEl =\n",
              "          document.querySelector('#df-abd87da3-318c-460b-8c54-23d41f50e8eb button.colab-df-convert');\n",
              "        buttonEl.style.display =\n",
              "          google.colab.kernel.accessAllowed ? 'block' : 'none';\n",
              "\n",
              "        async function convertToInteractive(key) {\n",
              "          const element = document.querySelector('#df-abd87da3-318c-460b-8c54-23d41f50e8eb');\n",
              "          const dataTable =\n",
              "            await google.colab.kernel.invokeFunction('convertToInteractive',\n",
              "                                                     [key], {});\n",
              "          if (!dataTable) return;\n",
              "\n",
              "          const docLinkHtml = 'Like what you see? Visit the ' +\n",
              "            '<a target=\"_blank\" href=https://colab.research.google.com/notebooks/data_table.ipynb>data table notebook</a>'\n",
              "            + ' to learn more about interactive tables.';\n",
              "          element.innerHTML = '';\n",
              "          dataTable['output_type'] = 'display_data';\n",
              "          await google.colab.output.renderOutput(dataTable, element);\n",
              "          const docLink = document.createElement('div');\n",
              "          docLink.innerHTML = docLinkHtml;\n",
              "          element.appendChild(docLink);\n",
              "        }\n",
              "      </script>\n",
              "    </div>\n",
              "  </div>\n",
              "  "
            ]
          },
          "metadata": {},
          "execution_count": 1
        }
      ],
      "source": [
        "#load data set from a csv file\n",
        "# csv لود کردن داده های موجود از یک فایل\n",
        "# در اولین مرحله فایل مربوط به دیتای بخش دوم را آپلود کنید\n",
        "#import pandas libaray for reading a csv file\n",
        "# به برنامه pandas اضافه کردن کتابخونه \n",
        "import pandas as pd\n",
        "import numpy as np\n",
        "#read data from project2-data2.csv file \n",
        "#داده ها را از فایل مشخص شده بخوانید\n",
        "data2 = pd.read_csv(\"/content/project2-data2.csv\")\n",
        "\n",
        "#show a summary of data\n",
        "#نمایش خلاصه ای از داده ها\n",
        "data2.head()"
      ]
    },
    {
      "cell_type": "code",
      "source": [
        "#split the data into input X and output Y\n",
        "#داده ها ی ورودی و خروجی را در دو متغیر جدا میریزیم\n",
        "#input feature\n",
        "X = data2.values[:, 0:2]\n",
        "\n",
        "#output\n",
        "Y = data2.values[:, 2]\n",
        "\n",
        "#find m\n",
        "m = Y.shape[0]\n",
        "print(m)"
      ],
      "metadata": {
        "id": "0Lv5NAoLU66Z",
        "colab": {
          "base_uri": "https://localhost:8080/"
        },
        "outputId": "142f8b61-33e7-4fa2-cb50-c7b8fc906148"
      },
      "execution_count": 3,
      "outputs": [
        {
          "output_type": "stream",
          "name": "stdout",
          "text": [
            "47\n"
          ]
        }
      ]
    },
    {
      "cell_type": "markdown",
      "source": [
        "# mean Normalization:\n",
        "\n",
        "<p align=\"center\" width=\"100%\">\n",
        "    <img width=\"50%\" src=\"https://drive.google.com/uc?id=1OZfebBMmcG1woMpGg0ad3qDJ6Nd06Kh7\">\n",
        "</p>"
      ],
      "metadata": {
        "id": "_ShgmqnobnmM"
      }
    },
    {
      "cell_type": "code",
      "source": [
        "def featureNormalize(X):\n",
        "  X_norm = X.copy()\n",
        "  mean = np.mean(X_norm, axis=0)\n",
        "  range1 = np.max(X_norm, axis=0) - np.min(X_norm, axis=0)\n",
        "  #we can also use standard deviation (sigma) instead of range = max - min\n",
        "  #sigma = np.std(X_norm, axis=0)\n",
        "  X_norm = (X_norm - mean)/(range1)\n",
        "  #X_norm = (X_norm - mean)/(sigma)\n",
        "  \n",
        "  return X_norm, mean, range1"
      ],
      "metadata": {
        "id": "Q4LI3vNxcB7e"
      },
      "execution_count": 4,
      "outputs": []
    },
    {
      "cell_type": "code",
      "source": [
        "X_norm, mean, range1 = featureNormalize(X)\n",
        "print(\"mean:\", mean)\n",
        "print(\"range1 :\", range1)"
      ],
      "metadata": {
        "id": "SnNE3zVlfA4S",
        "colab": {
          "base_uri": "https://localhost:8080/"
        },
        "outputId": "661294be-d557-4ca9-f595-985656a9587f"
      },
      "execution_count": 5,
      "outputs": [
        {
          "output_type": "stream",
          "name": "stdout",
          "text": [
            "mean: [2000.68085106    3.17021277]\n",
            "range1 : [3626    4]\n"
          ]
        }
      ]
    },
    {
      "cell_type": "markdown",
      "source": [
        "# Data Visualization:\n",
        "\n",
        "# نمایش داده ها"
      ],
      "metadata": {
        "id": "CXXKeNj-U66a"
      }
    },
    {
      "cell_type": "code",
      "source": [
        "#function for plotting data\n",
        "#تابعی برای نمایش داده ها\n",
        "import matplotlib.pyplot as plt \n",
        "def plotData(x, y):\n",
        "    plt.plot(x, y, 'ro', ms=10, mec='k')\n",
        "    plt.ylabel('output')\n",
        "    plt.xlabel('input')\n"
      ],
      "metadata": {
        "id": "UdUNus3EU66a"
      },
      "execution_count": 6,
      "outputs": []
    },
    {
      "cell_type": "code",
      "source": [
        "#Data visualization\n",
        "#نمایش داده ها اولین قدم بعد از لود کردن داده ها می باشد\n",
        "\n",
        "#plot price-size before normalization\n",
        "plotData(X[:,0], Y)"
      ],
      "metadata": {
        "id": "Oln9cxWSU66a",
        "colab": {
          "base_uri": "https://localhost:8080/",
          "height": 279
        },
        "outputId": "6585961c-6f76-4cb7-b9ec-f778c50a4be7"
      },
      "execution_count": 7,
      "outputs": [
        {
          "output_type": "display_data",
          "data": {
            "text/plain": [
              "<Figure size 432x288 with 1 Axes>"
            ],
            "image/png": "[encoded data removed]"
          },
          "metadata": {
            "needs_background": "light"
          }
        }
      ]
    },
    {
      "cell_type": "code",
      "source": [
        "#Data visualization\n",
        "#نمایش داده ها اولین قدم بعد از لود کردن داده ها می باشد\n",
        "\n",
        "#plot price-size after normalization\n",
        "plotData(X_norm[:,0], Y)"
      ],
      "metadata": {
        "id": "oht2xsjJhdj7",
        "colab": {
          "base_uri": "https://localhost:8080/",
          "height": 279
        },
        "outputId": "cd15cc1c-c7a1-4a62-fc98-955c6b9ee6e3"
      },
      "execution_count": 8,
      "outputs": [
        {
          "output_type": "display_data",
          "data": {
            "text/plain": [
              "<Figure size 432x288 with 1 Axes>"
            ],
            "image/png": "[encoded data removed]"
          },
          "metadata": {
            "needs_background": "light"
          }
        }
      ]
    },
    {
      "cell_type": "code",
      "source": [
        "#Data visualization\n",
        "#نمایش داده ها اولین قدم بعد از لود کردن داده ها می باشد\n",
        "\n",
        "#plot price-#bedroom before normalization\n",
        "plotData(X[:,1], Y)"
      ],
      "metadata": {
        "id": "fO9_B_O9We7O",
        "colab": {
          "base_uri": "https://localhost:8080/",
          "height": 279
        },
        "outputId": "160acdae-1343-4c64-b966-951e2a64d939"
      },
      "execution_count": 9,
      "outputs": [
        {
          "output_type": "display_data",
          "data": {
            "text/plain": [
              "<Figure size 432x288 with 1 Axes>"
            ],
            "image/png": "[encoded data removed]"
          },
          "metadata": {
            "needs_background": "light"
          }
        }
      ]
    },
    {
      "cell_type": "code",
      "source": [
        "#Data visualization\n",
        "#نمایش داده ها اولین قدم بعد از لود کردن داده ها می باشد\n",
        "\n",
        "#plot price-#bedroom after normalization\n",
        "plotData(X_norm[:,1], Y)"
      ],
      "metadata": {
        "id": "dubywliBke13",
        "colab": {
          "base_uri": "https://localhost:8080/",
          "height": 279
        },
        "outputId": "f628a08c-83a1-44dc-b895-96856d13c046"
      },
      "execution_count": 10,
      "outputs": [
        {
          "output_type": "display_data",
          "data": {
            "text/plain": [
              "<Figure size 432x288 with 1 Axes>"
            ],
            "image/png": "[encoded data removed]"
          },
          "metadata": {
            "needs_background": "light"
          }
        }
      ]
    },
    {
      "cell_type": "markdown",
      "source": [
        "# change the dimenson of matrices X and Y if necessary\n",
        "\n",
        "<p align=\"center\" width=\"100%\">\n",
        "    <img width=\"50%\" src=\"https://drive.google.com/uc?id=1wlGw9Mm6WJge83NeAtrn6jokvE6iShfU\">\n",
        "</p>"
      ],
      "metadata": {
        "id": "zSNZIUC9FA8X"
      }
    },
    {
      "cell_type": "code",
      "source": [
        "print(\"shape of X_norm: \",X_norm.shape)\n",
        "print(\"shape of Y: \",Y.shape)"
      ],
      "metadata": {
        "id": "Q-MYHQceFwfP",
        "colab": {
          "base_uri": "https://localhost:8080/"
        },
        "outputId": "f701b948-2e61-4bd4-9d0b-142064b4ea79"
      },
      "execution_count": 11,
      "outputs": [
        {
          "output_type": "stream",
          "name": "stdout",
          "text": [
            "shape of X_norm:  (47, 2)\n",
            "shape of Y:  (47,)\n"
          ]
        }
      ]
    },
    {
      "cell_type": "code",
      "source": [
        "#change the dimensions from (m x n) to (n x m)\n",
        "X_norm = np.transpose(X_norm)\n",
        "X_norm.shape"
      ],
      "metadata": {
        "id": "v7Iq4I0mku2J",
        "colab": {
          "base_uri": "https://localhost:8080/"
        },
        "outputId": "ee5ba940-b2c0-4839-be5e-8fcab65f6e20"
      },
      "execution_count": 12,
      "outputs": [
        {
          "output_type": "execute_result",
          "data": {
            "text/plain": [
              "(2, 47)"
            ]
          },
          "metadata": {},
          "execution_count": 12
        }
      ]
    },
    {
      "cell_type": "code",
      "source": [
        "#convert Y dimension from (m,) to (m, 1)\n",
        "Y = np.expand_dims(Y, 1)\n",
        "#Convert dimension Y from (m, 1) to (1, m)\n",
        "Y = np.transpose(Y)\n",
        "Y.shape"
      ],
      "metadata": {
        "id": "HqmXV64kocf-",
        "colab": {
          "base_uri": "https://localhost:8080/"
        },
        "outputId": "f70006d5-a262-4ef6-bdc6-5e9b9e4f6882"
      },
      "execution_count": 13,
      "outputs": [
        {
          "output_type": "execute_result",
          "data": {
            "text/plain": [
              "(1, 47)"
            ]
          },
          "metadata": {},
          "execution_count": 13
        }
      ]
    },
    {
      "cell_type": "code",
      "source": [
        "print(\"shape of X_norm: \",X_norm.shape)\n",
        "print(\"shape of Y: \",Y.shape)"
      ],
      "metadata": {
        "id": "E6mu52e4F-hX",
        "colab": {
          "base_uri": "https://localhost:8080/"
        },
        "outputId": "3ccfd6db-1c7c-4cee-bd78-171a9f0dc59d"
      },
      "execution_count": 14,
      "outputs": [
        {
          "output_type": "stream",
          "name": "stdout",
          "text": [
            "shape of X_norm:  (2, 47)\n",
            "shape of Y:  (1, 47)\n"
          ]
        }
      ]
    },
    {
      "cell_type": "code",
      "source": [
        "#add x0=1 to all the data\n",
        "#به همه داده ها x0=1 اضافه کردن \n",
        "import numpy as np\n",
        "m = X_norm.shape[1]\n",
        "X_norm = np.concatenate([np.ones((1, m)), X_norm], axis=0)\n",
        "X_norm.shape"
      ],
      "metadata": {
        "id": "kaWgCOHAU66b",
        "colab": {
          "base_uri": "https://localhost:8080/"
        },
        "outputId": "56f9d8b9-d2f2-4ddb-d074-cc76b474d5fa"
      },
      "execution_count": 15,
      "outputs": [
        {
          "output_type": "execute_result",
          "data": {
            "text/plain": [
              "(3, 47)"
            ]
          },
          "metadata": {},
          "execution_count": 15
        }
      ]
    },
    {
      "cell_type": "code",
      "source": [
        "#create a function for computing cost J\n",
        "#تابعی بنویسید که تابع هزینه را محاسبه کند\n",
        "def computeCost(X, Y, thetatemp):\n",
        "  m = X.shape[1]\n",
        "  \n",
        "  temp = np.matmul(np.transpose(thetatemp), X) - Y\n",
        "  cost = (1/(2*m)) * np.matmul(temp, np.transpose(temp))\n",
        "\n",
        "  return cost\n"
      ],
      "metadata": {
        "id": "GBhkalp8xnvx"
      },
      "execution_count": 16,
      "outputs": []
    },
    {
      "cell_type": "code",
      "source": [
        "#initialize theta \n",
        "theta = np.array([[0], [0], [0]])\n",
        "#sue the function computeCost to compute J\n",
        "J = computeCost(X_norm, Y, theta)\n",
        "print(\"cost with initial theta\", J)"
      ],
      "metadata": {
        "id": "A5mC9TG6xnv7",
        "colab": {
          "base_uri": "https://localhost:8080/"
        },
        "outputId": "247d227b-5324-44d7-af30-4f13386f4559"
      },
      "execution_count": 17,
      "outputs": [
        {
          "output_type": "stream",
          "name": "stdout",
          "text": [
            "cost with initial theta [[6.55915481e+10]]\n"
          ]
        }
      ]
    },
    {
      "cell_type": "code",
      "source": [
        "#create a function for gradient descent\n",
        "def gradientDescent(X, Y, thetatemp, lr, num_epochs):\n",
        "  m = X.shape[1]\n",
        "  #use a python list to save cost every epoch\n",
        "  J_history = []\n",
        "\n",
        "  for epoch in range(num_epochs):\n",
        "    temp = np.matmul(X, np.transpose(np.matmul(np.transpose(thetatemp), X) - Y))\n",
        "    \n",
        "    thetatemp = thetatemp - (lr/m)*temp\n",
        "    J_history.append(computeCost(X, Y, thetatemp)[0,0])\n",
        "\n",
        "  return thetatemp, J_history  "
      ],
      "metadata": {
        "id": "kkqXnGw1xnv7"
      },
      "execution_count": 18,
      "outputs": []
    },
    {
      "cell_type": "code",
      "source": [
        "#initialize theta and train linear regression\n",
        "#انتخاب مقادیر اولیه برای تتا\n",
        "#set epochs and learning rate\n",
        "#مقدار دهی برای نرخ یادگیری، تعداد تکرار\n",
        "theta = np.array([[-1], [0], [-1]])\n",
        "epochs = 500\n",
        "lr = 0.001\n",
        "theta, J_history = gradientDescent(X_norm, Y, theta, lr, epochs)\n",
        "print(theta)"
      ],
      "metadata": {
        "id": "GQEkfGK_xnv7",
        "colab": {
          "base_uri": "https://localhost:8080/"
        },
        "outputId": "66be9374-568b-41c4-98e3-253be5176766"
      },
      "execution_count": 19,
      "outputs": [
        {
          "output_type": "stream",
          "name": "stdout",
          "text": [
            "[[133992.98386537]\n",
            " [ 11303.93463133]\n",
            " [  5037.79834439]]\n"
          ]
        }
      ]
    },
    {
      "cell_type": "code",
      "source": [
        "#preidct values for features size=500 and #bedrooms=5\n",
        "#first normalize the features\n",
        "x1norm = (500-mean[0])/range1[0]\n",
        "x2norm = (5-mean[1])/range1[1]\n",
        "print(\"x1norm : \", x1norm)\n",
        "print(\"x2norm : \", x2norm)\n",
        "price = theta[0] + theta[1] * x1norm + theta[2] * x2norm\n",
        "print(\"predicted price = \", price)"
      ],
      "metadata": {
        "id": "-z6FoQ6uMxlP",
        "colab": {
          "base_uri": "https://localhost:8080/"
        },
        "outputId": "ccd2c443-0d21-46bb-c43d-284e1be86c81"
      },
      "execution_count": 20,
      "outputs": [
        {
          "output_type": "stream",
          "name": "stdout",
          "text": [
            "x1norm :  -0.4138667542922862\n",
            "x2norm :  0.45744680851063835\n",
            "predicted price =  [131619.18590333]\n"
          ]
        }
      ]
    },
    {
      "cell_type": "code",
      "source": [
        "#visualizing cost J each iteration\n",
        "#نمایش مقدار تابع هزینه در هر تکرار\n",
        "plt.plot(J_history)"
      ],
      "metadata": {
        "id": "5P4678XjzvoI",
        "colab": {
          "base_uri": "https://localhost:8080/",
          "height": 294
        },
        "outputId": "b0e55a4d-a590-41e1-ddb1-117f69a5ca59"
      },
      "execution_count": 21,
      "outputs": [
        {
          "output_type": "execute_result",
          "data": {
            "text/plain": [
              "[<matplotlib.lines.Line2D at 0x7f8dba637a90>]"
            ]
          },
          "metadata": {},
          "execution_count": 21
        },
        {
          "output_type": "display_data",
          "data": {
            "text/plain": [
              "<Figure size 432x288 with 1 Axes>"
            ],
            "image/png": "[encoded data removed]"
          },
          "metadata": {
            "needs_background": "light"
          }
        }
      ]
    },
    {
      "cell_type": "markdown",
      "source": [
        "# Use scikit learn for linear regression"
      ],
      "metadata": {
        "id": "zT9dxx78HHf-"
      }
    },
    {
      "cell_type": "code",
      "execution_count": 22,
      "metadata": {
        "id": "DUK3rOMDIoFH",
        "colab": {
          "base_uri": "https://localhost:8080/",
          "height": 206
        },
        "outputId": "63a007a7-76b9-470f-87f2-ac30e9b82e83"
      },
      "outputs": [
        {
          "output_type": "execute_result",
          "data": {
            "text/plain": [
              "   size  #bedroom   price\n",
              "0  2104         3  399900\n",
              "1  1600         3  329900\n",
              "2  2400         3  369000\n",
              "3  1416         2  232000\n",
              "4  3000         4  539900"
            ],
            "text/html": [
              "\n",
              "  <div id=\"df-aa580189-b792-406d-a1b1-3d78b1b7be97\">\n",
              "    <div class=\"colab-df-container\">\n",
              "      <div>\n",
              "<style scoped>\n",
              "    .dataframe tbody tr th:only-of-type {\n",
              "        vertical-align: middle;\n",
              "    }\n",
              "\n",
              "    .dataframe tbody tr th {\n",
              "        vertical-align: top;\n",
              "    }\n",
              "\n",
              "    .dataframe thead th {\n",
              "        text-align: right;\n",
              "    }\n",
              "</style>\n",
              "<table border=\"1\" class=\"dataframe\">\n",
              "  <thead>\n",
              "    <tr style=\"text-align: right;\">\n",
              "      <th></th>\n",
              "      <th>size</th>\n",
              "      <th>#bedroom</th>\n",
              "      <th>price</th>\n",
              "    </tr>\n",
              "  </thead>\n",
              "  <tbody>\n",
              "    <tr>\n",
              "      <th>0</th>\n",
              "      <td>2104</td>\n",
              "      <td>3</td>\n",
              "      <td>399900</td>\n",
              "    </tr>\n",
              "    <tr>\n",
              "      <th>1</th>\n",
              "      <td>1600</td>\n",
              "      <td>3</td>\n",
              "      <td>329900</td>\n",
              "    </tr>\n",
              "    <tr>\n",
              "      <th>2</th>\n",
              "      <td>2400</td>\n",
              "      <td>3</td>\n",
              "      <td>369000</td>\n",
              "    </tr>\n",
              "    <tr>\n",
              "      <th>3</th>\n",
              "      <td>1416</td>\n",
              "      <td>2</td>\n",
              "      <td>232000</td>\n",
              "    </tr>\n",
              "    <tr>\n",
              "      <th>4</th>\n",
              "      <td>3000</td>\n",
              "      <td>4</td>\n",
              "      <td>539900</td>\n",
              "    </tr>\n",
              "  </tbody>\n",
              "</table>\n",
              "</div>\n",
              "      <button class=\"colab-df-convert\" onclick=\"convertToInteractive('df-aa580189-b792-406d-a1b1-3d78b1b7be97')\"\n",
              "              title=\"Convert this dataframe to an interactive table.\"\n",
              "              style=\"display:none;\">\n",
              "        \n",
              "  <svg xmlns=\"http://www.w3.org/2000/svg\" height=\"24px\"viewBox=\"0 0 24 24\"\n",
              "       width=\"24px\">\n",
              "    <path d=\"M0 0h24v24H0V0z\" fill=\"none\"/>\n",
              "    <path d=\"M18.56 5.44l.94 2.06.94-2.06 2.06-.94-2.06-.94-.94-2.06-.94 2.06-2.06.94zm-11 1L8.5 8.5l.94-2.06 2.06-.94-2.06-.94L8.5 2.5l-.94 2.06-2.06.94zm10 10l.94 2.06.94-2.06 2.06-.94-2.06-.94-.94-2.06-.94 2.06-2.06.94z\"/><path d=\"M17.41 7.96l-1.37-1.37c-.4-.4-.92-.59-1.43-.59-.52 0-1.04.2-1.43.59L10.3 9.45l-7.72 7.72c-.78.78-.78 2.05 0 2.83L4 21.41c.39.39.9.59 1.41.59.51 0 1.02-.2 1.41-.59l7.78-7.78 2.81-2.81c.8-.78.8-2.07 0-2.86zM5.41 20L4 18.59l7.72-7.72 1.47 1.35L5.41 20z\"/>\n",
              "  </svg>\n",
              "      </button>\n",
              "      \n",
              "  <style>\n",
              "    .colab-df-container {\n",
              "      display:flex;\n",
              "      flex-wrap:wrap;\n",
              "      gap: 12px;\n",
              "    }\n",
              "\n",
              "    .colab-df-convert {\n",
              "      background-color: #E8F0FE;\n",
              "      border: none;\n",
              "      border-radius: 50%;\n",
              "      cursor: pointer;\n",
              "      display: none;\n",
              "      fill: #1967D2;\n",
              "      height: 32px;\n",
              "      padding: 0 0 0 0;\n",
              "      width: 32px;\n",
              "    }\n",
              "\n",
              "    .colab-df-convert:hover {\n",
              "      background-color: #E2EBFA;\n",
              "      box-shadow: 0px 1px 2px rgba(60, 64, 67, 0.3), 0px 1px 3px 1px rgba(60, 64, 67, 0.15);\n",
              "      fill: #174EA6;\n",
              "    }\n",
              "\n",
              "    [theme=dark] .colab-df-convert {\n",
              "      background-color: #3B4455;\n",
              "      fill: #D2E3FC;\n",
              "    }\n",
              "\n",
              "    [theme=dark] .colab-df-convert:hover {\n",
              "      background-color: #434B5C;\n",
              "      box-shadow: 0px 1px 3px 1px rgba(0, 0, 0, 0.15);\n",
              "      filter: drop-shadow(0px 1px 2px rgba(0, 0, 0, 0.3));\n",
              "      fill: #FFFFFF;\n",
              "    }\n",
              "  </style>\n",
              "\n",
              "      <script>\n",
              "        const buttonEl =\n",
              "          document.querySelector('#df-aa580189-b792-406d-a1b1-3d78b1b7be97 button.colab-df-convert');\n",
              "        buttonEl.style.display =\n",
              "          google.colab.kernel.accessAllowed ? 'block' : 'none';\n",
              "\n",
              "        async function convertToInteractive(key) {\n",
              "          const element = document.querySelector('#df-aa580189-b792-406d-a1b1-3d78b1b7be97');\n",
              "          const dataTable =\n",
              "            await google.colab.kernel.invokeFunction('convertToInteractive',\n",
              "                                                     [key], {});\n",
              "          if (!dataTable) return;\n",
              "\n",
              "          const docLinkHtml = 'Like what you see? Visit the ' +\n",
              "            '<a target=\"_blank\" href=https://colab.research.google.com/notebooks/data_table.ipynb>data table notebook</a>'\n",
              "            + ' to learn more about interactive tables.';\n",
              "          element.innerHTML = '';\n",
              "          dataTable['output_type'] = 'display_data';\n",
              "          await google.colab.output.renderOutput(dataTable, element);\n",
              "          const docLink = document.createElement('div');\n",
              "          docLink.innerHTML = docLinkHtml;\n",
              "          element.appendChild(docLink);\n",
              "        }\n",
              "      </script>\n",
              "    </div>\n",
              "  </div>\n",
              "  "
            ]
          },
          "metadata": {},
          "execution_count": 22
        }
      ],
      "source": [
        "#load data set from a csv file\n",
        "# csv لود کردن داده های موجود از یک فایل\n",
        "# در اولین مرحله فایل مربوط به دیتای بخش دوم را آپلود کنید\n",
        "#import pandas libaray for reading a csv file\n",
        "# به برنامه pandas اضافه کردن کتابخونه \n",
        "import pandas as pd\n",
        "import numpy as np\n",
        "\n",
        "#read data from project2-data2.csv file \n",
        "#داده ها را از فایل مشخص شده بخوانید\n",
        "data2 = pd.read_csv(\"/content/project2-data2.csv\")\n",
        "\n",
        "#show a summary of data\n",
        "#نمایش خلاصه ای از داده ها\n",
        "data2.head()"
      ]
    },
    {
      "cell_type": "code",
      "source": [
        "#split the data into input X and output Y\n",
        "#داده ها ی ورودی و خروجی را در دو متغیر جدا میریزیم\n",
        "#input feature\n",
        "X = data2.values[:, 0:2]\n",
        "\n",
        "#output\n",
        "Y = data2.values[:, 2]\n",
        "\n",
        "#find m\n",
        "m = Y.shape[0]\n"
      ],
      "metadata": {
        "id": "LzpnWw1VIoFH"
      },
      "execution_count": 23,
      "outputs": []
    },
    {
      "cell_type": "code",
      "source": [
        "def featureNormalize(X):\n",
        "  X_norm = X.copy()\n",
        "  mean = np.mean(X_norm, axis=0)\n",
        "  range1 = np.max(X_norm, axis=0) - np.min(X_norm, axis=0)\n",
        "  #we can also use standard deviation (sigma) instead of range = max - min\n",
        "  #sigma = np.std(X_norm, axis=0)\n",
        "  X_norm = (X_norm - mean)/(range1)\n",
        "  #X_norm = (X_norm - mean)/(sigma)\n",
        "  \n",
        "  return X_norm, mean, range1"
      ],
      "metadata": {
        "id": "GezfvuswPyss"
      },
      "execution_count": 24,
      "outputs": []
    },
    {
      "cell_type": "code",
      "source": [
        "X_norm, mean, range1 = featureNormalize(X)\n"
      ],
      "metadata": {
        "id": "GYo4W5jPPys5"
      },
      "execution_count": 25,
      "outputs": []
    },
    {
      "cell_type": "code",
      "source": [
        "from sklearn import linear_model\n",
        "\n",
        "model = linear_model.SGDRegressor(loss='squared_error' ,\n",
        "                                  fit_intercept=True,\n",
        "                                  max_iter=5000,\n",
        "                                  learning_rate='constant',\n",
        "                                  eta0=0.001)\n",
        "model.fit(X_norm, Y)"
      ],
      "metadata": {
        "id": "SqLE-T_DHFVA",
        "colab": {
          "base_uri": "https://localhost:8080/"
        },
        "outputId": "3b261f78-d32e-4276-bf04-03e2518b0384"
      },
      "execution_count": 26,
      "outputs": [
        {
          "output_type": "execute_result",
          "data": {
            "text/plain": [
              "SGDRegressor(eta0=0.001, learning_rate='constant', max_iter=5000)"
            ]
          },
          "metadata": {},
          "execution_count": 26
        }
      ]
    },
    {
      "cell_type": "code",
      "source": [
        "#predict for input size=500 and #bedrooms= 5\n",
        "x1norm = (500-mean[0])/range1[0]\n",
        "x2norm = (5-mean[1])/range1[1]\n",
        "model.predict(np.array([[x1norm, x2norm]]))"
      ],
      "metadata": {
        "id": "hjFl_NVtINQR",
        "colab": {
          "base_uri": "https://localhost:8080/"
        },
        "outputId": "680f4f62-414e-4eb9-89b8-cb424cc7cf48"
      },
      "execution_count": 27,
      "outputs": [
        {
          "output_type": "execute_result",
          "data": {
            "text/plain": [
              "array([130563.32496494])"
            ]
          },
          "metadata": {},
          "execution_count": 27
        }
      ]
    }
  ]
}